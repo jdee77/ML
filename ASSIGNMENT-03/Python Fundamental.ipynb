{
 "cells": [
  {
   "cell_type": "markdown",
   "id": "ece5d499",
   "metadata": {},
   "source": [
    "# PYTHON "
   ]
  },
  {
   "cell_type": "code",
   "execution_count": 1,
   "id": "ad355b9a",
   "metadata": {},
   "outputs": [
    {
     "name": "stdout",
     "output_type": "stream",
     "text": [
      "Hello world\n"
     ]
    }
   ],
   "source": [
    "print(\"Hello world\")"
   ]
  },
  {
   "cell_type": "code",
   "execution_count": 17,
   "id": "39aeb341",
   "metadata": {},
   "outputs": [],
   "source": [
    "# classes and objects \n",
    "# PROCEDURAL PROGRAMMING LANGUAGE \n",
    "# VS OBJECT ORIENTED PROGRAMMING LANGUAGE \n",
    "\n",
    "# CLASS -> BLUEPRINT OF REAL WORLD ENTITY \n",
    "# OBJECT -> INSTANCE OF A CLASS\n",
    " "
   ]
  },
  {
   "cell_type": "markdown",
   "id": "57e7ca8f",
   "metadata": {},
   "source": [
    "INHERITANCE \n",
    "\n",
    "a base class inherits properties of parent class"
   ]
  },
  {
   "cell_type": "code",
   "execution_count": 22,
   "id": "0fca5a08",
   "metadata": {},
   "outputs": [
    {
     "ename": "TypeError",
     "evalue": "__init__() missing 1 required positional argument: 'price'",
     "output_type": "error",
     "traceback": [
      "\u001b[1;31m---------------------------------------------------------------------------\u001b[0m",
      "\u001b[1;31mTypeError\u001b[0m                                 Traceback (most recent call last)",
      "Input \u001b[1;32mIn [22]\u001b[0m, in \u001b[0;36m<cell line: 16>\u001b[1;34m()\u001b[0m\n\u001b[0;32m     12\u001b[0m         car\u001b[38;5;241m.\u001b[39m\u001b[38;5;21m__init__\u001b[39m(modelname, yearOfManufacture, price)\n\u001b[0;32m     13\u001b[0m         \u001b[38;5;28mself\u001b[39m\u001b[38;5;241m.\u001b[39mcc \u001b[38;5;241m=\u001b[39m cc\n\u001b[1;32m---> 16\u001b[0m honda \u001b[38;5;241m=\u001b[39m \u001b[43msuperCar\u001b[49m\u001b[43m(\u001b[49m\u001b[38;5;124;43m'\u001b[39;49m\u001b[38;5;124;43mCity\u001b[39;49m\u001b[38;5;124;43m'\u001b[39;49m\u001b[43m,\u001b[49m\u001b[43m \u001b[49m\u001b[38;5;241;43m2017\u001b[39;49m\u001b[43m,\u001b[49m\u001b[43m \u001b[49m\u001b[38;5;241;43m10000\u001b[39;49m\u001b[43m,\u001b[49m\u001b[43m \u001b[49m\u001b[38;5;241;43m20\u001b[39;49m\u001b[43m)\u001b[49m\n\u001b[0;32m     17\u001b[0m \u001b[38;5;28mprint\u001b[39m(honda\u001b[38;5;241m.\u001b[39m\u001b[38;5;18m__dict__\u001b[39m)\n",
      "Input \u001b[1;32mIn [22]\u001b[0m, in \u001b[0;36msuperCar.__init__\u001b[1;34m(self, modelname, yearOfManufacture, price, cc)\u001b[0m\n\u001b[0;32m     11\u001b[0m \u001b[38;5;28;01mdef\u001b[39;00m \u001b[38;5;21m__init__\u001b[39m(\u001b[38;5;28mself\u001b[39m, modelname, yearOfManufacture, price, cc):\n\u001b[1;32m---> 12\u001b[0m     \u001b[43mcar\u001b[49m\u001b[38;5;241;43m.\u001b[39;49m\u001b[38;5;21;43m__init__\u001b[39;49m\u001b[43m(\u001b[49m\u001b[43mmodelname\u001b[49m\u001b[43m,\u001b[49m\u001b[43m \u001b[49m\u001b[43myearOfManufacture\u001b[49m\u001b[43m,\u001b[49m\u001b[43m \u001b[49m\u001b[43mprice\u001b[49m\u001b[43m)\u001b[49m\n\u001b[0;32m     13\u001b[0m     \u001b[38;5;28mself\u001b[39m\u001b[38;5;241m.\u001b[39mcc \u001b[38;5;241m=\u001b[39m cc\n",
      "\u001b[1;31mTypeError\u001b[0m: __init__() missing 1 required positional argument: 'price'"
     ]
    }
   ],
   "source": [
    "class car():\n",
    "    def __init__(self, modelname, yearOfManuafacture, price):\n",
    "        self.modelname = modelname\n",
    "        self.yearOfManufacture = yearOfManuafacture\n",
    "        self.price = price\n",
    "        \n",
    "    def priceIncrease(self):\n",
    "        self.price = int(self.price * 1.5)\n",
    " \n",
    "class superCar(car):\n",
    "    def __init__(self, modelname, yearOfManufacture, price, cc):\n",
    "        car.__init__(modelname, yearOfManufacture, price)\n",
    "        self.cc = cc\n",
    "        \n",
    "\n",
    "honda = superCar('City', 2017, 10000, 20)\n",
    "print(honda.__dict__)"
   ]
  },
  {
   "cell_type": "code",
   "execution_count": null,
   "id": "17c22265",
   "metadata": {},
   "outputs": [],
   "source": []
  },
  {
   "cell_type": "code",
   "execution_count": null,
   "id": "edaa8baa",
   "metadata": {},
   "outputs": [],
   "source": []
  }
 ],
 "metadata": {
  "kernelspec": {
   "display_name": "Python 3 (ipykernel)",
   "language": "python",
   "name": "python3"
  },
  "language_info": {
   "codemirror_mode": {
    "name": "ipython",
    "version": 3
   },
   "file_extension": ".py",
   "mimetype": "text/x-python",
   "name": "python",
   "nbconvert_exporter": "python",
   "pygments_lexer": "ipython3",
   "version": "3.9.12"
  }
 },
 "nbformat": 4,
 "nbformat_minor": 5
}
