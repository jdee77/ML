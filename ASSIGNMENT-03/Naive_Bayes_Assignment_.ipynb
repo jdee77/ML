{
 "cells": [
  {
   "cell_type": "markdown",
   "metadata": {},
   "source": [
    "## Introduction\n",
    "\n",
    "In this notebook, we will explore a machine learning classifier – the Naive Bayes classifier, which uses the Bayes’ theorem to classify test examples into one of the defined classes."
   ]
  },
  {
   "cell_type": "markdown",
   "metadata": {},
   "source": [
    "## Bayes' Theorem\n",
    "\n",
    "In Statistics and probability theory, Bayes’ theorem describes the probability of an event, based on prior knowledge of conditions that might be related to the event. It is a simple mathematical formula used for calculating conditional probabilities.\n",
    "\n",
    "Conditional probability is a measure of the probability of an event occurring given that another event has (by assumption, presumption, assertion, or evidence) occurred.\n",
    "\n",
    "        P(A|B) = (P(B|A).P(A))/P(B)\n",
    "\n",
    "where  P(A|B) is the probability of A occuring given B has already occured, P(B|A) is the probability of B occuring given A has already occured, P(A) is the probability of A occuring and P(B) is the probability of B occuring."
   ]
  },
  {
   "cell_type": "markdown",
   "metadata": {},
   "source": [
    "## Bayes' Theorem Example\n",
    "\n",
    "Let’s suppose we have a Deck of Cards, we wish to find out the “Probability of the Card we picked at random to be a King given that it is a Face Card“. So, according to Bayes Theorem, we can solve this problem. First, we need to find out the probability\n",
    "\n",
    "     1. P(King) which is 4/52 as there are 4 Kings in a Deck of Cards.\n",
    "     2. P(Face|King) is equal to 1 as all the Kings are face Cards.\n",
    "     3. P(Face) is equal to 12/52 as there are 3 Face Cards in a Suit of 13 cards and there are 4 Suits in total.\n",
    "     \n",
    "   Now, putting all the values in the Bayes’ Equation \n",
    "   \n",
    "          P(King|Face) = (P(Face|King).P(King)) / P(Face)\n",
    "                       = (1.(1/13))/(3/13)\n",
    "                       = 1/3\n"
   ]
  },
  {
   "cell_type": "markdown",
   "metadata": {},
   "source": [
    "## Naive Bayes Classifier\n",
    "\n",
    "Naive Bayes classifiers are a family of probabilistic classifiers that are based on Bayes’ theorem. It is used to solve many different problem statements, and it is quite fast in training a model since Naive Bayes classifier completely works on probability, so the conversion happens quickly. These algorithms work by combining the probabilities that an instance belongs to a class based on the value of a set of features.\n",
    "\n",
    "Naive Bayes classifier assumes that the effect of a particular feature in a class is independent of other features. For example, a loan applicant is desirable or not depending on his/her income, previous loan and transaction history, age, and location. Even if these features are interdependent, these features are still considered independently. This assumption simplifies computation, and that's why it is considered as naive.\n",
    "\n",
    "The fundamental Naïve Bayes assumption is that each feature makes an independent and equal contribution to the outcome.\n"
   ]
  },
  {
   "cell_type": "markdown",
   "metadata": {},
   "source": [
    "## Types of Naive Bayes Classifier\n",
    "\n",
    "1. Multinomial Naive Bayes:\n",
    "This is mostly used for document classification problem, i.e whether a document belongs to the category of sports, politics, technology etc. The features/predictors used by the classifier are the frequency of the words present in the document.\n",
    "\n",
    "2. Bernoulli Naive Bayes:\n",
    "This is similar to the multinomial naive bayes but the predictors are boolean variables. The parameters that we use to predict the class variable take up only values yes or no, for example if a word occurs in the text or not.\n",
    "\n",
    "3. Gaussian Naive Bayes:\n",
    "In Gaussian Naïve Bayes, continuous values associated with each feature are assumed to be distributed according to a Gaussian distribution (Normal distribution). "
   ]
  },
  {
   "attachments": {
    "Conditional_prob.png": {
     "image/png": "[encoded data removed]"
    }
   },
   "cell_type": "markdown",
   "metadata": {},
   "source": [
    "## How does Naive Bayes classifier work?\n",
    "\n",
    "Naive Bayes methods work by applying Bayes’ theorem with the “naive” assumption of conditional independence between every pair of features given the value of the class variable.\n",
    "\n",
    "The Bayes’ theorem states that for a given class variable y and dependent feature vector $ x = x_{1} + x_{2} ... x_{n}.$\n",
    "\n",
    "The conditional probability of the class label $y$, given the observation $x$ is:\n",
    "\n",
    "  ![Conditional_prob.png](attachment:Conditional_prob.png)\n",
    "     \n",
    "We can simplify the above expression using the naive assumption that features of measurement are independent of each other, i.e."
   ]
  },
  {
   "attachments": {
    "Second_equation.png": {
     "image/png": "[encoded data removed]"
    }
   },
   "cell_type": "markdown",
   "metadata": {},
   "source": [
    "![Second_equation.png](attachment:Second_equation.png)"
   ]
  },
  {
   "cell_type": "markdown",
   "metadata": {},
   "source": [
    "which lead to:\n"
   ]
  },
  {
   "attachments": {
    "Third_equation.png": {
     "image/png": "[encoded data removed]"
    }
   },
   "cell_type": "markdown",
   "metadata": {},
   "source": [
    "![Third_equation.png](attachment:Third_equation.png)"
   ]
  },
  {
   "cell_type": "markdown",
   "metadata": {},
   "source": [
    "Since, $ P(x_{1},..,x_{n}) $ is constant given the input, we use Maximum A Posteriori (MAP) estimation to estimate P(y) and $ P(x_{i} ∣ y) $, which results in:"
   ]
  },
  {
   "attachments": {
    "MAP_equation.png": {
     "image/png": "[encoded data removed]"
    }
   },
   "cell_type": "markdown",
   "metadata": {},
   "source": [
    "![MAP_equation.png](attachment:MAP_equation.png)\n",
    "\n",
    "This calculation can be performed for each of the class labels, and the label with the largest probability can be selected as the classification for the given instance."
   ]
  },
  {
   "cell_type": "markdown",
   "metadata": {},
   "source": [
    "## Step By Step Implementation of Naive Bayes\n",
    "\n",
    "    1. Handle Data\n",
    "    2. Summarize Data\n",
    "    3. Make Predictions\n",
    "    4. Evaluate \n"
   ]
  },
  {
   "cell_type": "markdown",
   "metadata": {},
   "source": [
    "## Dataset\n",
    "\n",
    "This Iris dataset contains 3 classes of 50 instances each, where each class refers to a type of iris plant. \n",
    "Attribute Information:\n",
    "\n",
    "1. sepal length in cm\n",
    "2. sepal width in cm\n",
    "3. petal length in cm\n",
    "4. petal width in cm\n",
    "5. class: Iris Setosa, Iris Versicolour, Iris Virginica"
   ]
  },
  {
   "cell_type": "markdown",
   "metadata": {},
   "source": [
    "## Step 1: Handle Data\n",
    "\n",
    "The first thing we need to do is load our data file. The data is in CSV format. We can open the file with the read_csv function.\n"
   ]
  },
  {
   "cell_type": "code",
   "execution_count": 1,
   "metadata": {},
   "outputs": [],
   "source": [
    "import numpy as np # linear algebra\n",
    "import pandas as pd # data processing, CSV file I/O \n",
    "import os\n",
    "from collections import Counter\n",
    "import math\n",
    "from scipy.stats import norm"
   ]
  },
  {
   "cell_type": "code",
   "execution_count": 2,
   "metadata": {},
   "outputs": [
    {
     "data": {
      "text/html": [
       "<div>\n",
       "<style scoped>\n",
       "    .dataframe tbody tr th:only-of-type {\n",
       "        vertical-align: middle;\n",
       "    }\n",
       "\n",
       "    .dataframe tbody tr th {\n",
       "        vertical-align: top;\n",
       "    }\n",
       "\n",
       "    .dataframe thead th {\n",
       "        text-align: right;\n",
       "    }\n",
       "</style>\n",
       "<table border=\"1\" class=\"dataframe\">\n",
       "  <thead>\n",
       "    <tr style=\"text-align: right;\">\n",
       "      <th></th>\n",
       "      <th>Id</th>\n",
       "      <th>SepalLengthCm</th>\n",
       "      <th>SepalWidthCm</th>\n",
       "      <th>PetalLengthCm</th>\n",
       "      <th>PetalWidthCm</th>\n",
       "      <th>Species</th>\n",
       "    </tr>\n",
       "  </thead>\n",
       "  <tbody>\n",
       "    <tr>\n",
       "      <th>0</th>\n",
       "      <td>1</td>\n",
       "      <td>5.1</td>\n",
       "      <td>3.5</td>\n",
       "      <td>1.4</td>\n",
       "      <td>0.2</td>\n",
       "      <td>Iris-setosa</td>\n",
       "    </tr>\n",
       "    <tr>\n",
       "      <th>1</th>\n",
       "      <td>2</td>\n",
       "      <td>4.9</td>\n",
       "      <td>3.0</td>\n",
       "      <td>1.4</td>\n",
       "      <td>0.2</td>\n",
       "      <td>Iris-setosa</td>\n",
       "    </tr>\n",
       "    <tr>\n",
       "      <th>2</th>\n",
       "      <td>3</td>\n",
       "      <td>4.7</td>\n",
       "      <td>3.2</td>\n",
       "      <td>1.3</td>\n",
       "      <td>0.2</td>\n",
       "      <td>Iris-setosa</td>\n",
       "    </tr>\n",
       "    <tr>\n",
       "      <th>3</th>\n",
       "      <td>4</td>\n",
       "      <td>4.6</td>\n",
       "      <td>3.1</td>\n",
       "      <td>1.5</td>\n",
       "      <td>0.2</td>\n",
       "      <td>Iris-setosa</td>\n",
       "    </tr>\n",
       "    <tr>\n",
       "      <th>4</th>\n",
       "      <td>5</td>\n",
       "      <td>5.0</td>\n",
       "      <td>3.6</td>\n",
       "      <td>1.4</td>\n",
       "      <td>0.2</td>\n",
       "      <td>Iris-setosa</td>\n",
       "    </tr>\n",
       "  </tbody>\n",
       "</table>\n",
       "</div>"
      ],
      "text/plain": [
       "   Id  SepalLengthCm  SepalWidthCm  PetalLengthCm  PetalWidthCm      Species\n",
       "0   1            5.1           3.5            1.4           0.2  Iris-setosa\n",
       "1   2            4.9           3.0            1.4           0.2  Iris-setosa\n",
       "2   3            4.7           3.2            1.3           0.2  Iris-setosa\n",
       "3   4            4.6           3.1            1.5           0.2  Iris-setosa\n",
       "4   5            5.0           3.6            1.4           0.2  Iris-setosa"
      ]
     },
     "execution_count": 2,
     "metadata": {},
     "output_type": "execute_result"
    }
   ],
   "source": [
    "iris = pd.read_csv('C:\\\\Users\\\\NITRKL\\\\Downloads\\\\Iris.csv')\n",
    "iris.head()"
   ]
  },
  {
   "cell_type": "markdown",
   "metadata": {},
   "source": [
    "## Step 2: Summarize the Data\n"
   ]
  },
  {
   "cell_type": "code",
   "execution_count": 3,
   "metadata": {},
   "outputs": [
    {
     "name": "stdout",
     "output_type": "stream",
     "text": [
      "<class 'pandas.core.frame.DataFrame'>\n",
      "RangeIndex: 150 entries, 0 to 149\n",
      "Data columns (total 6 columns):\n",
      " #   Column         Non-Null Count  Dtype  \n",
      "---  ------         --------------  -----  \n",
      " 0   Id             150 non-null    int64  \n",
      " 1   SepalLengthCm  150 non-null    float64\n",
      " 2   SepalWidthCm   150 non-null    float64\n",
      " 3   PetalLengthCm  150 non-null    float64\n",
      " 4   PetalWidthCm   150 non-null    float64\n",
      " 5   Species        150 non-null    object \n",
      "dtypes: float64(4), int64(1), object(1)\n",
      "memory usage: 7.2+ KB\n"
     ]
    }
   ],
   "source": [
    "iris.info()"
   ]
  },
  {
   "cell_type": "code",
   "execution_count": 4,
   "metadata": {},
   "outputs": [
    {
     "name": "stdout",
     "output_type": "stream",
     "text": [
      "['Iris-setosa', 'Iris-versicolor', 'Iris-virginica']\n"
     ]
    }
   ],
   "source": [
    "target_category = iris[\"Species\"].unique()\n",
    "target_category=list(map(str,target_category))\n",
    "print(target_category)"
   ]
  },
  {
   "cell_type": "markdown",
   "metadata": {},
   "source": [
    "**Data Visualization**"
   ]
  },
  {
   "cell_type": "code",
   "execution_count": 5,
   "metadata": {},
   "outputs": [
    {
     "data": {
      "text/plain": [
       "<AxesSubplot:xlabel='Species'>"
      ]
     },
     "execution_count": 5,
     "metadata": {},
     "output_type": "execute_result"
    },
    {
     "data": {
      "image/png": "[encoded data removed]",
      "text/plain": [
       "<Figure size 432x288 with 1 Axes>"
      ]
     },
     "metadata": {
      "needs_background": "light"
     },
     "output_type": "display_data"
    }
   ],
   "source": [
    "iris.groupby(\"Species\").Species.count().plot.bar(ylim=0)"
   ]
  },
  {
   "cell_type": "code",
   "execution_count": 6,
   "metadata": {},
   "outputs": [],
   "source": [
    "species = iris.Species\n",
    "data = iris.drop(columns=['Species','Id']) "
   ]
  },
  {
   "cell_type": "code",
   "execution_count": 7,
   "metadata": {},
   "outputs": [
    {
     "data": {
      "text/html": [
       "<div>\n",
       "<style scoped>\n",
       "    .dataframe tbody tr th:only-of-type {\n",
       "        vertical-align: middle;\n",
       "    }\n",
       "\n",
       "    .dataframe tbody tr th {\n",
       "        vertical-align: top;\n",
       "    }\n",
       "\n",
       "    .dataframe thead th {\n",
       "        text-align: right;\n",
       "    }\n",
       "</style>\n",
       "<table border=\"1\" class=\"dataframe\">\n",
       "  <thead>\n",
       "    <tr style=\"text-align: right;\">\n",
       "      <th></th>\n",
       "      <th>SepalLengthCm</th>\n",
       "      <th>SepalWidthCm</th>\n",
       "      <th>PetalLengthCm</th>\n",
       "      <th>PetalWidthCm</th>\n",
       "    </tr>\n",
       "  </thead>\n",
       "  <tbody>\n",
       "    <tr>\n",
       "      <th>0</th>\n",
       "      <td>5.1</td>\n",
       "      <td>3.5</td>\n",
       "      <td>1.4</td>\n",
       "      <td>0.2</td>\n",
       "    </tr>\n",
       "    <tr>\n",
       "      <th>1</th>\n",
       "      <td>4.9</td>\n",
       "      <td>3.0</td>\n",
       "      <td>1.4</td>\n",
       "      <td>0.2</td>\n",
       "    </tr>\n",
       "    <tr>\n",
       "      <th>2</th>\n",
       "      <td>4.7</td>\n",
       "      <td>3.2</td>\n",
       "      <td>1.3</td>\n",
       "      <td>0.2</td>\n",
       "    </tr>\n",
       "    <tr>\n",
       "      <th>3</th>\n",
       "      <td>4.6</td>\n",
       "      <td>3.1</td>\n",
       "      <td>1.5</td>\n",
       "      <td>0.2</td>\n",
       "    </tr>\n",
       "    <tr>\n",
       "      <th>4</th>\n",
       "      <td>5.0</td>\n",
       "      <td>3.6</td>\n",
       "      <td>1.4</td>\n",
       "      <td>0.2</td>\n",
       "    </tr>\n",
       "  </tbody>\n",
       "</table>\n",
       "</div>"
      ],
      "text/plain": [
       "   SepalLengthCm  SepalWidthCm  PetalLengthCm  PetalWidthCm\n",
       "0            5.1           3.5            1.4           0.2\n",
       "1            4.9           3.0            1.4           0.2\n",
       "2            4.7           3.2            1.3           0.2\n",
       "3            4.6           3.1            1.5           0.2\n",
       "4            5.0           3.6            1.4           0.2"
      ]
     },
     "execution_count": 7,
     "metadata": {},
     "output_type": "execute_result"
    }
   ],
   "source": [
    "data.head()"
   ]
  },
  {
   "cell_type": "code",
   "execution_count": 8,
   "metadata": {},
   "outputs": [
    {
     "data": {
      "text/html": [
       "<div>\n",
       "<style scoped>\n",
       "    .dataframe tbody tr th:only-of-type {\n",
       "        vertical-align: middle;\n",
       "    }\n",
       "\n",
       "    .dataframe tbody tr th {\n",
       "        vertical-align: top;\n",
       "    }\n",
       "\n",
       "    .dataframe thead th {\n",
       "        text-align: right;\n",
       "    }\n",
       "</style>\n",
       "<table border=\"1\" class=\"dataframe\">\n",
       "  <thead>\n",
       "    <tr style=\"text-align: right;\">\n",
       "      <th></th>\n",
       "      <th>Id</th>\n",
       "      <th>SepalLengthCm</th>\n",
       "      <th>SepalWidthCm</th>\n",
       "      <th>PetalLengthCm</th>\n",
       "      <th>PetalWidthCm</th>\n",
       "      <th>Species</th>\n",
       "      <th>Category</th>\n",
       "    </tr>\n",
       "  </thead>\n",
       "  <tbody>\n",
       "    <tr>\n",
       "      <th>0</th>\n",
       "      <td>1</td>\n",
       "      <td>5.1</td>\n",
       "      <td>3.5</td>\n",
       "      <td>1.4</td>\n",
       "      <td>0.2</td>\n",
       "      <td>Iris-setosa</td>\n",
       "      <td>0</td>\n",
       "    </tr>\n",
       "    <tr>\n",
       "      <th>1</th>\n",
       "      <td>2</td>\n",
       "      <td>4.9</td>\n",
       "      <td>3.0</td>\n",
       "      <td>1.4</td>\n",
       "      <td>0.2</td>\n",
       "      <td>Iris-setosa</td>\n",
       "      <td>0</td>\n",
       "    </tr>\n",
       "    <tr>\n",
       "      <th>2</th>\n",
       "      <td>3</td>\n",
       "      <td>4.7</td>\n",
       "      <td>3.2</td>\n",
       "      <td>1.3</td>\n",
       "      <td>0.2</td>\n",
       "      <td>Iris-setosa</td>\n",
       "      <td>0</td>\n",
       "    </tr>\n",
       "    <tr>\n",
       "      <th>3</th>\n",
       "      <td>4</td>\n",
       "      <td>4.6</td>\n",
       "      <td>3.1</td>\n",
       "      <td>1.5</td>\n",
       "      <td>0.2</td>\n",
       "      <td>Iris-setosa</td>\n",
       "      <td>0</td>\n",
       "    </tr>\n",
       "    <tr>\n",
       "      <th>4</th>\n",
       "      <td>5</td>\n",
       "      <td>5.0</td>\n",
       "      <td>3.6</td>\n",
       "      <td>1.4</td>\n",
       "      <td>0.2</td>\n",
       "      <td>Iris-setosa</td>\n",
       "      <td>0</td>\n",
       "    </tr>\n",
       "  </tbody>\n",
       "</table>\n",
       "</div>"
      ],
      "text/plain": [
       "   Id  SepalLengthCm  SepalWidthCm  PetalLengthCm  PetalWidthCm      Species  \\\n",
       "0   1            5.1           3.5            1.4           0.2  Iris-setosa   \n",
       "1   2            4.9           3.0            1.4           0.2  Iris-setosa   \n",
       "2   3            4.7           3.2            1.3           0.2  Iris-setosa   \n",
       "3   4            4.6           3.1            1.5           0.2  Iris-setosa   \n",
       "4   5            5.0           3.6            1.4           0.2  Iris-setosa   \n",
       "\n",
       "   Category  \n",
       "0         0  \n",
       "1         0  \n",
       "2         0  \n",
       "3         0  \n",
       "4         0  "
      ]
     },
     "execution_count": 8,
     "metadata": {},
     "output_type": "execute_result"
    }
   ],
   "source": [
    "iris['Category'] = iris['Species'].factorize()[0]\n",
    "category = iris['Category']\n",
    "iris.head()"
   ]
  },
  {
   "cell_type": "markdown",
   "metadata": {},
   "source": [
    "**Split dataset into train/test**\n",
    "\n"
   ]
  },
  {
   "cell_type": "code",
   "execution_count": 9,
   "metadata": {},
   "outputs": [
    {
     "name": "stdout",
     "output_type": "stream",
     "text": [
      "[40 40 40]\n"
     ]
    }
   ],
   "source": [
    "#split dataset into test set(20%) and train set(80%) using stratify to split into equal size\n",
    "from sklearn.model_selection import train_test_split\n",
    "\n",
    "data_train,data_test,species_train,species_test = train_test_split(data,category, test_size = 0.2, stratify = category,random_state=1)\n",
    "print(np.bincount(species_train))"
   ]
  },
  {
   "cell_type": "code",
   "execution_count": 10,
   "metadata": {},
   "outputs": [],
   "source": [
    "newIris = pd.DataFrame(np.column_stack([data_train,species_train]))"
   ]
  },
  {
   "cell_type": "code",
   "execution_count": 11,
   "metadata": {},
   "outputs": [],
   "source": [
    "#Sort and rearrange the data based on the species\n",
    "\n",
    "setosa = newIris[newIris[4] == 0]\n",
    "versicolor = newIris[newIris[4]==1]       \n",
    "virginica  = newIris[newIris[4]==2] \n",
    "newIris = pd.concat([setosa,versicolor,virginica])"
   ]
  },
  {
   "cell_type": "code",
   "execution_count": 12,
   "metadata": {},
   "outputs": [],
   "source": [
    "#Splits data based on species\n",
    "\n",
    "setosa_data=newIris[0:40] \n",
    "versicolor_data=newIris[40:80]\n",
    "virginica_data=newIris[80:120]"
   ]
  },
  {
   "cell_type": "markdown",
   "metadata": {},
   "source": [
    "**Find mean**"
   ]
  },
  {
   "cell_type": "code",
   "execution_count": 13,
   "metadata": {},
   "outputs": [],
   "source": [
    "\n",
    "setosa_mean = setosa_data.mean()\n",
    "versicolor_mean = versicolor_data.mean()\n",
    "virginica_mean= virginica_data.mean()"
   ]
  },
  {
   "cell_type": "markdown",
   "metadata": {},
   "source": [
    "**Find standard deviation**"
   ]
  },
  {
   "cell_type": "code",
   "execution_count": 14,
   "metadata": {},
   "outputs": [],
   "source": [
    "\n",
    "setosa_std = setosa_data.std()\n",
    "versicolor_std = versicolor_data.std()\n",
    "virginica_std = virginica_data.std()"
   ]
  },
  {
   "cell_type": "markdown",
   "metadata": {},
   "source": [
    "## Step 3: Make Predictions\n",
    "\n",
    "We are now ready to make predictions using the summaries prepared from our training data. Making predictions involves calculating the probability that a given data instance belongs to each class, then selecting the class with the largest probability as the prediction. We need to perform the following tasks:\n"
   ]
  },
  {
   "cell_type": "markdown",
   "metadata": {},
   "source": [
    "**Finding Likelihood**"
   ]
  },
  {
   "cell_type": "code",
   "execution_count": 24,
   "metadata": {},
   "outputs": [
    {
     "name": "stdout",
     "output_type": "stream",
     "text": [
      "[1.4426580700892142, 4.859950538247494, 3.681311494548152, 0.5602613645293171, 11.096692414208938, 4.708645550519092, 0.9869177278847482, 5.027865366544021, 10.634222125259459, 0.3347440525802828, 2.5067408810201983, 5.523920120747676, 0.08046997818740641, 4.429608698883286, 9.194055698490734, 0.06525343204281543, 0.24506445794291157, 2.3282164040871396, 0.04070926293372312, 6.491269205996306, 0.3020811479117195, 4.4807889760388715, 4.103501562127629, 9.074380401691084, 5.040647664716327, 10.402481819111953, 4.846470606571818, 1.0944825796912079, 0.0502681254327594, 5.461187819110376, 4.913679372606572, 9.366533208389093, 8.510389058937557, 0.4502965389209152, 2.7530617779191386, 4.151748278169196, 0.021453261081038864, 1.6118835377478418, 4.074492875633123, 1.5853896384286335, 0.8403628783339735, 0.3959314997528379, 0.0948400685663931, 0.4082805469513769, 0.046744805289939496, 0.5249417793314618, 0.13294660495590657, 0.17103373105970487, 1.4176966480545758, 1.5221936082025496, 0.055790703261250345, 1.0361575762222726, 0.25550043839107855, 1.122511534792226, 1.5598389656754936, 0.3262525686870727, 0.9460380729876201, 1.5383254011436707, 0.951858696166934, 1.078066540568296, 0.16085638836258703, 0.3201408932874435, 0.38020711718370725, 0.5750483930090607, 0.023880360000470696, 0.9817591591732701, 0.6630494228477325, 0.3877982298422665, 0.5752014918242844, 1.0714260096519859, 1.058448530124892, 0.06487823005988112, 0.048726745322134835, 1.0544095695479483, 0.0005507097613493968, 0.3267002250612301, 0.15440829908699044, 0.022097231057816715, 1.554745696084986, 0.0016060601856784315, 0.3052291116923568, 0.002351377200126688, 0.15000887614364258, 0.40329170823407257, 0.45186758776696656, 0.17765099145893765, 0.13329103116714647, 0.3841740384525626, 0.10393939002389982, 0.5214246885773552, 0.36025483988914686, 0.5377418268416533, 0.1540756509866174, 0.10153412524849294, 0.0204412481973151, 0.06531135008854175, 0.08070312574627124, 0.06881178280681575, 0.10039284456692593, 0.40307393097492344, 0.18957691436540627, 0.41262294516182185, 0.02318502656831295, 0.09833881805749019, 0.16566066161223533, 0.34240213325685465, 0.5122770146240061, 0.6260474460110323, 0.5920779571830279, 0.1570557141821985, 0.0011666962961337387, 0.0036880862755533077, 0.24984483627936874, 0.11416886181249009, 0.6400017694768604, 0.48173226848137707, 0.020815313805021045, 0.045067132209268806, 0.10393939002389982, 0.001802929820659721]\n"
     ]
    }
   ],
   "source": [
    "\n",
    "x =[]\n",
    "likelihood = []\n",
    "   \n",
    "for j in range(len(newIris)):\n",
    "    distribution = 1\n",
    "    if(j<40):\n",
    "        mean=setosa_mean\n",
    "        std = setosa_std\n",
    "    if(j>=40 and j<80):\n",
    "        mean=versicolor_mean\n",
    "        std = versicolor_std\n",
    "    if(j>=80 and j<120):\n",
    "        mean=virginica_mean\n",
    "        std = virginica_std    \n",
    "    \n",
    "    for i in range(4):\n",
    "        x = newIris.iloc[j] \n",
    "        a= ((x[i]- mean[i])**2)/(2*std[i]**2)\n",
    "        b= math.sqrt(2*math.pi*(std[i]**2))\n",
    "        y = math.exp(-a)/b\n",
    "        distribution= distribution*y  \n",
    "    likelihood.append(distribution)\n",
    "    x=[]  \n",
    "print(likelihood)        "
   ]
  },
  {
   "cell_type": "markdown",
   "metadata": {},
   "source": [
    "**Find Priori probability**"
   ]
  },
  {
   "cell_type": "code",
   "execution_count": 25,
   "metadata": {},
   "outputs": [
    {
     "name": "stdout",
     "output_type": "stream",
     "text": [
      "0.3333333333333333\n",
      "0.3333333333333333\n",
      "0.3333333333333333\n"
     ]
    }
   ],
   "source": [
    "\n",
    "setosa_priori = len(setosa_data)/len(newIris)\n",
    "versicolor_priori = len(versicolor_data)/len(newIris)\n",
    "virginica_priori = len(virginica_data)/len(newIris)\n",
    "\n",
    "print(setosa_priori)\n",
    "print(versicolor_priori)\n",
    "print(virginica_priori)"
   ]
  },
  {
   "cell_type": "code",
   "execution_count": 26,
   "metadata": {},
   "outputs": [],
   "source": [
    "newTest = pd.DataFrame(np.column_stack([data_test,species_test]))"
   ]
  },
  {
   "cell_type": "markdown",
   "metadata": {},
   "source": [
    "**Rearrange the data into groups based on the species**"
   ]
  },
  {
   "cell_type": "code",
   "execution_count": 27,
   "metadata": {},
   "outputs": [],
   "source": [
    "setosa = newTest[newTest[4] == 0]\n",
    "versicolor = newTest[newTest[4]==1]       \n",
    "virginica  = newTest[newTest[4]==2] \n",
    "newTest = pd.concat([setosa,versicolor,virginica])"
   ]
  },
  {
   "cell_type": "markdown",
   "metadata": {},
   "source": [
    "**Find likelihood for test data**"
   ]
  },
  {
   "cell_type": "code",
   "execution_count": 28,
   "metadata": {},
   "outputs": [],
   "source": [
    "testLikelihood =[]\n",
    "x=[]\n",
    "testPosterior=[]\n",
    "posteriorSpecies =[]\n",
    "\n",
    "\n",
    "for j in range(len(newTest)):\n",
    "    for c in range(3): \n",
    "        if (c==0):\n",
    "            mean = setosa_mean\n",
    "            std = setosa_std\n",
    "            priori = setosa_priori\n",
    "        if (c == 1):\n",
    "            mean= versicolor_mean\n",
    "            std = versicolor_std\n",
    "            priori = versicolor_priori\n",
    "        if(c == 2):\n",
    "            mean= virginica_mean\n",
    "            std = virginica_std\n",
    "            priori = virginica_priori\n",
    "        distribution = 1       \n",
    "        for i in range(4):\n",
    "            x = newTest.iloc[j] \n",
    "            a= ((x[i]- mean[i])**2)/(2*std[i]**2)\n",
    "            b= math.sqrt(2*math.pi*(std[i]**2))\n",
    "            y = math.exp(-a)/b \n",
    "            distribution= distribution*y\n",
    "        x=[]    \n",
    "        testLikelihood.append(distribution)\n",
    "        posterior = testLikelihood[c]* priori    #Calculate posterior values\n",
    "        testPosterior.append(posterior)\n",
    "        maxPosterior = testPosterior.index(max(testPosterior))   #Finds the maximum value\n",
    "    posteriorSpecies.append(maxPosterior)\n",
    "   \n",
    "\n",
    "    testLikelihood =[]    \n",
    "    testPosterior=[] "
   ]
  },
  {
   "cell_type": "markdown",
   "metadata": {},
   "source": [
    "## Evaluate "
   ]
  },
  {
   "cell_type": "code",
   "execution_count": 30,
   "metadata": {},
   "outputs": [
    {
     "data": {
      "text/plain": [
       "0.36666666666666664"
      ]
     },
     "execution_count": 30,
     "metadata": {},
     "output_type": "execute_result"
    }
   ],
   "source": [
    "from sklearn.metrics import accuracy_score\n",
    "accuracy_score(species_test, posteriorSpecies)"
   ]
  },
  {
   "cell_type": "markdown",
   "metadata": {},
   "source": [
    "# Assignment\n",
    "\n",
    "\n",
    "The pima-indians-diabetes.csv dataset is originally from the National Institute of Diabetes and Digestive and Kidney Diseases. It is a binary classification dataset. Several constraints were placed on the selection of instances from a larger database. In particular, all patients here are females at least 21 years old of Pima Indian heritage. The objective is to predict if a patient has diabetes based on diagnostic measurements of eight simple features.\n",
    "\n",
    "Attributes:\n",
    "1. preg = Number of times pregnant\n",
    "2. plas = Plasma glucose concentration a 2 hours in an oral glucose tolerance test\n",
    "3. pres = Diastolic blood pressure (mm Hg)\n",
    "4. skin = Triceps skin fold thickness (mm)\n",
    "5. test = 2-Hour serum insulin (mu U/ml)\n",
    "6. mass = Body mass index (weight in kg/(height in m)^2)\n",
    "7. pedi = Diabetes pedigree function\n",
    "8. age = Age (years)\n",
    "9. class = Class variable (1:tested positive for diabetes, 0: tested negative for diabetes)\n",
    "\n",
    "\n"
   ]
  },
  {
   "cell_type": "markdown",
   "metadata": {},
   "source": [
    "### Q1. Write a program to implement the Naive Bayesian classifier for a data set stored as a pima-indians-diabetes.csv file  to predict class labels of test data. The predicted class labels for the test instances should be printed as output."
   ]
  },
  {
   "cell_type": "markdown",
   "metadata": {},
   "source": [
    "**a. Compute the accuracy of the classifier.**"
   ]
  },
  {
   "cell_type": "code",
   "execution_count": 1,
   "metadata": {},
   "outputs": [],
   "source": [
    "# Answer here"
   ]
  },
  {
   "cell_type": "markdown",
   "metadata": {},
   "source": [
    "**b. Calculate the performance metrics - Precision, Recall, Specificity and F1-score.**"
   ]
  },
  {
   "cell_type": "code",
   "execution_count": 2,
   "metadata": {},
   "outputs": [],
   "source": [
    "# Answer here"
   ]
  },
  {
   "cell_type": "markdown",
   "metadata": {},
   "source": [
    "**c. Print the Confusion Matrix.**"
   ]
  },
  {
   "cell_type": "code",
   "execution_count": 32,
   "metadata": {},
   "outputs": [],
   "source": [
    "# Answer here"
   ]
  },
  {
   "cell_type": "markdown",
   "metadata": {},
   "source": [
    "**d. Also evaluate it using Python's Scikit-learn package.**"
   ]
  },
  {
   "cell_type": "code",
   "execution_count": 33,
   "metadata": {},
   "outputs": [],
   "source": [
    "#Answer here"
   ]
  }
 ],
 "metadata": {
  "kernelspec": {
   "display_name": "Python 3 (ipykernel)",
   "language": "python",
   "name": "python3"
  },
  "language_info": {
   "codemirror_mode": {
    "name": "ipython",
    "version": 3
   },
   "file_extension": ".py",
   "mimetype": "text/x-python",
   "name": "python",
   "nbconvert_exporter": "python",
   "pygments_lexer": "ipython3",
   "version": "3.9.12"
  }
 },
 "nbformat": 4,
 "nbformat_minor": 1
}
