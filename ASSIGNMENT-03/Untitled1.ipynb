{
 "cells": [
  {
   "cell_type": "markdown",
   "id": "627d6822",
   "metadata": {},
   "source": [
    "# NAIVE BAYES CLASSIFIERS"
   ]
  },
  {
   "cell_type": "code",
   "execution_count": 3,
   "id": "e334266a",
   "metadata": {},
   "outputs": [],
   "source": [
    "import numpy as np\n",
    "import pandas as pd\n",
    "import os\n",
    "from collections import Counter\n",
    "import math\n",
    "from scipy.stats import norm"
   ]
  },
  {
   "cell_type": "markdown",
   "id": "b80d50ad",
   "metadata": {},
   "source": [
    "## step - 01 HANDLING DATA "
   ]
  },
  {
   "cell_type": "code",
   "execution_count": 4,
   "id": "fe11221e",
   "metadata": {},
   "outputs": [
    {
     "data": {
      "text/html": [
       "<div>\n",
       "<style scoped>\n",
       "    .dataframe tbody tr th:only-of-type {\n",
       "        vertical-align: middle;\n",
       "    }\n",
       "\n",
       "    .dataframe tbody tr th {\n",
       "        vertical-align: top;\n",
       "    }\n",
       "\n",
       "    .dataframe thead th {\n",
       "        text-align: right;\n",
       "    }\n",
       "</style>\n",
       "<table border=\"1\" class=\"dataframe\">\n",
       "  <thead>\n",
       "    <tr style=\"text-align: right;\">\n",
       "      <th></th>\n",
       "      <th>Id</th>\n",
       "      <th>SepalLengthCm</th>\n",
       "      <th>SepalWidthCm</th>\n",
       "      <th>PetalLengthCm</th>\n",
       "      <th>PetalWidthCm</th>\n",
       "      <th>Species</th>\n",
       "    </tr>\n",
       "  </thead>\n",
       "  <tbody>\n",
       "    <tr>\n",
       "      <th>0</th>\n",
       "      <td>1</td>\n",
       "      <td>5.1</td>\n",
       "      <td>3.5</td>\n",
       "      <td>1.4</td>\n",
       "      <td>0.2</td>\n",
       "      <td>Iris-setosa</td>\n",
       "    </tr>\n",
       "    <tr>\n",
       "      <th>1</th>\n",
       "      <td>2</td>\n",
       "      <td>4.9</td>\n",
       "      <td>3.0</td>\n",
       "      <td>1.4</td>\n",
       "      <td>0.2</td>\n",
       "      <td>Iris-setosa</td>\n",
       "    </tr>\n",
       "    <tr>\n",
       "      <th>2</th>\n",
       "      <td>3</td>\n",
       "      <td>4.7</td>\n",
       "      <td>3.2</td>\n",
       "      <td>1.3</td>\n",
       "      <td>0.2</td>\n",
       "      <td>Iris-setosa</td>\n",
       "    </tr>\n",
       "    <tr>\n",
       "      <th>3</th>\n",
       "      <td>4</td>\n",
       "      <td>4.6</td>\n",
       "      <td>3.1</td>\n",
       "      <td>1.5</td>\n",
       "      <td>0.2</td>\n",
       "      <td>Iris-setosa</td>\n",
       "    </tr>\n",
       "    <tr>\n",
       "      <th>4</th>\n",
       "      <td>5</td>\n",
       "      <td>5.0</td>\n",
       "      <td>3.6</td>\n",
       "      <td>1.4</td>\n",
       "      <td>0.2</td>\n",
       "      <td>Iris-setosa</td>\n",
       "    </tr>\n",
       "  </tbody>\n",
       "</table>\n",
       "</div>"
      ],
      "text/plain": [
       "   Id  SepalLengthCm  SepalWidthCm  PetalLengthCm  PetalWidthCm      Species\n",
       "0   1            5.1           3.5            1.4           0.2  Iris-setosa\n",
       "1   2            4.9           3.0            1.4           0.2  Iris-setosa\n",
       "2   3            4.7           3.2            1.3           0.2  Iris-setosa\n",
       "3   4            4.6           3.1            1.5           0.2  Iris-setosa\n",
       "4   5            5.0           3.6            1.4           0.2  Iris-setosa"
      ]
     },
     "execution_count": 4,
     "metadata": {},
     "output_type": "execute_result"
    }
   ],
   "source": [
    "iris = pd.read_csv('Iris.csv')\n",
    "iris.head()"
   ]
  },
  {
   "cell_type": "markdown",
   "id": "4a59ea39",
   "metadata": {},
   "source": [
    "## step - 02 SUMMARIZE THE DATA"
   ]
  },
  {
   "cell_type": "code",
   "execution_count": 5,
   "id": "f3feac3d",
   "metadata": {},
   "outputs": [
    {
     "name": "stdout",
     "output_type": "stream",
     "text": [
      "<class 'pandas.core.frame.DataFrame'>\n",
      "RangeIndex: 150 entries, 0 to 149\n",
      "Data columns (total 6 columns):\n",
      " #   Column         Non-Null Count  Dtype  \n",
      "---  ------         --------------  -----  \n",
      " 0   Id             150 non-null    int64  \n",
      " 1   SepalLengthCm  150 non-null    float64\n",
      " 2   SepalWidthCm   150 non-null    float64\n",
      " 3   PetalLengthCm  150 non-null    float64\n",
      " 4   PetalWidthCm   150 non-null    float64\n",
      " 5   Species        150 non-null    object \n",
      "dtypes: float64(4), int64(1), object(1)\n",
      "memory usage: 7.2+ KB\n"
     ]
    }
   ],
   "source": [
    "iris.info()"
   ]
  },
  {
   "cell_type": "code",
   "execution_count": 6,
   "id": "4b6d0307",
   "metadata": {},
   "outputs": [
    {
     "name": "stdout",
     "output_type": "stream",
     "text": [
      "['Iris-setosa', 'Iris-versicolor', 'Iris-virginica']\n"
     ]
    }
   ],
   "source": [
    "target_category = iris['Species'].unique()\n",
    "target_category = list(map(str, target_category))\n",
    "print(target_category)"
   ]
  },
  {
   "cell_type": "code",
   "execution_count": 7,
   "id": "27e178a3",
   "metadata": {},
   "outputs": [],
   "source": [
    "# data visulisation \n",
    "import seaborn as sns"
   ]
  },
  {
   "cell_type": "code",
   "execution_count": 20,
   "id": "489b921b",
   "metadata": {},
   "outputs": [
    {
     "data": {
      "text/plain": [
       "<AxesSubplot:xlabel='Species'>"
      ]
     },
     "execution_count": 20,
     "metadata": {},
     "output_type": "execute_result"
    },
    {
     "data": {
      "image/png": "[encoded data removed]",
      "text/plain": [
       "<Figure size 432x288 with 1 Axes>"
      ]
     },
     "metadata": {
      "needs_background": "light"
     },
     "output_type": "display_data"
    }
   ],
   "source": [
    "iris.groupby('Species').Species.count().plot.bar(ylim = 0)"
   ]
  },
  {
   "cell_type": "code",
   "execution_count": 18,
   "id": "84155c02",
   "metadata": {},
   "outputs": [
    {
     "name": "stdout",
     "output_type": "stream",
     "text": [
      "['Iris-setosa', 'Iris-versicolor', 'Iris-virginica']\n"
     ]
    }
   ],
   "source": [
    "target_category = iris['Species'].unique()\n",
    "target_category = list(map(str,target_category))\n",
    "print(target_category)"
   ]
  },
  {
   "cell_type": "markdown",
   "id": "f908ce1d",
   "metadata": {},
   "source": [
    "# DATA VISULISATION"
   ]
  },
  {
   "cell_type": "code",
   "execution_count": 23,
   "id": "b24e4f30",
   "metadata": {},
   "outputs": [
    {
     "data": {
      "text/plain": [
       "<AxesSubplot:xlabel='Species'>"
      ]
     },
     "execution_count": 23,
     "metadata": {},
     "output_type": "execute_result"
    },
    {
     "data": {
      "image/png": "[encoded data removed]",
      "text/plain": [
       "<Figure size 432x288 with 1 Axes>"
      ]
     },
     "metadata": {
      "needs_background": "light"
     },
     "output_type": "display_data"
    }
   ],
   "source": [
    "iris.groupby('Species').Species.count().plot.bar(ylim  = 0)"
   ]
  },
  {
   "cell_type": "code",
   "execution_count": 28,
   "id": "fed22915",
   "metadata": {},
   "outputs": [
    {
     "data": {
      "text/html": [
       "<div>\n",
       "<style scoped>\n",
       "    .dataframe tbody tr th:only-of-type {\n",
       "        vertical-align: middle;\n",
       "    }\n",
       "\n",
       "    .dataframe tbody tr th {\n",
       "        vertical-align: top;\n",
       "    }\n",
       "\n",
       "    .dataframe thead th {\n",
       "        text-align: right;\n",
       "    }\n",
       "</style>\n",
       "<table border=\"1\" class=\"dataframe\">\n",
       "  <thead>\n",
       "    <tr style=\"text-align: right;\">\n",
       "      <th></th>\n",
       "      <th>SepalLengthCm</th>\n",
       "      <th>SepalWidthCm</th>\n",
       "      <th>PetalLengthCm</th>\n",
       "      <th>PetalWidthCm</th>\n",
       "    </tr>\n",
       "  </thead>\n",
       "  <tbody>\n",
       "    <tr>\n",
       "      <th>0</th>\n",
       "      <td>5.1</td>\n",
       "      <td>3.5</td>\n",
       "      <td>1.4</td>\n",
       "      <td>0.2</td>\n",
       "    </tr>\n",
       "    <tr>\n",
       "      <th>1</th>\n",
       "      <td>4.9</td>\n",
       "      <td>3.0</td>\n",
       "      <td>1.4</td>\n",
       "      <td>0.2</td>\n",
       "    </tr>\n",
       "    <tr>\n",
       "      <th>2</th>\n",
       "      <td>4.7</td>\n",
       "      <td>3.2</td>\n",
       "      <td>1.3</td>\n",
       "      <td>0.2</td>\n",
       "    </tr>\n",
       "    <tr>\n",
       "      <th>3</th>\n",
       "      <td>4.6</td>\n",
       "      <td>3.1</td>\n",
       "      <td>1.5</td>\n",
       "      <td>0.2</td>\n",
       "    </tr>\n",
       "    <tr>\n",
       "      <th>4</th>\n",
       "      <td>5.0</td>\n",
       "      <td>3.6</td>\n",
       "      <td>1.4</td>\n",
       "      <td>0.2</td>\n",
       "    </tr>\n",
       "  </tbody>\n",
       "</table>\n",
       "</div>"
      ],
      "text/plain": [
       "   SepalLengthCm  SepalWidthCm  PetalLengthCm  PetalWidthCm\n",
       "0            5.1           3.5            1.4           0.2\n",
       "1            4.9           3.0            1.4           0.2\n",
       "2            4.7           3.2            1.3           0.2\n",
       "3            4.6           3.1            1.5           0.2\n",
       "4            5.0           3.6            1.4           0.2"
      ]
     },
     "execution_count": 28,
     "metadata": {},
     "output_type": "execute_result"
    }
   ],
   "source": [
    "species = iris.Species\n",
    "data = iris.drop(columns =['Species', 'Id'])\n",
    "data.head()"
   ]
  },
  {
   "cell_type": "code",
   "execution_count": 36,
   "id": "26866c6c",
   "metadata": {},
   "outputs": [
    {
     "data": {
      "text/html": [
       "<div>\n",
       "<style scoped>\n",
       "    .dataframe tbody tr th:only-of-type {\n",
       "        vertical-align: middle;\n",
       "    }\n",
       "\n",
       "    .dataframe tbody tr th {\n",
       "        vertical-align: top;\n",
       "    }\n",
       "\n",
       "    .dataframe thead th {\n",
       "        text-align: right;\n",
       "    }\n",
       "</style>\n",
       "<table border=\"1\" class=\"dataframe\">\n",
       "  <thead>\n",
       "    <tr style=\"text-align: right;\">\n",
       "      <th></th>\n",
       "      <th>Id</th>\n",
       "      <th>SepalLengthCm</th>\n",
       "      <th>SepalWidthCm</th>\n",
       "      <th>PetalLengthCm</th>\n",
       "      <th>PetalWidthCm</th>\n",
       "      <th>Species</th>\n",
       "      <th>Category</th>\n",
       "    </tr>\n",
       "  </thead>\n",
       "  <tbody>\n",
       "    <tr>\n",
       "      <th>0</th>\n",
       "      <td>1</td>\n",
       "      <td>5.1</td>\n",
       "      <td>3.5</td>\n",
       "      <td>1.4</td>\n",
       "      <td>0.2</td>\n",
       "      <td>Iris-setosa</td>\n",
       "      <td>0</td>\n",
       "    </tr>\n",
       "    <tr>\n",
       "      <th>1</th>\n",
       "      <td>2</td>\n",
       "      <td>4.9</td>\n",
       "      <td>3.0</td>\n",
       "      <td>1.4</td>\n",
       "      <td>0.2</td>\n",
       "      <td>Iris-setosa</td>\n",
       "      <td>0</td>\n",
       "    </tr>\n",
       "    <tr>\n",
       "      <th>2</th>\n",
       "      <td>3</td>\n",
       "      <td>4.7</td>\n",
       "      <td>3.2</td>\n",
       "      <td>1.3</td>\n",
       "      <td>0.2</td>\n",
       "      <td>Iris-setosa</td>\n",
       "      <td>0</td>\n",
       "    </tr>\n",
       "    <tr>\n",
       "      <th>3</th>\n",
       "      <td>4</td>\n",
       "      <td>4.6</td>\n",
       "      <td>3.1</td>\n",
       "      <td>1.5</td>\n",
       "      <td>0.2</td>\n",
       "      <td>Iris-setosa</td>\n",
       "      <td>0</td>\n",
       "    </tr>\n",
       "    <tr>\n",
       "      <th>4</th>\n",
       "      <td>5</td>\n",
       "      <td>5.0</td>\n",
       "      <td>3.6</td>\n",
       "      <td>1.4</td>\n",
       "      <td>0.2</td>\n",
       "      <td>Iris-setosa</td>\n",
       "      <td>0</td>\n",
       "    </tr>\n",
       "    <tr>\n",
       "      <th>...</th>\n",
       "      <td>...</td>\n",
       "      <td>...</td>\n",
       "      <td>...</td>\n",
       "      <td>...</td>\n",
       "      <td>...</td>\n",
       "      <td>...</td>\n",
       "      <td>...</td>\n",
       "    </tr>\n",
       "    <tr>\n",
       "      <th>145</th>\n",
       "      <td>146</td>\n",
       "      <td>6.7</td>\n",
       "      <td>3.0</td>\n",
       "      <td>5.2</td>\n",
       "      <td>2.3</td>\n",
       "      <td>Iris-virginica</td>\n",
       "      <td>2</td>\n",
       "    </tr>\n",
       "    <tr>\n",
       "      <th>146</th>\n",
       "      <td>147</td>\n",
       "      <td>6.3</td>\n",
       "      <td>2.5</td>\n",
       "      <td>5.0</td>\n",
       "      <td>1.9</td>\n",
       "      <td>Iris-virginica</td>\n",
       "      <td>2</td>\n",
       "    </tr>\n",
       "    <tr>\n",
       "      <th>147</th>\n",
       "      <td>148</td>\n",
       "      <td>6.5</td>\n",
       "      <td>3.0</td>\n",
       "      <td>5.2</td>\n",
       "      <td>2.0</td>\n",
       "      <td>Iris-virginica</td>\n",
       "      <td>2</td>\n",
       "    </tr>\n",
       "    <tr>\n",
       "      <th>148</th>\n",
       "      <td>149</td>\n",
       "      <td>6.2</td>\n",
       "      <td>3.4</td>\n",
       "      <td>5.4</td>\n",
       "      <td>2.3</td>\n",
       "      <td>Iris-virginica</td>\n",
       "      <td>2</td>\n",
       "    </tr>\n",
       "    <tr>\n",
       "      <th>149</th>\n",
       "      <td>150</td>\n",
       "      <td>5.9</td>\n",
       "      <td>3.0</td>\n",
       "      <td>5.1</td>\n",
       "      <td>1.8</td>\n",
       "      <td>Iris-virginica</td>\n",
       "      <td>2</td>\n",
       "    </tr>\n",
       "  </tbody>\n",
       "</table>\n",
       "<p>150 rows × 7 columns</p>\n",
       "</div>"
      ],
      "text/plain": [
       "      Id  SepalLengthCm  SepalWidthCm  PetalLengthCm  PetalWidthCm  \\\n",
       "0      1            5.1           3.5            1.4           0.2   \n",
       "1      2            4.9           3.0            1.4           0.2   \n",
       "2      3            4.7           3.2            1.3           0.2   \n",
       "3      4            4.6           3.1            1.5           0.2   \n",
       "4      5            5.0           3.6            1.4           0.2   \n",
       "..   ...            ...           ...            ...           ...   \n",
       "145  146            6.7           3.0            5.2           2.3   \n",
       "146  147            6.3           2.5            5.0           1.9   \n",
       "147  148            6.5           3.0            5.2           2.0   \n",
       "148  149            6.2           3.4            5.4           2.3   \n",
       "149  150            5.9           3.0            5.1           1.8   \n",
       "\n",
       "            Species  Category  \n",
       "0       Iris-setosa         0  \n",
       "1       Iris-setosa         0  \n",
       "2       Iris-setosa         0  \n",
       "3       Iris-setosa         0  \n",
       "4       Iris-setosa         0  \n",
       "..              ...       ...  \n",
       "145  Iris-virginica         2  \n",
       "146  Iris-virginica         2  \n",
       "147  Iris-virginica         2  \n",
       "148  Iris-virginica         2  \n",
       "149  Iris-virginica         2  \n",
       "\n",
       "[150 rows x 7 columns]"
      ]
     },
     "execution_count": 36,
     "metadata": {},
     "output_type": "execute_result"
    }
   ],
   "source": [
    "iris['Category'] = iris['Species'].factorize()[0]\n",
    "category = iris['Category']\n",
    "iris"
   ]
  },
  {
   "cell_type": "code",
   "execution_count": 41,
   "id": "adb96238",
   "metadata": {},
   "outputs": [
    {
     "name": "stdout",
     "output_type": "stream",
     "text": [
      "[40 40 40]\n"
     ]
    }
   ],
   "source": [
    "#split dataset into test set(20%) and train set(80%) using stratify to split into equal size\n",
    "from sklearn.model_selection import train_test_split\n",
    "\n",
    "data_train,data_test,species_train,species_test = train_test_split(data,category, test_size = 0.2, stratify = category,random_state=1)\n",
    "print(np.bincount(species_train))"
   ]
  },
  {
   "cell_type": "code",
   "execution_count": 43,
   "id": "f73c7664",
   "metadata": {},
   "outputs": [],
   "source": [
    "newIris= pd.DataFrame(np.column_stack([data_train, species_train]))"
   ]
  },
  {
   "cell_type": "code",
   "execution_count": 50,
   "id": "20c41798",
   "metadata": {},
   "outputs": [
    {
     "data": {
      "text/plain": [
       "21     0\n",
       "47     0\n",
       "141    2\n",
       "90     1\n",
       "64     1\n",
       "      ..\n",
       "41     0\n",
       "93     1\n",
       "26     0\n",
       "3      0\n",
       "42     0\n",
       "Name: Category, Length: 120, dtype: int64"
      ]
     },
     "execution_count": 50,
     "metadata": {},
     "output_type": "execute_result"
    }
   ],
   "source": [
    "species_train\n"
   ]
  },
  {
   "cell_type": "code",
   "execution_count": 55,
   "id": "91bdcab1",
   "metadata": {},
   "outputs": [],
   "source": [
    "setosa= newIris[newIris[4] == 0]\n",
    "versicolor = newIris[newIris[4] == 1]\n",
    "virginiaca = newIris[newIris[4] == 2]\n",
    "\n",
    "newIris = pd.concat([setosa, versicolor, virginiaca])"
   ]
  },
  {
   "cell_type": "code",
   "execution_count": 56,
   "id": "6fa94ade",
   "metadata": {},
   "outputs": [],
   "source": [
    "setosa_data=newIris[0:40] \n",
    "versicolor_data=newIris[40:80]\n",
    "virginica_data=newIris[80:120]"
   ]
  },
  {
   "cell_type": "code",
   "execution_count": 73,
   "id": "fd9509dc",
   "metadata": {},
   "outputs": [],
   "source": [
    "setosa_mean = setosa_data.mean()\n",
    "versicolor_mean = versicolor_data.mean()\n",
    "virginica_mean= virginica_data.mean()"
   ]
  },
  {
   "cell_type": "code",
   "execution_count": 61,
   "id": "8ab82424",
   "metadata": {},
   "outputs": [],
   "source": [
    "setosa_std = setosa_data.std()\n",
    "versicolor_std = versicolor_data.std()\n",
    "virginica_std = virginica_data.std()"
   ]
  },
  {
   "cell_type": "code",
   "execution_count": 64,
   "id": "cdf1f7fb",
   "metadata": {},
   "outputs": [
    {
     "name": "stdout",
     "output_type": "stream",
     "text": [
      "[1.4426580700892142, 4.859950538247494, 3.681311494548152, 0.5602613645293171, 11.096692414208938, 4.708645550519092, 0.9869177278847482, 5.027865366544021, 10.634222125259459, 0.3347440525802828, 2.5067408810201983, 5.523920120747676, 0.08046997818740641, 4.429608698883286, 9.194055698490734, 0.06525343204281543, 0.24506445794291157, 2.3282164040871396, 0.04070926293372312, 6.491269205996306, 0.3020811479117195, 4.4807889760388715, 4.103501562127629, 9.074380401691084, 5.040647664716327, 10.402481819111953, 4.846470606571818, 1.0944825796912079, 0.0502681254327594, 5.461187819110376, 4.913679372606572, 9.366533208389093, 8.510389058937557, 0.4502965389209152, 2.7530617779191386, 4.151748278169196, 0.021453261081038864, 1.6118835377478418, 4.074492875633123, 1.5853896384286335, 0.8403628783339735, 0.3959314997528379, 0.0948400685663931, 0.4082805469513769, 0.046744805289939496, 0.5249417793314618, 0.13294660495590657, 0.17103373105970487, 1.4176966480545758, 1.5221936082025496, 0.055790703261250345, 1.0361575762222726, 0.25550043839107855, 1.122511534792226, 1.5598389656754936, 0.3262525686870727, 0.9460380729876201, 1.5383254011436707, 0.951858696166934, 1.078066540568296, 0.16085638836258703, 0.3201408932874435, 0.38020711718370725, 0.5750483930090607, 0.023880360000470696, 0.9817591591732701, 0.6630494228477325, 0.3877982298422665, 0.5752014918242844, 1.0714260096519859, 1.058448530124892, 0.06487823005988112, 0.048726745322134835, 1.0544095695479483, 0.0005507097613493968, 0.3267002250612301, 0.15440829908699044, 0.022097231057816715, 1.554745696084986, 0.0016060601856784315, 0.3052291116923568, 0.002351377200126688, 0.15000887614364258, 0.40329170823407257, 0.45186758776696656, 0.17765099145893765, 0.13329103116714647, 0.3841740384525626, 0.10393939002389982, 0.5214246885773552, 0.36025483988914686, 0.5377418268416533, 0.1540756509866174, 0.10153412524849294, 0.0204412481973151, 0.06531135008854175, 0.08070312574627124, 0.06881178280681575, 0.10039284456692593, 0.40307393097492344, 0.18957691436540627, 0.41262294516182185, 0.02318502656831295, 0.09833881805749019, 0.16566066161223533, 0.34240213325685465, 0.5122770146240061, 0.6260474460110323, 0.5920779571830279, 0.1570557141821985, 0.0011666962961337387, 0.0036880862755533077, 0.24984483627936874, 0.11416886181249009, 0.6400017694768604, 0.48173226848137707, 0.020815313805021045, 0.045067132209268806, 0.10393939002389982, 0.001802929820659721]\n"
     ]
    }
   ],
   "source": [
    "x = []\n",
    "likelihood = []\n",
    "\n",
    "for j in range(len(newIris)):\n",
    "    distribution = 1\n",
    "    if(j< 40):\n",
    "        mean = setosa_mean\n",
    "        std = setosa_std\n",
    "    if(j>=40 and j<80):\n",
    "        mean=versicolor_mean\n",
    "        std = versicolor_std\n",
    "    if(j>=80 and j<120):\n",
    "        mean=virginica_mean\n",
    "        std = virginica_std \n",
    "        \n",
    "    for i in range(4):\n",
    "        x = newIris.iloc[j]\n",
    "        a = ((x[i]- mean[i])**2)/(2*std[i]**2)\n",
    "        b= math.sqrt(2*math.pi*(std[i]**2))\n",
    "        y = math.exp(-a)/b\n",
    "        distribution= distribution*y \n",
    "    likelihood.append(distribution)\n",
    "    x = []\n",
    "    \n",
    "print(likelihood)"
   ]
  },
  {
   "cell_type": "code",
   "execution_count": 65,
   "id": "7f83372d",
   "metadata": {},
   "outputs": [
    {
     "name": "stdout",
     "output_type": "stream",
     "text": [
      "0.3333333333333333\n",
      "0.3333333333333333\n",
      "0.3333333333333333\n"
     ]
    }
   ],
   "source": [
    "setosa_priori = len(setosa_data)/len(newIris)\n",
    "versicolor_priori = len(versicolor_data)/len(newIris)\n",
    "virginica_priori = len(virginica_data)/len(newIris)\n",
    "\n",
    "print(setosa_priori)\n",
    "print(versicolor_priori)\n",
    "print(virginica_priori)"
   ]
  },
  {
   "cell_type": "code",
   "execution_count": 66,
   "id": "b1bb2516",
   "metadata": {},
   "outputs": [],
   "source": [
    "newTest = pd.DataFrame(np.column_stack([data_test,species_test]))"
   ]
  },
  {
   "cell_type": "code",
   "execution_count": 67,
   "id": "b34399f9",
   "metadata": {},
   "outputs": [],
   "source": [
    "setosa = newTest[newTest[4] == 0]\n",
    "versicolor = newTest[newTest[4]==1]       \n",
    "virginica  = newTest[newTest[4]==2] \n",
    "newTest = pd.concat([setosa,versicolor,virginica])"
   ]
  },
  {
   "cell_type": "code",
   "execution_count": 74,
   "id": "6f7ad442",
   "metadata": {},
   "outputs": [],
   "source": [
    "testLikelihood =[]\n",
    "x=[]\n",
    "testPosterior=[]\n",
    "posteriorSpecies =[]\n",
    "\n",
    "\n",
    "for j in range(len(newTest)):\n",
    "    for c in range(3): \n",
    "        if (c==0):\n",
    "            mean = setosa_mean\n",
    "            std = setosa_std\n",
    "            priori = setosa_priori\n",
    "        if (c == 1):\n",
    "            mean= versicolor_mean\n",
    "            std = versicolor_std\n",
    "            priori = versicolor_priori\n",
    "        if(c == 2):\n",
    "            mean= virginica_mean\n",
    "            std = virginica_std\n",
    "            priori = virginica_priori\n",
    "        distribution = 1       \n",
    "        for i in range(4):\n",
    "            x = newTest.iloc[j] \n",
    "            a= ((x[i]- mean[i])**2)/(2*std[i]**2)\n",
    "            b= math.sqrt(2*math.pi*(std[i]**2))\n",
    "            y = math.exp(-a)/b \n",
    "            distribution= distribution*y\n",
    "        x=[]    \n",
    "        testLikelihood.append(distribution)\n",
    "        posterior = testLikelihood[c]* priori    #Calculate posterior values\n",
    "        testPosterior.append(posterior)\n",
    "        maxPosterior = testPosterior.index(max(testPosterior))   #Finds the maximum value\n",
    "    posteriorSpecies.append(maxPosterior)\n",
    "   \n",
    "\n",
    "    testLikelihood =[]    \n",
    "    testPosterior=[] "
   ]
  },
  {
   "cell_type": "code",
   "execution_count": 79,
   "id": "d0a67a56",
   "metadata": {},
   "outputs": [
    {
     "data": {
      "text/plain": [
       "107    2\n",
       "9      0\n",
       "98     1\n",
       "11     0\n",
       "43     0\n",
       "0      0\n",
       "148    2\n",
       "111    2\n",
       "121    2\n",
       "76     1\n",
       "16     0\n",
       "53     1\n",
       "112    2\n",
       "62     1\n",
       "113    2\n",
       "15     0\n",
       "102    2\n",
       "71     1\n",
       "57     1\n",
       "127    2\n",
       "74     1\n",
       "66     1\n",
       "37     0\n",
       "8      0\n",
       "147    2\n",
       "106    2\n",
       "5      0\n",
       "12     0\n",
       "56     1\n",
       "54     1\n",
       "Name: Category, dtype: int64"
      ]
     },
     "execution_count": 79,
     "metadata": {},
     "output_type": "execute_result"
    }
   ],
   "source": [
    "species_test"
   ]
  },
  {
   "cell_type": "code",
   "execution_count": 70,
   "id": "8c2b7c9f",
   "metadata": {},
   "outputs": [
    {
     "data": {
      "text/plain": [
       "0.36666666666666664"
      ]
     },
     "execution_count": 70,
     "metadata": {},
     "output_type": "execute_result"
    }
   ],
   "source": [
    "from sklearn.metrics import accuracy_score\n",
    "accuracy_score(species_test, posteriorSpecies)"
   ]
  },
  {
   "cell_type": "code",
   "execution_count": null,
   "id": "f374ed48",
   "metadata": {},
   "outputs": [],
   "source": []
  }
 ],
 "metadata": {
  "kernelspec": {
   "display_name": "Python 3 (ipykernel)",
   "language": "python",
   "name": "python3"
  },
  "language_info": {
   "codemirror_mode": {
    "name": "ipython",
    "version": 3
   },
   "file_extension": ".py",
   "mimetype": "text/x-python",
   "name": "python",
   "nbconvert_exporter": "python",
   "pygments_lexer": "ipython3",
   "version": "3.9.12"
  }
 },
 "nbformat": 4,
 "nbformat_minor": 5
}
