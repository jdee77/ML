{
 "cells": [
  {
   "cell_type": "markdown",
   "metadata": {},
   "source": [
    "#                           Probability and Statistics"
   ]
  },
  {
   "cell_type": "code",
   "execution_count": null,
   "metadata": {},
   "outputs": [],
   "source": [
    "'''\n",
    "Import here useful libraries\n",
    "Run this cell first for convenience\n",
    "'''\n",
    "import numpy as np\n",
    "from scipy import stats\n",
    "import scipy\n",
    "import warnings\n",
    "warnings.simplefilter('ignore', DeprecationWarning)"
   ]
  },
  {
   "cell_type": "markdown",
   "metadata": {},
   "source": [
    "# Chapter 1 - Probability Theory"
   ]
  },
  {
   "cell_type": "markdown",
   "metadata": {},
   "source": [
    "## Probabilities"
   ]
  },
  {
   "cell_type": "markdown",
   "metadata": {},
   "source": [
    "### Introduction\n"
   ]
  },
  {
   "cell_type": "markdown",
   "metadata": {},
   "source": [
    "- Statistics and probability theory constitute a branch of mathematics for dealing with _uncertainty_. The probability theory provides a basis for the science of _statistical inference_ from data\n",
    "- Sample: (of size n) obtained from a mother population assumed to be represented by a probability\n",
    "- Descriptive statistics: description of the sample\n",
    "- Inferential statistics: making a decision or an inference from a sample of our problem"
   ]
  },
  {
   "cell_type": "markdown",
   "metadata": {},
   "source": [
    "### Sample Spaces"
   ]
  },
  {
   "cell_type": "markdown",
   "metadata": {},
   "source": [
    "- Experiment: any process or procedure for which more than one outcome is possible\n",
    "- Sample Space: set of all the possible experimental outcomes"
   ]
  },
  {
   "cell_type": "markdown",
   "metadata": {},
   "source": [
    "### Probability Values"
   ]
  },
  {
   "cell_type": "markdown",
   "metadata": {},
   "source": [
    "A set of probability values for an experiment with sample space $S = \\{ O_1, O_2, \\cdots, O_n \\}$  consists of some probabilities that satisfy:\n",
    "\\begin{equation}\n",
    "   0 \\leq p_i \\leq 1, \\hspace{0.5cm} i= 1,2, \\cdots, n\n",
    "\\end{equation}\n",
    "and\n",
    "\\begin{equation}\n",
    "   p_1 +p_2 + \\cdots +p_n = 1\n",
    "\\end{equation}\n",
    "The probability of outcome $O_i$ occurring is said to be $p_i$ and it is written:\n",
    "\\begin{equation}\n",
    "    P(O_i) = p_i\n",
    "\\end{equation}\n",
    "In cases in which the $n$ outcomes are equally likely, then each probability will have a value of $1/n$."
   ]
  },
  {
   "cell_type": "markdown",
   "metadata": {},
   "source": [
    "## Events"
   ]
  },
  {
   "cell_type": "markdown",
   "metadata": {},
   "source": [
    "### Events and Complements"
   ]
  },
  {
   "cell_type": "markdown",
   "metadata": {},
   "source": [
    "- Events: subset of the sample space\n",
    "- The probability of an event $A$, $P(A)$, is obtained by the probabilities of the outcomes contained withing the event $A$\n",
    "- An event is said to occur if one of the outcomes contained within the event occurs"
   ]
  },
  {
   "cell_type": "markdown",
   "metadata": {},
   "source": [
    "- Complement of events: event $ A' $ is the event consisting of everything in the sample space $S$ that is not contained within $A$\n",
    "\\begin{equation}\n",
    "    P(A) + P(A ') = 1\n",
    "\\end{equation}\n",
    "- Elementary (or simple) event: event consisting of an individual outcome"
   ]
  },
  {
   "cell_type": "markdown",
   "metadata": {},
   "source": [
    "## Combinations of Events"
   ]
  },
  {
   "cell_type": "markdown",
   "metadata": {},
   "source": [
    "### Intersections of Events"
   ]
  },
  {
   "cell_type": "markdown",
   "metadata": {},
   "source": [
    "- Intersections of Events: $A \\cap B$ consists of the outcomes contained within both events $A$ and $B$\n",
    "- Probability of the intersection, $P(A \\cap B) $, is the probability that both events occur simultaneously\n",
    "- Properties:\n",
    "    - $P(A \\cap B) +P(A \\cap B') = P(A)$\n",
    "    - Mutually exclusive events: if $A \\cap B = \\emptyset$\n",
    "    - $A \\cap (B \\cap C) = (A \\cap B) \\cap C $"
   ]
  },
  {
   "cell_type": "markdown",
   "metadata": {},
   "source": [
    "### Union of Events"
   ]
  },
  {
   "cell_type": "markdown",
   "metadata": {},
   "source": [
    "- Union of Events: $ A \\cup B $ consists of the outcomes that are contained within at least one of the events $A$ and $B$\n",
    "- The probability of this event, $P (A \\cup B)$ is the probability that at least one of these events $A$ and $B$ occurs"
   ]
  },
  {
   "cell_type": "markdown",
   "metadata": {},
   "source": [
    "- Properties\n",
    "    - $P( A \\cup B) = P(A \\cap B') + P(A' \\cap B') + P(A \\cap B)$\n",
    "    - If the events are mutually exclusive, then $P(A \\cup B) = P(A) + P(B)$\n",
    "- Other simple results:\n",
    "    - $(A \\cup B)' = A' \\cap B' $\n",
    "    - $(A \\cap B)' = A' \\cup B' $\n",
    "    - $A \\cup A' = S $\n",
    "    - $A \\cup (B \\cup C) = (A \\cup B) \\cup C $\n"
   ]
  },
  {
   "cell_type": "markdown",
   "metadata": {},
   "source": [
    "### Combinations of Three or More Events"
   ]
  },
  {
   "cell_type": "markdown",
   "metadata": {},
   "source": [
    "- $ P(A \\cup B \\cup C) = P(A) + P(B) + P(C) - P(A \\cap B) - P( B \\cap C) - P( A \\cap C) + P(A \\cap B \\cap C)$\n",
    "- Union of Mutually Exclusive Events: given a sequence $A_1, A_2, \\cdots , A_n$ of mutually exclusive events:\n",
    "\\begin{equation}\n",
    "    P(A_1 \\cup A_2 \\cup \\cdots \\cup A_n) = P(A_1) + \\cdots + P(A_n)\n",
    "\\end{equation}\n",
    "- Partition of sample space S: given a sequence $A_1, A_2, \\cdots , A_n$ of mutually exclusive events such that $A_1 \\cup A_2 \\cup \\cdots \\cup A_n = S$ is called a partition of S"
   ]
  },
  {
   "cell_type": "markdown",
   "metadata": {},
   "source": [
    "## Conditional Probability"
   ]
  },
  {
   "cell_type": "markdown",
   "metadata": {},
   "source": [
    "### Definition of Conditional Probability"
   ]
  },
  {
   "cell_type": "markdown",
   "metadata": {},
   "source": [
    "- Conditional Probability: of an event $A$ conditional on an event $B$ is:\n",
    "\\begin{equation}\n",
    "    P(A \\mid B) = \\frac{P(A \\cap B)}{P(B)} \\hspace{0.5cm}  \\text{for } P(B) >0\n",
    "\\end{equation}"
   ]
  },
  {
   "cell_type": "markdown",
   "metadata": {},
   "source": [
    "## Probabilities of Event Intersections"
   ]
  },
  {
   "cell_type": "markdown",
   "metadata": {},
   "source": [
    "### General Multiplication Law"
   ]
  },
  {
   "cell_type": "markdown",
   "metadata": {},
   "source": [
    "- $P (A \\mid B) = \\frac{P(A \\cap B)}{P(B)} \\\\\n",
    "\\Longrightarrow P(A \\cap B) = P(B)P (A \\mid B)$\n",
    "- $P (A \\mid B \\cap C) = \\frac{P(A \\cap B \\cap C)}{P(B \\cap C)} \\\\\n",
    "\\Longrightarrow P(A \\cap B \\cap C) = P(B \\cap C)P (A \\mid B \\cap C)$\n",
    "- In general, for a sequence of events $A_1, A_2, \\cdots,Untitled A_n$:\n",
    "\\begin{equation}\n",
    "    P(A_1, A_2, \\cdots, A_n) = P(A_1)P(A_2 \\mid A_1)P(A_3 \\mid A_1 \\cap A_2) \\cdots P(A_n \\mid A_1 \\cap \\cdots \\cap A_{n-1})\n",
    "\\end{equation}"
   ]
  },
  {
   "cell_type": "markdown",
   "metadata": {},
   "source": [
    "### Independent Events"
   ]
  },
  {
   "cell_type": "markdown",
   "metadata": {},
   "source": [
    "- Two events $A$ and $B$ are independent if: \n",
    "    1. $P(A \\mid B) = P(A)$\n",
    "    2. $P(B \\mid A) = P(B)$\n",
    "    3. $P(A \\cap B) = P(A)P(B)$\n",
    "- These conditions are also equivalent\n",
    "- Interpretation: events are independent if the knowledge about one event does not affect the probability of the other event"
   ]
  },
  {
   "cell_type": "markdown",
   "metadata": {},
   "source": [
    "- Mutual independence: $A_1, A_2, \\cdots, A_n$ are mutually independent if for any subset $ \\{ j_1, j_2, \\cdots, j_k \\}, k \\leq n, \\text{of } \\{ 1, 2, \\cdots, n \\} $ : \n",
    "\\begin{equation}\n",
    "    P(A_{j_1}, A_{j_2}, \\cdots, A_{j_k} = P(A_{j_1})P(A_{j_2}) \\cdots P(A_{j_k})\n",
    "\\end{equation}"
   ]
  },
  {
   "cell_type": "markdown",
   "metadata": {},
   "source": [
    "- Pairwise independence: the events $A_1, A_2, \\cdots, A_n$ satisfying:\n",
    "\\begin{equation}\n",
    "    P(A_i \\cap A_j) = P(A_i)P(A_j) \\text{ for all } i, j \\in \\{1, 2, \\cdots, n \\} \\text{ with } i \\neq j\n",
    "\\end{equation}"
   ]
  },
  {
   "cell_type": "markdown",
   "metadata": {},
   "source": [
    "## Posterior Probabilities"
   ]
  },
  {
   "cell_type": "markdown",
   "metadata": {},
   "source": [
    "### Law of Total Probability"
   ]
  },
  {
   "cell_type": "markdown",
   "metadata": {},
   "source": [
    "- Given $\\{ A_1, A_2, \\cdots, A_n \\}$ a partition of sample space $S$, the probability of an event $B$, $P(B)$ can be expressed as:\n",
    "\\begin{equation}\n",
    "    P(B) = \\sum_{i=1}^n P(A_i)P(B \\mid A_i)\n",
    "\\end{equation}"
   ]
  },
  {
   "cell_type": "markdown",
   "metadata": {},
   "source": [
    "### Bayes' Theorem"
   ]
  },
  {
   "cell_type": "markdown",
   "metadata": {},
   "source": [
    "- Given $\\{ A_1, A_2, \\cdots, A_n \\}$ a partition of a sample space, then the posterior probabilities of the event $A_i$ conditional on an event $B$ can be obtained from the probabilities $P(A_i)$ and $P(A_i \\mid B)$ using the formula:\n",
    "\\begin{equation}\n",
    "    P(A_i \\mid B) = \\frac{P(A_i)P(B \\mid A_i)}{\\sum_{j=1}^n P(A_j)P(B \\mid A_j)}\n",
    "\\end{equation}"
   ]
  },
  {
   "cell_type": "code",
   "execution_count": null,
   "metadata": {},
   "outputs": [],
   "source": []
  },
  {
   "cell_type": "code",
   "execution_count": 32,
   "metadata": {},
   "outputs": [],
   "source": [
    "'''\n",
    "Import here useful libraries\n",
    "Run this cell first for convenience\n",
    "'''\n",
    "# Import here useful libraries\n",
    "import numpy as np\n",
    "from scipy import stats\n",
    "import scipy\n",
    "import warnings\n",
    "from sympy import symbols\n",
    "from sympy import integrate\n",
    "warnings.simplefilter('ignore', DeprecationWarning)"
   ]
  },
  {
   "cell_type": "markdown",
   "metadata": {},
   "source": [
    "# Chapter 2 - Random Variables"
   ]
  },
  {
   "cell_type": "markdown",
   "metadata": {},
   "source": [
    "## Discrete Random Variable"
   ]
  },
  {
   "cell_type": "markdown",
   "metadata": {},
   "source": [
    "### Definition of a Random Variable"
   ]
  },
  {
   "cell_type": "markdown",
   "metadata": {},
   "source": [
    "- Random variable $X$: mapping from sample space $S$ to a real line $R$\n",
    "- Numerical value $X(w)$ mapped to each outcome $w$ of a particular experiment"
   ]
  },
  {
   "cell_type": "markdown",
   "metadata": {},
   "source": [
    "### Probability Mass Function"
   ]
  },
  {
   "cell_type": "markdown",
   "metadata": {},
   "source": [
    "- Probability Mass Function (p.m.f.): set of probability values $p_i$ assigned to each value taken by the discrete random variable $x_i$\n",
    "- $ 0 \\leq p_i \\leq 1 \\text{ and } \\sum_i p_i = 1$\n",
    "- Probability: $P(X = x_i) = p_i$"
   ]
  },
  {
   "cell_type": "markdown",
   "metadata": {},
   "source": [
    "### Cumulative Distribution Function"
   ]
  },
  {
   "cell_type": "markdown",
   "metadata": {},
   "source": [
    "- Cumulative Distribution Function (CDF): $F(x) = P(X \\leq x)$"
   ]
  },
  {
   "cell_type": "markdown",
   "metadata": {},
   "source": [
    "## Continuous Random Variables"
   ]
  },
  {
   "cell_type": "markdown",
   "metadata": {},
   "source": [
    "### Probability Density Function"
   ]
  },
  {
   "cell_type": "markdown",
   "metadata": {},
   "source": [
    "- Probability Density Function (pdf): \n",
    "\\begin{equation}\n",
    "    f(x) \\geq 0\n",
    "\\end{equation}\n",
    "\\begin{equation}\n",
    "    \\int_{-\\infty}^{\\infty} f(x) dx = 1\n",
    "\\end{equation}\n"
   ]
  },
  {
   "cell_type": "code",
   "execution_count": 3,
   "metadata": {},
   "outputs": [
    {
     "name": "stdout",
     "output_type": "stream",
     "text": [
      "Result and error:  (0.9999999999999989, 1.1102230246251553e-14)\n"
     ]
    }
   ],
   "source": [
    "# Verify if provided function is a probability density function\n",
    "# Parameters\n",
    "a = 2\n",
    "b = 1\n",
    "x_i = 49.5 # Integration from x_i to x_f\n",
    "x_f = 50.5\n",
    "from scipy.integrate import quad\n",
    "def integrand(x, a, b):\n",
    "    return 1.5 - 6*(x - 50)**2\n",
    "I = quad(integrand, x_i, x_f, args=(a,b))\n",
    "print(\"Result and error: \", I)"
   ]
  },
  {
   "cell_type": "markdown",
   "metadata": {},
   "source": [
    "### Cumulative Distribution Function\n"
   ]
  },
  {
   "cell_type": "markdown",
   "metadata": {},
   "source": [
    "- Cumulative Distribution Function for continuous Random Variables:\n",
    "    - $F(x) = \\int_{-\\infty}^x f(y) dy$\n",
    "    - $f(x) = \\frac{dF(x)}{dx}$\n",
    "    - $P(a < X < b) = F(b) - F(a)$\n",
    "    - $P(a < X < b) = P(a \\leq X \\leq b) = P(a \\leq X < b) = P(a < X \\leq b)$"
   ]
  },
  {
   "cell_type": "markdown",
   "metadata": {},
   "source": [
    "## Expectation of a Random Variable"
   ]
  },
  {
   "cell_type": "markdown",
   "metadata": {},
   "source": [
    "### Expectations of Discrete Random Variables"
   ]
  },
  {
   "cell_type": "markdown",
   "metadata": {},
   "source": [
    "- Expectation of a discrete random variable $X$ with p.m.f. $p$:\n",
    "\\begin{equation}\n",
    "    E(X) = \\sum_i p_i x_i\n",
    "\\end{equation}"
   ]
  },
  {
   "cell_type": "code",
   "execution_count": 4,
   "metadata": {},
   "outputs": [
    {
     "name": "stdout",
     "output_type": "stream",
     "text": [
      "Expected value:  23.0\n"
     ]
    }
   ],
   "source": [
    "from scipy.stats import rv_discrete\n",
    "\n",
    "x = [10, 20, 30]\n",
    "p = [0.2, 0.3, 0.5]\n",
    "distribution = rv_discrete(values=(x, p))\n",
    "print(\"Expected value: \", distribution.expect())"
   ]
  },
  {
   "cell_type": "markdown",
   "metadata": {},
   "source": [
    "### Expectation of a Continuous Random Variable"
   ]
  },
  {
   "cell_type": "markdown",
   "metadata": {},
   "source": [
    "- Expectation of a continuous random variable with p.d.f. $f(x)$\n",
    "\\begin{equation}\n",
    "    E(X) = \\int_{- \\infty}^{\\infty} xf(x)dx\n",
    "\\end{equation}"
   ]
  },
  {
   "cell_type": "code",
   "execution_count": 5,
   "metadata": {},
   "outputs": [
    {
     "name": "stdout",
     "output_type": "stream",
     "text": [
      "Expected value:  0.9999999999999989\n"
     ]
    }
   ],
   "source": [
    "from scipy.stats import rv_continuous\n",
    "a = 49.5 # lower bound\n",
    "b = 50.5 # upper bound\n",
    "class distribution_gen(rv_continuous):\n",
    "    def _pdf(self, x):\n",
    "        return 1.5 - 6*(x - 50)**2\n",
    "distribution = distribution_gen(name='Continuous distribution')\n",
    "print(\"Expected value: \", distribution.expect(lambda x: 1, lb=a, ub=b))"
   ]
  },
  {
   "cell_type": "markdown",
   "metadata": {},
   "source": [
    "### Symmetric Random Variables"
   ]
  },
  {
   "cell_type": "markdown",
   "metadata": {},
   "source": [
    "- Symmetric Random Variables: if $p(x)$ is symmetric around a point $\\mu$ so that:\n",
    "\\begin{equation}\n",
    "    f(\\mu + x) = f(\\mu -x)\n",
    "\\end{equation}\n",
    "- In this case, $E(X) = \\mu$ is the point of symmetry"
   ]
  },
  {
   "cell_type": "markdown",
   "metadata": {},
   "source": [
    "### Medians of Random Variables"
   ]
  },
  {
   "cell_type": "markdown",
   "metadata": {},
   "source": [
    "- Median: for a random variable $X$ its median is the value $x$ such that $F(x) = 0.5$"
   ]
  },
  {
   "cell_type": "code",
   "execution_count": 6,
   "metadata": {},
   "outputs": [
    {
     "name": "stdout",
     "output_type": "stream",
     "text": [
      "Median:  50.0\n"
     ]
    }
   ],
   "source": [
    "from scipy.stats import rv_continuous\n",
    "a = 49.5 # lower bound\n",
    "b = 50.5 # upper bound\n",
    "class distribution_gen(rv_continuous):\n",
    "    def _pdf(self, x):\n",
    "        return 1.5 - 6*(x - 50)**2\n",
    "distribution = distribution_gen(a=a, b=b)\n",
    "print(\"Median: \", distribution.median())"
   ]
  },
  {
   "cell_type": "markdown",
   "metadata": {},
   "source": [
    "## Variance of a Random Variable"
   ]
  },
  {
   "cell_type": "markdown",
   "metadata": {},
   "source": [
    "### Definition and Interpretation of Variance "
   ]
  },
  {
   "cell_type": "markdown",
   "metadata": {},
   "source": [
    "- Variance ($ \\sigma ^2$): $Var(X) = E(X - E(X))^2 = E(X^2) - \\mu ^2$\n",
    "- Positive quantity measuring the spread of the distribution about its mean value\n",
    "- Standard Deviation($\\sigma$): $\\sqrt{Var(x)}$"
   ]
  },
  {
   "cell_type": "code",
   "execution_count": 8,
   "metadata": {},
   "outputs": [
    {
     "name": "stdout",
     "output_type": "stream",
     "text": [
      "Variance:  61.0\n",
      "Standard Deviation:  7.810249675906654\n"
     ]
    }
   ],
   "source": [
    "from scipy.stats import rv_discrete\n",
    "\n",
    "x = [10, 20, 30]\n",
    "p = [0.2, 0.3, 0.5]\n",
    "distribution = rv_discrete(values=(x, p))\n",
    "print(\"Variance: \", distribution.var())\n",
    "print(\"Standard Deviation: \", distribution.std())"
   ]
  },
  {
   "cell_type": "code",
   "execution_count": 44,
   "metadata": {},
   "outputs": [
    {
     "name": "stdout",
     "output_type": "stream",
     "text": [
      "Variance:  0.049999999999272404\n",
      "Standard Deviation:  0.22360679774835202\n"
     ]
    }
   ],
   "source": [
    "from scipy.stats import rv_continuous\n",
    "a = 49.5 # lower bound\n",
    "b = 50.5 # upper bound\n",
    "class distribution_gen(rv_continuous):\n",
    "    def _pdf(self, x):\n",
    "        return 1.5 - 6*(x - 50)**2\n",
    "distribution = distribution_gen(a=a, b=b)\n",
    "print(\"Variance: \", distribution.var())\n",
    "print(\"Standard Deviation: \", distribution.std())"
   ]
  },
  {
   "cell_type": "code",
   "execution_count": 66,
   "metadata": {},
   "outputs": [
    {
     "name": "stdout",
     "output_type": "stream",
     "text": [
      "Variance:  2.0423852667674502\n",
      "Standard Deviation:  1.4291204521549086\n"
     ]
    }
   ],
   "source": [
    "## Why isn't the result correct?\n",
    "from scipy.stats import rv_continuous\n",
    "from math import exp\n",
    "a = 0 # lower bound\n",
    "b = 10 # upper bound\n",
    "class distribution_gen(rv_continuous):\n",
    "    def _pdf(self, x):\n",
    "        return (( (exp(10 -(x)) -1)/(exp(10)-11) * x))\n",
    "distribution = distribution_gen(a=a, b=b)\n",
    "print(\"Variance: \", distribution.var())\n",
    "print(\"Standard Deviation: \", distribution.std())"
   ]
  },
  {
   "cell_type": "code",
   "execution_count": 67,
   "metadata": {},
   "outputs": [
    {
     "name": "stdout",
     "output_type": "stream",
     "text": [
      "Variance:  0.08310376492194038\n",
      "Standard Deviation:  0.28827723621878365\n"
     ]
    }
   ],
   "source": [
    "## Looks like it works well with polynomials\n",
    "from scipy.stats import rv_continuous\n",
    "from math import exp\n",
    "a = 5 # lower bound\n",
    "b = 6 # upper bound\n",
    "class distribution_gen(rv_continuous):\n",
    "    def _pdf(self, x):\n",
    "        return ( 2/11 * x)\n",
    "distribution = distribution_gen(a=a, b=b)\n",
    "print(\"Variance: \", distribution.var())\n",
    "print(\"Standard Deviation: \", distribution.std())"
   ]
  },
  {
   "cell_type": "markdown",
   "metadata": {},
   "source": [
    "### Chebyshev's Inequality"
   ]
  },
  {
   "cell_type": "markdown",
   "metadata": {},
   "source": [
    "- Chebyshev's Inequality: if $X$ is a random variable with mean $\\mu$ and variance $\\sigma ^2$ the following holds:\n",
    "\\begin{equation}\n",
    "    P(\\mu -c \\sigma \\leq X \\leq \\mu + c \\sigma) \\geq 1 - \\frac{1}{c^2} \\text{ for } c \\geq 1\n",
    "\\end{equation}"
   ]
  },
  {
   "cell_type": "markdown",
   "metadata": {},
   "source": [
    "### Quantiles of Random Variables"
   ]
  },
  {
   "cell_type": "markdown",
   "metadata": {},
   "source": [
    "- Quantiles of Random Variables: $p$-th quantile $x$ of a random variable $X$ is\n",
    "\\begin{equation}\n",
    "    F(x) = p\n",
    "\\end{equation}\n",
    "- Upper quartile ($Q_3$): 75th percentile of the distribution\n",
    "- Lower quartile ($Q_1$): 25th percentile of the distribution\n",
    "- Interquantile range (IQR): distance between the two quartiles, $Q_3 - Q_1$"
   ]
  },
  {
   "cell_type": "code",
   "execution_count": null,
   "metadata": {},
   "outputs": [],
   "source": [
    "\n",
    "'''\n",
    "from scipy.stats import rv_continuous\n",
    "a = 49.5 # lower bound\n",
    "b = 50.5 # upper bound\n",
    "class distribution_gen(rv_continuous):\n",
    "    def _pdf(self, x):\n",
    "        return 1.5 - 6*(x - 50)**2 # Function to return\n",
    "distribution = distribution_gen(a=a, b=b)\n",
    "print(\"Variance: \", distribution.qu())\n",
    "print(\"Standard Deviation: \", distribution.std())\n",
    "'''"
   ]
  },
  {
   "cell_type": "markdown",
   "metadata": {},
   "source": [
    "## Jointly Distributed Random Variables"
   ]
  },
  {
   "cell_type": "markdown",
   "metadata": {},
   "source": [
    "### Joint Probability Distributions"
   ]
  },
  {
   "cell_type": "markdown",
   "metadata": {},
   "source": [
    "- Discrete: \n",
    "\\begin{equation}   \n",
    "    P(X = x_i, Y = y_j) = p_{ij} \\geq 0 \\text{ satisfying } \\sum_i \\sum_j p_{ij} = 1\n",
    "\\end{equation}\n",
    "\n",
    "- Continuous: \n",
    "\\begin{equation}\n",
    "    f(x,y) \\geq 0 \\text{ satisfying } \\int \\int f(x,y) dxdy= 1\n",
    "\\end{equation}\n",
    "\n"
   ]
  },
  {
   "cell_type": "markdown",
   "metadata": {},
   "source": [
    "- Joint Cumulative Distribution Function: \n",
    "\\begin{equation}   \n",
    "    F(x,y) = P(X \\leq x_j, Y \\leq y_j)\n",
    "\\end{equation}\n",
    "    - Discrete:\n",
    "    \\begin{equation}   \n",
    "        F(x,y) = \\sum_{i:x_i \\leq x} \\sum_{j:y_j \\leq y} p_{ij}\n",
    "    \\end{equation}\n",
    "    - Continuous:\n",
    "    \\begin{equation}   \n",
    "        F(x,y) = \\int_{- \\infty}^{ y} \\int_{- \\infty}^{ x} f(w, z) dwdz\n",
    "    \\end{equation}"
   ]
  },
  {
   "cell_type": "markdown",
   "metadata": {},
   "source": [
    "### Marginal Probability Distributions"
   ]
  },
  {
   "cell_type": "markdown",
   "metadata": {},
   "source": [
    "- Marginal probability distribution: obtained by summing or integrating the joint probability distribution over the values of the other random variable\n",
    "    - Discrete:\n",
    "    \\begin{equation}   \n",
    "        P(X = x_i) = p_{i+} = \\sum_j p_{ij}\n",
    "    \\end{equation}\n",
    "    - Continuous:\n",
    "    \\begin{equation}   \n",
    "        f_X(x) = \\int_{- \\infty}^{\\infty} f(x,y)dy\n",
    "    \\end{equation}"
   ]
  },
  {
   "cell_type": "markdown",
   "metadata": {},
   "source": [
    "### Conditional Probability Distributions"
   ]
  },
  {
   "cell_type": "markdown",
   "metadata": {},
   "source": [
    "- Probability distribution describing the properties of a random variable $X$ given knowledge of $Y$\n",
    "    - Discrete:\n",
    "    \\begin{equation}   \n",
    "        f_{X \\mid Y}(x_i \\mid y_i) = P(X = x_i \\mid Y = y_j) = \\frac{p_{ij}}{p_{+j}}\n",
    "    \\end{equation}\n",
    "    - Continuous:\n",
    "    \\begin{equation}   \n",
    "        f_{X \\mid Y}(x \\mid y) = \\frac{f(x,y)}{f_Y(y)}\n",
    "    \\end{equation}"
   ]
  },
  {
   "cell_type": "markdown",
   "metadata": {},
   "source": [
    "### Computation of E(g(X,Y))"
   ]
  },
  {
   "cell_type": "markdown",
   "metadata": {},
   "source": [
    "- Given $g(x,y)$ function of $x$ and $y$, we have that:\n",
    "    - Discrete:\n",
    "    \\begin{equation}   \n",
    "        E(g(X,Y)) = \\sum_{x,y} g(x,y)f(x,y)\n",
    "    \\end{equation}\n",
    "    - Continuous:\n",
    "    \\begin{equation}   \n",
    "         E(g(X,Y)) = \\int_{- \\infty}^{\\infty} \\int_{- \\infty}^{\\infty} g(x,y)f(x,y)dxdy\n",
    "    \\end{equation}"
   ]
  },
  {
   "cell_type": "markdown",
   "metadata": {},
   "source": [
    "### Independence and Covariance"
   ]
  },
  {
   "cell_type": "markdown",
   "metadata": {},
   "source": [
    "- Independence: when two random variables $X$ and $Y$ satisfy:\n",
    "\\begin{equation}\n",
    "    f(x,y) = f_X(x)f_Y(y) \\text{ for all } x \\text{ and } y\n",
    "\\end{equation}"
   ]
  },
  {
   "cell_type": "markdown",
   "metadata": {},
   "source": [
    "- Covariance: $Cov(X,Y) = E(X - E(X))(Y - E(Y)) = E(XY) -E(X)E(Y)$\n",
    "- May take a positive or negative value\n",
    "- Independent random variables have a covariance of zero, but the contrary is not always true"
   ]
  },
  {
   "cell_type": "markdown",
   "metadata": {},
   "source": [
    "- Correlation ($\\rho_{XY}$):\n",
    "    \\begin{equation}\n",
    "        Corr(X,Y) = \\frac{Cov(X,Y)}{\\sqrt{Var(X)Var(Y)}}\n",
    "    \\end{equation}\n",
    "- $-1 \\leq \\rho_{XY} \\leq 1$\n",
    "- The correlation is invariant to linear transformations of $X$ and $Y$"
   ]
  },
  {
   "cell_type": "code",
   "execution_count": 30,
   "metadata": {},
   "outputs": [
    {
     "name": "stdout",
     "output_type": "stream",
     "text": [
      "Expectation of x:  1.79\n",
      "Expectation of y:  2.59\n",
      "Variance of x:  0.3858999999999999\n",
      "Variance of y:  1.161900000000001\n",
      "Covariance:  0.22389999999999954\n",
      "Correlation:   0.33437386749732556\n"
     ]
    }
   ],
   "source": [
    "# Calculate the Covariance for discrete random variables\n",
    "\n",
    "# Input X and Y are in a table with corresponding probabilities\n",
    "value_x = np.array([1, 2, 3])\n",
    "value_y = np.array([1, 2, 3, 4])\n",
    "prob_matrix = np.array([[0.12, 0.08, 0.07, 0.05], [0.08, 0.15, 0.21, 0.13], [0.01, 0.01, 0.02, 0.07]]) # Covariance matrix\n",
    "\n",
    "# Expectation of x\n",
    "exp_x =  0\n",
    "for i in range(len(value_x)):\n",
    "    exp_x += value_x[i] * np.sum(prob_matrix, axis=1)[i]\n",
    "print(\"Expectation of x: \", exp_x)\n",
    "\n",
    "# Expectation of y\n",
    "exp_y = 0\n",
    "for i in range(len(value_y)):\n",
    "    exp_y += value_y[i] * np.sum(prob_matrix, axis=0)[i]\n",
    "print(\"Expectation of y: \", exp_y)\n",
    "    \n",
    "# Variance of x\n",
    "exp_x2 = 0\n",
    "for i in range(len(value_x)):\n",
    "    exp_x2 += (value_x[i] ** 2) * np.sum(prob_matrix, axis=1)[i]\n",
    "var_x = exp_x2 - (exp_x ** 2)\n",
    "print(\"Variance of x: \", var_x)\n",
    "\n",
    "# Variance of y\n",
    "exp_y2 = 0\n",
    "for i in range(len(value_y)):\n",
    "    exp_y2 += (value_y[i] ** 2) * np.sum(prob_matrix, axis=0)[i]\n",
    "var_y = exp_y2 - (exp_y ** 2)\n",
    "print(\"Variance of y: \", var_y)\n",
    "\n",
    "# Covariance\n",
    "exp_xy = 0\n",
    "for i in range(len(value_x)):\n",
    "    for j in range(len(value_y)):\n",
    "        exp_xy += value_x[i] * value_y[j] * prob_matrix[i, j]\n",
    "cov = exp_xy - exp_x * exp_y\n",
    "print(\"Covariance: \", cov)\n",
    "\n",
    "# Correlation\n",
    "corr = cov / ((var_x * var_y) ** (1/2))\n",
    "print(\"Correlation:  \", corr)        "
   ]
  },
  {
   "cell_type": "code",
   "execution_count": 34,
   "metadata": {},
   "outputs": [
    {
     "name": "stdout",
     "output_type": "stream",
     "text": [
      "Expectation of x:  2.4444444444444446\n",
      "Expectation of y:  5.583333333333333\n",
      "Variance of x:  -4.141975308641976\n",
      "Variance of y:  -22.373611111111106\n",
      "Covariance:  -9.925925925925927\n",
      "Correlation:   -1.0310963144439693\n"
     ]
    }
   ],
   "source": [
    "# Covariance for continuous random variables\n",
    "x = symbols('x')\n",
    "y = symbols('y')\n",
    "\n",
    "# Inputs\n",
    "func = 8 * x * y - 2 * x * (y ** 2)\n",
    "domain_x = (0, 1)\n",
    "domain_y = (1, 2)\n",
    "\n",
    "# Expectation of x\n",
    "exp_x = float(integrate(x * integrate(func, (y, domain_y[0], domain_y[1])), (x, domain_x[0], domain_x[1])))\n",
    "print(\"Expectation of x: \", exp_x)\n",
    "\n",
    "# Expectation of y\n",
    "exp_y = float(integrate(y * integrate(func, (x, domain_x[0], domain_x[1])), (y, domain_y[0], domain_y[1]), (y, domain_y[0], domain_y[1])))\n",
    "print(\"Expectation of y: \", exp_y)\n",
    "\n",
    "# Variance of x\n",
    "exp_x2 = float(integrate(x * x * integrate(func, (y, domain_y[0], domain_y[1])), (x, domain_x[0], domain_x[1])))\n",
    "var_x = exp_x2 - exp_x ** 2\n",
    "print(\"Variance of x: \", var_x)\n",
    "\n",
    "# Variance of y\n",
    "exp_y2 = float(integrate(y * y * integrate(func, (x, domain_x[0], domain_x[1])), (y, domain_y[0], domain_y[1])))\n",
    "var_y = exp_y2 - exp_y ** 2\n",
    "print(\"Variance of y: \", var_y)\n",
    "\n",
    "# Covariance\n",
    "exp_xy = float(integrate(x * y * func, (x, domain_x[0], domain_x[1]), (y, domain_y[0], domain_y[1])))\n",
    "cov = exp_xy - exp_x * exp_y\n",
    "print(\"Covariance: \", cov)\n",
    "\n",
    "# Correlation\n",
    "corr = cov/(var_x * var_y) ** (1/2)\n",
    "print(\"Correlation:  \", corr)        "
   ]
  },
  {
   "cell_type": "markdown",
   "metadata": {},
   "source": [
    "## Combinations and Functions of Random Variables"
   ]
  },
  {
   "cell_type": "markdown",
   "metadata": {},
   "source": [
    "### Linear Functions of Random Variables"
   ]
  },
  {
   "cell_type": "markdown",
   "metadata": {},
   "source": [
    "- Linear function of a random variable: given $X$ random variable and $Y = aX + b$ with $a, b \\in \\mathbb{R}$ then:\n",
    "\\begin{equation}\n",
    "    E(Y) = aE(X) + b \\text{  and  } Var(Y) = a^2Var(X)\n",
    "\\end{equation}\n",
    "- Standardization: if $X$ has expectation $\\mu$ and variance $\\sigma^2$ then:\n",
    "\\begin{equation}\n",
    "    Y = \\frac{X - \\mu}{\\sigma}\n",
    "\\end{equation}\n",
    "has an expectation of zero and variance of one"
   ]
  },
  {
   "cell_type": "markdown",
   "metadata": {},
   "source": [
    "- Sums of Random variables: given two random variables $X_1$ and $X_2$ then\n",
    "\\begin{equation}\n",
    "    E(X_1 + X_2) = E(X_1) + E(X_2)\n",
    "\\end{equation}\n",
    "and\n",
    "\\begin{equation}\n",
    "    Var(X_1 + X_2) = Var(X_1) + Var(X_2) + 2Cov(X_1,X_2)\n",
    "\\end{equation}\n",
    "- If $X_1$ and $X_2$ are independent, then:\n",
    "\\begin{equation}\n",
    "    Var(X_1 + X_2) = Var(X_1) + Var(X_2)\n",
    "\\end{equation}"
   ]
  },
  {
   "cell_type": "markdown",
   "metadata": {},
   "source": [
    "### Linear Combinations of Random Variables"
   ]
  },
  {
   "cell_type": "markdown",
   "metadata": {},
   "source": [
    "- Linear combinations of random variables: if $X_1, \\cdots, X_n$ is a sequence of random variables and $a_1, \\cdots, a_n$ and $b$ are constants then:\n",
    "\\begin{equation}\n",
    "    E(a_1X_1 + \\cdots + a_n X_n + b) = a_1 E(X_1) + \\cdots +a_n E(X_n) + b\n",
    "\\end{equation}\n",
    "- If the random variables are independent:\n",
    "\\begin{equation}\n",
    "    Var(a_1X_1 + \\cdots + a_nX_n + b) = a_1^2Var(X_1) + \\cdots + a_n^2 Var(X_n)\n",
    "\\end{equation}"
   ]
  },
  {
   "cell_type": "markdown",
   "metadata": {},
   "source": [
    "- Averaging independent random variables: $X_1, \\cdots, X_n$ sequence of random variables with expectation $\\mu$ and variance $\\sigma^2$ we have:\n",
    "$\\bar{X} = \\frac{\\sum_{i=1}^n X_i}{n}$ then\n",
    "    - $E(\\bar{X}) = \\mu$\n",
    "    - $Var(\\bar{X}) = \\frac{\\sigma^2}{n}$"
   ]
  },
  {
   "cell_type": "markdown",
   "metadata": {},
   "source": [
    "### Nonlinear Functions of a Random Variable"
   ]
  },
  {
   "cell_type": "markdown",
   "metadata": {},
   "source": [
    "- Nonlinear function of a random variable $X$: another random variable $Y=g(X)$ for some nonlinear function g"
   ]
  },
  {
   "cell_type": "code",
   "execution_count": null,
   "metadata": {},
   "outputs": [],
   "source": []
  },
  {
   "cell_type": "code",
   "execution_count": null,
   "metadata": {},
   "outputs": [],
   "source": [
    "'''\n",
    "Import here useful libraries\n",
    "Run this cell first for convenience\n",
    "'''\n",
    "import numpy as np\n",
    "from scipy import stats\n",
    "import scipy\n",
    "import warnings\n",
    "warnings.simplefilter('ignore', DeprecationWarning)"
   ]
  },
  {
   "cell_type": "markdown",
   "metadata": {},
   "source": [
    "# Chapter 3 - Discrete Probability Distributions"
   ]
  },
  {
   "cell_type": "markdown",
   "metadata": {},
   "source": [
    "## The Binomial Distribution"
   ]
  },
  {
   "cell_type": "markdown",
   "metadata": {},
   "source": [
    "### Bernoulli Random Variables"
   ]
  },
  {
   "cell_type": "markdown",
   "metadata": {},
   "source": [
    "- Modeling of a process with two possible outcomes, labeled 0 and 1\n",
    "- Random variable defined by the parameter $p$, $0 \\leq p \\leq 1$, which is the probability that the outcome is 1\n",
    "- The Bernoulli distribution $Ber(p)$ is:\n",
    "\\begin{equation}\n",
    "    f(x;p) = p^x(1-p)^{1-x}, \\text{   } x= 0,1\n",
    "\\end{equation}\n",
    "- $E(X) = p$\n",
    "- $Var(X) = p(1-p)$"
   ]
  },
  {
   "cell_type": "code",
   "execution_count": 4,
   "metadata": {},
   "outputs": [
    {
     "name": "stdout",
     "output_type": "stream",
     "text": [
      "Mean:  0.3\n",
      "Variance:  0.21\n"
     ]
    }
   ],
   "source": [
    "from scipy.stats import bernoulli\n",
    "n = number of trials\n",
    "p = 0.3 # probability of success\n",
    "print(\"Mean: \", bernoulli.mean(p))\n",
    "print(\"Variance: \", bernoulli.var(p))"
   ]
  },
  {
   "cell_type": "markdown",
   "metadata": {},
   "source": [
    "### Definition of the Binomial Distribution"
   ]
  },
  {
   "cell_type": "markdown",
   "metadata": {},
   "source": [
    "- Let's consider and experiment consisting of $n$ Bernoulli trials $X_1, \\cdots, X_n$ independent and with a constant probability $p$ of success\n",
    "- Then the total number of successes $X = \\sum_{i=1}^m X_i$ is a random variable whose Binomial distribution with parameters $n$ (number of trials) and $p$ is:\n",
    "\\begin{equation}\n",
    "    X \\sim B(n,p)\n",
    "\\end{equation}"
   ]
  },
  {
   "cell_type": "markdown",
   "metadata": {},
   "source": [
    "- Probability mass function of a $B(n, p)$ random variable is:\n",
    "\\begin{equation}\n",
    "    f(x;n,p) = \\binom{n}{x}p^x(1-p)^{n-x}, \\text{   } x= 0,1, \\cdots, n\n",
    "\\end{equation}\n",
    "- $E(X) = np$\n",
    "- $Var(X) = np(1-p)$"
   ]
  },
  {
   "cell_type": "code",
   "execution_count": 15,
   "metadata": {},
   "outputs": [
    {
     "name": "stdout",
     "output_type": "stream",
     "text": [
      "Mean:  2.0\n",
      "Variance:  1.6\n",
      "Probability mass function:  0.0007864320000000006\n",
      "Cumulative distribution function:  0.9999220736\n"
     ]
    }
   ],
   "source": [
    "from scipy.stats import binom\n",
    "\n",
    "# Parameters\n",
    "n = 10 # number of trials\n",
    "x = 7 # number of successes\n",
    "p = 0.2 # probability of success\n",
    "\n",
    "print(\"Mean: \", binom.mean(n, p))\n",
    "print(\"Variance: \", binom.var(n, p))\n",
    "print(\"Probability mass function: \", binom.pmf(x, n, p))\n",
    "print(\"Cumulative distribution function: \", binom.cdf(x,n,p))"
   ]
  },
  {
   "cell_type": "markdown",
   "metadata": {},
   "source": [
    "### Proportion of successes in Bernoulli Trials"
   ]
  },
  {
   "cell_type": "markdown",
   "metadata": {},
   "source": [
    "- Let $X \\sim B(n,p)$. Then, if $Y = \\frac{X}{n}$\n",
    "- $E(Y) = p$\n",
    "- $Var(Y) = \\frac{p(1-p)}{n}$"
   ]
  },
  {
   "cell_type": "markdown",
   "metadata": {},
   "source": [
    "## The Geometric and Negative Binomial Distributions"
   ]
  },
  {
   "cell_type": "markdown",
   "metadata": {},
   "source": [
    "### Definition of the Geometric Distribution"
   ]
  },
  {
   "cell_type": "markdown",
   "metadata": {},
   "source": [
    "- Number of $X$ of trials up to and including the first success in a sequence of independent Bernoulli trials with a constant success probability $p$ has a geometric distribution with parameter $p$\n",
    "- Probability mass function:\n",
    "\\begin{equation}\n",
    "    P(X = x) = (1 - p)^{x-1}p, \\text{   } x=1,2, \\cdots.\n",
    "\\end{equation}\n",
    "- Cumulative distribution function:\n",
    "\\begin{equation}\n",
    "    P(X \\leq x) = 1 - (1-p)^x\n",
    "\\end{equation}\n",
    "- $E(X) = \\frac{1}{p}$\n",
    "- $Var(X) = \\frac{1-p}{p^2}$"
   ]
  },
  {
   "cell_type": "code",
   "execution_count": 26,
   "metadata": {},
   "outputs": [
    {
     "name": "stdout",
     "output_type": "stream",
     "text": [
      "Mean:  4.3478260869565215\n",
      "Variance:  14.555765595463136\n",
      "Probability mass function:  0.08085199430000001\n",
      "Cumulative distribution function:  0.7293215843\n"
     ]
    }
   ],
   "source": [
    "from scipy.stats import geom\n",
    "x = 5 # number of trials up to and including the first success\n",
    "p = 0.23 # probability of success\n",
    "print(\"Mean: \", geom.mean(p))\n",
    "print(\"Variance: \", geom.var(p))\n",
    "print(\"Probability mass function: \", geom.pmf(x, p))\n",
    "print(\"Cumulative distribution function: \", geom.cdf(x, p))"
   ]
  },
  {
   "cell_type": "markdown",
   "metadata": {},
   "source": [
    "### Definition of the Negative Binomial Distribution"
   ]
  },
  {
   "cell_type": "markdown",
   "metadata": {},
   "source": [
    "- Number $X$ of trials up and including the $r$th success in a sequence of independent Bernoulli trials with a consant success probability $p$ has a negative binomial distribution with parameter $p$\n",
    "- Probability mass function:\n",
    "\\begin{equation}\n",
    "    P(X = x) =  \\binom{x-1}{r-1} (1-p)^{x-r}p^r \\text{,  } x=r,r+1, \\cdots.\n",
    "\\end{equation}\n",
    "- $E(X) = \\frac{r}{p}$\n",
    "- $Var(X) = \\frac{r(1-p)}{p^2}$"
   ]
  },
  {
   "cell_type": "code",
   "execution_count": 29,
   "metadata": {},
   "outputs": [
    {
     "name": "stdout",
     "output_type": "stream",
     "text": [
      "Mean:  3.2727272727272725\n",
      "Variance:  5.950413223140496\n",
      "Probability mass function:  0.1667701406250001\n",
      "Cumulative distribution function:  0.6082877968750002\n"
     ]
    }
   ],
   "source": [
    "from scipy.stats import nbinom\n",
    "x = 7 # number of trials up and including the r-th success\n",
    "r = 4 # number of successes\n",
    "p = 0.55 # probability of success\n",
    "#########################################NOT WORKING!!!!!!!!!!!####################\n",
    "print(\"Mean: \", nbinom.mean(r, p))\n",
    "print(\"Variance: \", nbinom.var(r, p))\n",
    "print(\"Probability mass function: \", nbinom.pmf(x-r, r, p)) # the distribution takes x-r, which is the number of failures\n",
    "print(\"Cumulative distribution function: \", nbinom.cdf(x-r, r, p))"
   ]
  },
  {
   "cell_type": "markdown",
   "metadata": {},
   "source": [
    "## Hypergeometric Distribution"
   ]
  },
  {
   "cell_type": "markdown",
   "metadata": {},
   "source": [
    "### Definition of the Hypergeometric Distribution"
   ]
  },
  {
   "cell_type": "markdown",
   "metadata": {},
   "source": [
    "- Consider a collection of $N$ items of which $r$ are of a certain kind\n",
    "- Probability the item is of the special kind: $p = \\frac{r}{N}$\n",
    "- If $n$ items are chosen at random without replacement, then the distribution of $X \\sim B(n,p)$"
   ]
  },
  {
   "cell_type": "markdown",
   "metadata": {},
   "source": [
    "- Hypergeometric distribution: $n$ items chosen at random without replacement\n",
    "- Probability mass function:\n",
    "\\begin{equation}\n",
    "    f(x; N, n, r) = \\frac{ \\binom{r}{x} \\binom{N-r}{n-x} }{ \\binom{N}{n} },\n",
    "\\end{equation}\n",
    "\\begin{equation}\n",
    "    max \\{ 0, n-(N-r) \\} \\leq x \\leq min \\{ n, r \\}\n",
    "\\end{equation}\n",
    "- $E(X) = n\\frac{r}{N}$\n",
    "- $Var(X) = \\frac{N-n}{N-1} n \\frac{r}{N}(1- \\frac{r}{N})$"
   ]
  },
  {
   "cell_type": "markdown",
   "metadata": {},
   "source": [
    "- Comparison with $B(n,p)$ when $ p = \\frac{r}{N}$\n",
    "    - $E_B(X) = E_H(X) = np$\n",
    "    - $\\sigma_B ^2 (X) = npq \\geq \\sigma_H ^2(X) = \\frac{N-n}{N-1} npq$"
   ]
  },
  {
   "cell_type": "code",
   "execution_count": 46,
   "metadata": {},
   "outputs": [
    {
     "name": "stdout",
     "output_type": "stream",
     "text": [
      "Mean:  3.0\n",
      "Variance:  0.8571428571428571\n",
      "Probability mass function:  0.23976023976023988\n",
      "Cumulative distribution function:  0.2867132867132869\n"
     ]
    }
   ],
   "source": [
    "from scipy.stats import hypergeom\n",
    "\n",
    "x = 2 # number of rare elements picked\n",
    "N = 15 # total number of elements\n",
    "r = 9 # number of rare elements\n",
    "n = 5 # picked up elements\n",
    "\n",
    "print(\"Mean: \", hypergeom.mean(N, r, n))\n",
    "print(\"Variance: \", hypergeom.var(N, r, n))\n",
    "print(\"Probability mass function: \", hypergeom.pmf(x, N, r, n))\n",
    "print(\"Cumulative distribution function: \", hypergeom.cdf(x, N, r, n))"
   ]
  },
  {
   "cell_type": "markdown",
   "metadata": {},
   "source": [
    "## The Poisson Distribution"
   ]
  },
  {
   "cell_type": "markdown",
   "metadata": {},
   "source": [
    "### Definition of the Poisson Distribution"
   ]
  },
  {
   "cell_type": "markdown",
   "metadata": {},
   "source": [
    "- Describes the number of \"events\" occurring within certain specified boundaries of space and time\n",
    "- A random variable $X$ distributed as a Poisson random variable with parameter $\\lambda$ is written as:\n",
    "\\begin{equation}\n",
    "    X \\sim P(\\lambda)\n",
    "\\end{equation}\n",
    "- Probability mass function:\n",
    "\\begin{equation}\n",
    "    P(X = x) = \\frac{ e^{- \\lambda} \\lambda ^ {x}} {x!} \\text{   } x=0,1,2, \\cdots.\n",
    "\\end{equation}\n",
    "- $Eprint(\"Mean: \", multinomial.mean(x, p))(X) = Var(X) = \\lambda$"
   ]
  },
  {
   "cell_type": "code",
   "execution_count": 51,
   "metadata": {},
   "outputs": [
    {
     "name": "stdout",
     "output_type": "stream",
     "text": [
      "Mean:  0.6666666666666666\n",
      "Variance:  0.6666666666666666\n",
      "Probability mass function:  0.3422780793550613\n",
      "Cumulative distribution function:  0.8556951983876534\n"
     ]
    }
   ],
   "source": [
    "from scipy.stats import poisson\n",
    "\n",
    "# Parameters\n",
    "x = 1 # number of events\n",
    "Lambda = 2/3 # lambda parameter\n",
    "\n",
    "print(\"Mean: \", poisson.mean(Lambda))\n",
    "print(\"Variance: \", poisson.var(Lambda))\n",
    "print(\"Probability mass function: \", poisson.pmf(x, Lambda))\n",
    "print(\"Cumulative distribution function: \", poisson.cdf(x, Lambda))"
   ]
  },
  {
   "cell_type": "markdown",
   "metadata": {},
   "source": [
    "## The Multinomial Distribution"
   ]
  },
  {
   "cell_type": "markdown",
   "metadata": {},
   "source": [
    "### Definition of the Multinomial Distribution"
   ]
  },
  {
   "cell_type": "markdown",
   "metadata": {},
   "source": [
    "- Consider a sequence of $n$ independent trials in which each individual trial can have $k$ outcomes occurring with a constant probability value $p_1, p_2, \\cdots , p_k$ with $p_1 + p_2 + \\cdots + p_k = 1$\n",
    "- The random variables $X_1, X_2, \\cdots , X_k$ with $\\sum_{i=1}^k X_i = n$ that count the number of occurrences of the $k$ respective outcomes are said to have a multinomial distribution"
   ]
  },
  {
   "cell_type": "markdown",
   "metadata": {},
   "source": [
    "- Joint probability mass function of $X_1, X_2, \\cdots , X_k$ :\n",
    "\\begin{equation}\n",
    "    f(x_1, x_2, \\cdots, x_k; p_1, \\cdots , p_k , n) = \\binom{n}{x_1,x_2,\\cdots, x_k} p_1^{x_1} p_2^{x_2} \\cdots p_k^{x_k}\n",
    "\\end{equation}\n",
    "with $\\sum_{i=1} ^ k x_i = n$ and $\\sum_{i=1}^k p_i = 1$\n",
    "- Also written as:\n",
    "\\begin{equation}\n",
    "    (X_1, \\cdots , X_k) \\sim M_k(p_1, \\cdots, p_k, n)\n",
    "\\end{equation}"
   ]
  },
  {
   "cell_type": "markdown",
   "metadata": {},
   "source": [
    "- $E(X_i) = np_i$\n",
    "- $Var(X_i) = np_i(1-p_i)$"
   ]
  },
  {
   "cell_type": "code",
   "execution_count": 90,
   "metadata": {},
   "outputs": [
    {
     "name": "stdout",
     "output_type": "stream",
     "text": [
      "Probability mass function:  0.006518417007220723\n"
     ]
    }
   ],
   "source": [
    "from scipy.stats import multinomial\n",
    "\n",
    "# Parameters\n",
    "x = [3, 3, 4, 5] # number of successes (! Need to insert the remaining variable)\n",
    "n = 15 # number of trials\n",
    "p = [1/6, 1/6, 1/6 , 3/6] # probabilities corresponding to the successes (! Need to insert the remaining probability)\n",
    "\n",
    "print(\"Probability mass function: \", multinomial.pmf(x, n=n, p=p))"
   ]
  },
  {
   "cell_type": "code",
   "execution_count": null,
   "metadata": {},
   "outputs": [],
   "source": []
  },
  {
   "cell_type": "code",
   "execution_count": 1,
   "metadata": {},
   "outputs": [],
   "source": [
    "'''\n",
    "Import here useful libraries\n",
    "Run this cell first for convenience\n",
    "'''\n",
    "import numpy as np\n",
    "from scipy import stats\n",
    "import scipy\n",
    "import warnings\n",
    "warnings.simplefilter('ignore', DeprecationWarning)"
   ]
  },
  {
   "cell_type": "markdown",
   "metadata": {},
   "source": [
    "# Chapter 4 - Continuous Probability Distributions"
   ]
  },
  {
   "cell_type": "markdown",
   "metadata": {},
   "source": [
    "## The Uniform Distribution"
   ]
  },
  {
   "cell_type": "markdown",
   "metadata": {},
   "source": [
    "### Definition of the Uniform Distribution"
   ]
  },
  {
   "cell_type": "markdown",
   "metadata": {},
   "source": [
    "- Uniform distribution, $U(a,b)$:\n",
    "\\begin{equation}\n",
    "    f(x; a,b) = \\frac{1}{b-a} \\text{ , } a \\leq x \\leq b\n",
    "\\end{equation}\n",
    "- $E(x) = \\frac{a+b}{2}$\n",
    "- $Var(x) = \\frac{(b-a)^2}{12}$"
   ]
  },
  {
   "cell_type": "code",
   "execution_count": 13,
   "metadata": {},
   "outputs": [
    {
     "name": "stdout",
     "output_type": "stream",
     "text": [
      "Mean:  3.0\n",
      "Variance:  1.3333333333333333\n",
      "Probability distribution function:  0.25\n"
     ]
    }
   ],
   "source": [
    "from scipy.stats import uniform\n",
    "\n",
    "# Parameters\n",
    "a = 1 # lower bound\n",
    "b = 5 # upper bound\n",
    "\n",
    "print(\"Mean: \", (a+b)/2 )\n",
    "print(\"Variance: \", (b-a)**2/12 )\n",
    "print(\"Probability distribution function: \", 1/(b-a))"
   ]
  },
  {
   "cell_type": "markdown",
   "metadata": {},
   "source": [
    "## The Exponential Distribution"
   ]
  },
  {
   "cell_type": "markdown",
   "metadata": {},
   "source": [
    "### Definition of the Exponential Distribution"
   ]
  },
  {
   "cell_type": "markdown",
   "metadata": {},
   "source": [
    "- Exponential distribution ($Exp( \\lambda )$) with $\\lambda$ which can be interpreted as the occurrence rate\n",
    "- Meaning of the exponential distribution: often describes the amount of time before a certain event occurs \n",
    "- Probability distribution function:\n",
    "\\begin{equation}\n",
    "    f(x; \\lambda) = \\lambda e ^ {- \\lambda x} \\text{ , } x > 0\n",
    "\\end{equation}\n",
    "- Cumulative distribution function:\n",
    "\\begin{equation}\n",
    "    F(x) = 1 - e^{\\lambda x}\n",
    "\\end{equation}\n",
    "- $E(X) = \\frac{1}{\\lambda}$\n",
    "- $Var(X) = \\frac{1}{\\lambda^2}$"
   ]
  },
  {
   "cell_type": "code",
   "execution_count": 22,
   "metadata": {},
   "outputs": [
    {
     "name": "stdout",
     "output_type": "stream",
     "text": [
      "Mean:  0.5\n",
      "Variance:  0.25\n",
      "Probability mass function:  0.2706705664732254\n",
      "Cumulative distribution function:  0.8646647167633873\n",
      "Survival function (1-cdf):  0.1353352832366127\n"
     ]
    }
   ],
   "source": [
    "from scipy.stats import expon\n",
    "\n",
    "# Parameters\n",
    "Lambda = 0.5 # lambda, occurrence rate\n",
    "x = 1 # occurrence number\n",
    "\n",
    "print(\"Mean: \", expon.mean(scale = Lambda))\n",
    "print(\"Variance: \", expon.var(scale = Lambda))\n",
    "print(\"Probability mass function: \", expon.pdf(x, scale = Lambda))\n",
    "print(\"Cumulative distribution function: \", expon.cdf(x, scale = Lambda))\n",
    "print(\"Survival function (1-cdf): \", expon.sf(x, scale = Lambda))"
   ]
  },
  {
   "cell_type": "markdown",
   "metadata": {},
   "source": [
    "### The memoryless property of the Exponential Distribution"
   ]
  },
  {
   "cell_type": "markdown",
   "metadata": {},
   "source": [
    "- For any non-negative $x$ and $y$\n",
    "\\begin{equation}\n",
    "    P(X \\geq x + y \\mid X \\geq x) = P( X \\geq y)\n",
    "\\end{equation}\n",
    "- This is equivalent to:\n",
    "\\begin{equation}\n",
    "    P(X \\geq x + y, X \\geq x) = P( X \\geq x) P( X \\geq y)\n",
    "\\end{equation}\n",
    "- Meaning: the future does not depend on the past"
   ]
  },
  {
   "cell_type": "markdown",
   "metadata": {},
   "source": [
    "- Proposition: if $ X_1, \\cdots, X_n $ are independent exponential random variables having respective parameters $\\lambda_1 , \\cdots, \\lambda_n$, then $min \\{ X_1, \\cdots , X_n \\} $ is the exponential random variable with paramenter $\\sum_{i = 1}^n \\lambda_i$"
   ]
  },
  {
   "cell_type": "markdown",
   "metadata": {},
   "source": [
    "### The Poisson process"
   ]
  },
  {
   "cell_type": "markdown",
   "metadata": {},
   "source": [
    "- A stochastic process is a sequence of random events\n",
    "- Poisson process with parameter $\\lambda$: a stochastic process where the time (or space) intervals between events-occurrences follow the Exponential Distribution with parameter $\\lambda$\n",
    "- If $X$ is the number of events occurring within a fixed time (or space) interval of length $t$, then\n",
    "\\begin{equation}\n",
    "    X \\sim Poi(\\lambda t)\n",
    "\\end{equation}\n"
   ]
  },
  {
   "cell_type": "markdown",
   "metadata": {},
   "source": [
    "## The Gamma Distribution"
   ]
  },
  {
   "cell_type": "markdown",
   "metadata": {},
   "source": [
    "### Definition of the Gamma distribution"
   ]
  },
  {
   "cell_type": "markdown",
   "metadata": {},
   "source": [
    "- Useful for describing reliability\n",
    "- Gamma function:\n",
    "\\begin{equation}\n",
    "    \\Gamma(k) = \\int_0^{\\infty} x^{k-1}e^{-x}dx \\text{ for } k>0\n",
    "\\end{equation}"
   ]
  },
  {
   "cell_type": "code",
   "execution_count": 13,
   "metadata": {},
   "outputs": [
    {
     "name": "stdout",
     "output_type": "stream",
     "text": [
      "Gamma function result:  6.0\n"
     ]
    }
   ],
   "source": [
    "from scipy.special import gamma as gamma_function\n",
    "k = 4 # parameter of the gamma function\n",
    "print(\"Gamma function result: \", gamma_function(k))"
   ]
  },
  {
   "cell_type": "markdown",
   "metadata": {},
   "source": [
    "- Gamma distribution $Gam(k, \\lambda)$ with $k>0$ and $\\lambda >0$\n",
    "\\begin{equation}\n",
    "    f(x; k, \\lambda) = \\frac{\\lambda ^k}{\\Gamma (k)} x ^ {k-1} e ^ {- \\lambda x} \\text{ , } x > 0\n",
    "\\end{equation}\n",
    "- $ E(X) = \\frac{k}{ \\lambda }$\n",
    "- $ Var(X) = \\frac{k}{ \\lambda ^2}$"
   ]
  },
  {
   "cell_type": "code",
   "execution_count": 20,
   "metadata": {},
   "outputs": [
    {
     "name": "stdout",
     "output_type": "stream",
     "text": [
      "Mean:  1.6666666666666667\n",
      "Variance:  0.925925925925926\n",
      "Probability mass function:  0.11853315025792688\n",
      "Cumulative distribution function:  0.9052421318239862\n",
      "Survival function (1-cdf):  0.0947578681760138\n"
     ]
    }
   ],
   "source": [
    "from scipy.stats import gamma\n",
    "\n",
    "# Parameters\n",
    "x = 3 # number of events\n",
    "k = 3 # parameter of the gamma function\n",
    "Lambda = 1.8 # lambda parameter\n",
    "\n",
    "print(\"Mean: \", gamma.mean(k,  scale = 1/Lambda))\n",
    "print(\"Variance: \", gamma.var(k, scale = 1/Lambda))\n",
    "print(\"Probability mass function: \", gamma.pdf(x, k,  scale = 1/Lambda))\n",
    "print(\"Cumulative distribution function: \", gamma.cdf(x, k, scale = 1/Lambda))\n",
    "print(\"Survival function (1-cdf): \", gamma.sf(x, k, scale = 1/Lambda))"
   ]
  },
  {
   "cell_type": "markdown",
   "metadata": {},
   "source": [
    "### Properties of the Gamma function"
   ]
  },
  {
   "cell_type": "markdown",
   "metadata": {},
   "source": [
    "- $\\Gamma (\\alpha + 1) = \\alpha \\Gamma(\\alpha)$\n",
    "- $\\Gamma (1) = 1$\n",
    "- $\\Gamma (1/2) = \\sqrt{\\pi}$\n",
    "- $\\Gamma (n) = (n-1) !$"
   ]
  },
  {
   "cell_type": "markdown",
   "metadata": {},
   "source": [
    "### Properties of the Gamma distribution "
   ]
  },
  {
   "cell_type": "markdown",
   "metadata": {},
   "source": [
    "- If $X_1, \\cdots, X_n$ are independent Gamma random variables with respective parameters $(k_i, \\lambda)$, then\n",
    "\\begin{equation}\n",
    "    \\sum_{i=1}^n X_i \\sim Gam(\\sum_{i=1}^n k_i , \\lambda)\n",
    "\\end{equation}"
   ]
  },
  {
   "cell_type": "markdown",
   "metadata": {},
   "source": [
    "## Weibull Distribution\n"
   ]
  },
  {
   "cell_type": "markdown",
   "metadata": {},
   "source": [
    "### Definition of the Weibull Distribution"
   ]
  },
  {
   "cell_type": "markdown",
   "metadata": {},
   "source": [
    "- Useful for modeling failure and waiting times\n",
    "- If $X \\sim Exp(1)$ and $Y = \\frac{1}{\\lambda} x ^ { \\frac{1}{a}}$ for $ a>0$, $\\lambda > 0$ ,then \n",
    "\\begin{equation}\n",
    "    Y \\sim Weibull(\\lambda, a)\n",
    "\\end{equation}\n"
   ]
  },
  {
   "cell_type": "markdown",
   "metadata": {},
   "source": [
    "- Probability distribution function of $Weibull(\\lambda, a)$\n",
    "\\begin{equation}\n",
    "    f(y) = a \\lambda (\\lambda y )^{a-1} e^{- (\\lambda y) ^a} \\text{ for } a>0 \\text{ , } \\lambda > 0\n",
    "\\end{equation}\n",
    "- If $a = 1$, the Weibull distribution is the same as the Exponential distribution with parameter $\\lambda$\n",
    "- Cumulative distribution function:\n",
    "\\begin{equation}\n",
    "    F(y) = 1 - e^{- (\\lambda y) ^a}\n",
    "\\end{equation}\n",
    "- $E(Y) = \\frac{1}{\\lambda} \\Gamma(1 + \\frac{1}{a})$\n",
    "- $Var(Y) = \\frac{1}{\\lambda ^2} \\Big\\{  \\Gamma(1 + \\frac{2}{a}) - \\big[ \\Gamma(1 + \\frac{1}{a}) \\big]^2 \\Big\\} $"
   ]
  },
  {
   "cell_type": "code",
   "execution_count": 58,
   "metadata": {},
   "outputs": [
    {
     "name": "stdout",
     "output_type": "stream",
     "text": [
      "Mean:  0.8859147043345206\n",
      "Variance:  0.16685661876285807\n",
      "Probability mass function:  0.938104480199261\n",
      "Cumulative distribution function:  0.3748400774587345\n",
      "Survival function (1-cdf):  0.6251599225412656\n"
     ]
    }
   ],
   "source": [
    "from scipy.stats import weibull_min\n",
    "\n",
    "# Parameters\n",
    "x = 8 # number of events\n",
    "a = 2.3 # a parameter\n",
    "Lambda = 0.09 # lambda parameter\n",
    "\n",
    "print(\"Mean: \", weibull_min.mean(a)) # not sure about this\n",
    "print(\"Variance: \", weibull_min.var(a)) # not sure about this\n",
    "print(\"Probability mass function: \", weibull_min.pdf(x*Lambda, a))\n",
    "print(\"Cumulative distribution function: \", weibull_min.cdf(x*Lambda, a ))\n",
    "print(\"Survival function (1-cdf): \", weibull_min.sf(x*Lambda, a))"
   ]
  },
  {
   "cell_type": "markdown",
   "metadata": {},
   "source": [
    "## The Beta Distribution"
   ]
  },
  {
   "cell_type": "markdown",
   "metadata": {},
   "source": [
    "### Definition of the Beta Distribution"
   ]
  },
  {
   "cell_type": "markdown",
   "metadata": {},
   "source": [
    "- Useful for modeling proportions and personal probability\n",
    "- Probability distribution function:\n",
    "\\begin{equation}\n",
    "    f(x; \\alpha, \\beta) = \\frac{\\Gamma( \\alpha + \\beta)}{ \\Gamma(\\alpha) \\Gamma(\\beta)} x^{\\alpha - 1} (1 - x) ^{\\beta - 1} \\text{ , } 0 < x < 1\n",
    "\\end{equation}\n",
    "- $E(X) = \\frac{ \\alpha}{ \\alpha + \\beta}$\n",
    "- $Var(X) = \\frac{ \\alpha \\beta}{ (\\alpha + \\beta) ^2 ( \\alpha + \\beta + 1)}$\n"
   ]
  },
  {
   "cell_type": "code",
   "execution_count": 75,
   "metadata": {},
   "outputs": [
    {
     "name": "stdout",
     "output_type": "stream",
     "text": [
      "Mean:  0.7142857142857143\n",
      "Variance:  0.013605442176870748\n",
      "Probability mass function:  3.116105532539999\n",
      "Cumulative distribution function:  0.42060564576099996\n",
      "Survival function (1-cdf):  0.5793943542390001\n"
     ]
    }
   ],
   "source": [
    "from scipy.stats import beta\n",
    "\n",
    "# Parameters\n",
    "x = 0.7 # (number of events?)\n",
    "a = 10 # alpha parameter\n",
    "b = 4 # beta parameter\n",
    "\n",
    "print(\"Mean: \", beta.mean(a, b)) # not sure about this\n",
    "print(\"Variance: \", beta.var(a, b)) # not sure about this\n",
    "print(\"Probability mass function: \", beta.pdf(x, a, b))\n",
    "print(\"Cumulative distribution function: \", beta.cdf(x, a, b ))\n",
    "print(\"Survival function (1-cdf): \", beta.sf(x, a, b))"
   ]
  },
  {
   "cell_type": "code",
   "execution_count": 1,
   "metadata": {},
   "outputs": [],
   "source": [
    "'''\n",
    "Import here useful libraries\n",
    "Run this cell first for convenience\n",
    "'''\n",
    "import numpy as np\n",
    "from scipy import stats\n",
    "import scipy\n",
    "import warnings\n",
    "warnings.simplefilter('ignore', DeprecationWarning)"
   ]
  },
  {
   "cell_type": "code",
   "execution_count": null,
   "metadata": {},
   "outputs": [],
   "source": []
  },
  {
   "cell_type": "markdown",
   "metadata": {},
   "source": [
    "# Chapter 5 - Normal Distribution"
   ]
  },
  {
   "cell_type": "markdown",
   "metadata": {},
   "source": [
    "## Probability Calculation Using the Normal Distribution"
   ]
  },
  {
   "cell_type": "markdown",
   "metadata": {},
   "source": [
    "### Definition of the Normal Distribution\n",
    "\n"
   ]
  },
  {
   "cell_type": "markdown",
   "metadata": {},
   "source": [
    "- Normal Distribution $N( \\mu, \\sigma)$:\n",
    "\\begin{equation}\n",
    "    f(x; \\mu, \\sigma) = \\frac{1}{\\sqrt{2 \\pi} \\sigma } e ^{- \\frac{(x - \\mu) ^2}{2 \\sigma ^2}}\n",
    "\\end{equation}\n",
    "- $\\mu$ is the mean and $\\sigma$ the standard deviation of the distribution, hence $\\sigma^2$ is its variance\n",
    "- Symmetric about $\\mu$\n",
    "- Also called the Gaussian distribution"
   ]
  },
  {
   "cell_type": "code",
   "execution_count": 4,
   "metadata": {},
   "outputs": [
    {
     "name": "stdout",
     "output_type": "stream",
     "text": [
      "Mean:  0.0\n",
      "Variance:  1.0\n",
      "Probability mass function:  0.17136859204780736\n",
      "Cumulative distribution function:  0.9031995154143897\n",
      "Survival function (1-cdf):  0.09680048458561036\n"
     ]
    }
   ],
   "source": [
    "from scipy.stats import norm\n",
    "\n",
    "# Parameters\n",
    "x = 1.3 # value to look for\n",
    "mu = 0 # mean\n",
    "sigma = 1 # standard deviation\n",
    "\n",
    "print(\"Mean: \", norm.mean(loc = mu, scale = sigma))\n",
    "print(\"Variance: \", norm.var(loc = mu, scale = sigma)) \n",
    "print(\"Probability mass function: \", norm.pdf(x, loc = mu, scale = sigma))\n",
    "print(\"Cumulative distribution function: \", norm.cdf(x, loc = mu, scale = sigma))\n",
    "print(\"Survival function (1-cdf): \", norm.sf(x, loc = mu, scale = sigma))\n"
   ]
  },
  {
   "cell_type": "markdown",
   "metadata": {},
   "source": [
    "### Standard Normal Distribution"
   ]
  },
  {
   "cell_type": "markdown",
   "metadata": {},
   "source": [
    "Chapter- Normal distribution with $\\mu = 0$ and $\\sigma = 1$\n",
    "- Probability distribution function:\n",
    "\\begin{equation}\n",
    "    f(x) = \\frac{1}{\\sqrt{2 \\pi}} e ^{- \\frac{x ^2}{2}}\n",
    "\\end{equation}\n",
    "- Cumulative distribution function: $\\Phi(x)$ (special notation for the Gaussian)"
   ]
  },
  {
   "cell_type": "markdown",
   "metadata": {},
   "source": [
    "### Probability Calculation for General Normal Distributions"
   ]
  },
  {
   "cell_type": "markdown",
   "metadata": {},
   "source": [
    "- $X \\sim N(\\mu, \\sigma^2) \\Longrightarrow Z = \\frac{X - \\mu}{\\sigma} \\sim N(0,1)$\n",
    "- So, $P(a \\leq X \\leq b) = P \\left( \\frac{ a - \\mu}{ \\sigma} \\leq \\frac{ X - \\mu}{ \\sigma} \\leq \\frac{ b - \\mu}{ \\sigma} \\right) = P \\left( \\frac{ a - \\mu}{ \\sigma} \\leq Z \\leq \\frac{ b - \\mu}{ \\sigma} \\right) = \\Phi \\left(\\frac{ b - \\mu}{ \\sigma} \\right) - \\Phi \\left( \\frac{a - \\mu}{ \\sigma} \\right)$\n",
    "- Other properties:\n",
    "    - $P( \\mu -c \\sigma \\leq X \\leq \\mu + c \\sigma) = P(-c \\leq Z \\leq c)$\n",
    "    - $P(X \\leq \\mu + \\sigma z_{\\alpha}) = P(Z \\leq z_ {\\alpha}) = 1 - \\alpha$"
   ]
  },
  {
   "cell_type": "code",
   "execution_count": 13,
   "metadata": {},
   "outputs": [
    {
     "name": "stdout",
     "output_type": "stream",
     "text": [
      "Mean:  1320\n",
      "Variance:  225\n",
      "Probability mass function:  0.16401007467599366\n",
      "Cumulative distribution function:  0.09121121972586788\n",
      "Survival function (1-cdf):  0.9087887802741321\n",
      "Percent point function (inverse of cdf):  0.8416212335729143\n",
      "Inverse survival function (inverse of (1-cdf)):  -0.8416212335729143\n"
     ]
    }
   ],
   "source": [
    "# This time, we calculate the distribution using the standard normal distribution, by calculating the new variable Z\n",
    "# Same results as in the previous approach. This method is suggested for manual calculation though\n",
    "from scipy.stats import norm\n",
    "\n",
    "# Parameters \n",
    "x = 1300 # value to look for\n",
    "mu = 1320 # mean\n",
    "sigma = 15 # standard deviation\n",
    "# Optional\n",
    "alpha = 0.8 # cdf value used in ppf for calculating the inverse of the probability density function\n",
    "\n",
    "# Parameter transformation\n",
    "Z = (x - mu)/sigma\n",
    "\n",
    "\n",
    "print(\"Mean: \", mu) # the mean is given \n",
    "print(\"Variance: \", sigma**2) # we calculate the variance using the provided standard deviation\n",
    "print(\"Probability mass function: \", norm.pdf(Z))\n",
    "print(\"Cumulative distribution function: \", norm.cdf(Z))\n",
    "print(\"Survival function (1-cdf): \", norm.sf(Z))\n",
    "print(\"Percent point function (inverse of cdf): \", norm.ppf(alpha))\n",
    "print(\"Inverse survival function (inverse of (1-cdf)): \", norm.isf(alpha)) # Useful for finding the critical value"
   ]
  },
  {
   "cell_type": "markdown",
   "metadata": {},
   "source": [
    "### Standard Normal Table"
   ]
  },
  {
   "cell_type": "markdown",
   "metadata": {},
   "source": [
    "- Table to get the values of $X$ given the $\\Phi$. We can also calculate X by the following $ppf$ and $isf$\n",
    "- Given $\\Phi(X) = \\alpha$:\n",
    "    - Percentage point function: inverse of the CDF; returns the value of $X$ given that\n",
    "\\begin{equation}\n",
    "    X = \\text{ppf}(\\alpha) = \\Phi ^{-1} (\\alpha)\n",
    "\\end{equation}\n",
    "    - Inverse survival function: inverse of the survival function (1-CDF); returns the value of $X$ given that\n",
    "\\begin{equation}\n",
    "    X = \\text{isf}(\\alpha) = \\Phi ^{-1} (1 - \\alpha)\n",
    "\\end{equation}\n",
    "    "
   ]
  },
  {
   "cell_type": "code",
   "execution_count": 18,
   "metadata": {},
   "outputs": [
    {
     "name": "stdout",
     "output_type": "stream",
     "text": [
      "Percent point function (inverse of cdf):  0.8416212335729143\n",
      "Inverse survival function (inverse of (1-cdf)):  -0.8416212335729143\n"
     ]
    }
   ],
   "source": [
    "alpha = 0.8 # cdf value used in ppf for calculating the inverse of the probability; same as using the standard normal table\n",
    "\n",
    "from scipy.stats import norm\n",
    "\n",
    "print(\"Percent point function (inverse of cdf): \", norm.ppf(alpha))\n",
    "print(\"Inverse survival function (inverse of (1-cdf)): \", norm.isf(alpha)) # Useful for finding the critical value"
   ]
  },
  {
   "cell_type": "markdown",
   "metadata": {},
   "source": [
    "## Linear Combinations of Normal Random Variables"
   ]
  },
  {
   "cell_type": "markdown",
   "metadata": {},
   "source": [
    "### Linear Functions of a Normal Random Variable"
   ]
  },
  {
   "cell_type": "markdown",
   "metadata": {},
   "source": [
    "- $X \\sim N(\\mu, \\sigma^2) $\n",
    "    - $\\Longrightarrow Y = aX +b \\sim N(a \\mu + b, a^2 \\sigma ^2)$ for constant $a,b$ \n",
    "- Given $X \\sim N(\\mu_1, \\sigma_1^2)$ and $X \\sim N(\\mu_2, \\sigma_2^2)$ independent \n",
    "    - $\\Longrightarrow Y = X_1 + X_2 \\sim N(\\mu_1 + \\mu_2, \\sigma_1^2 + \\sigma_2^2)$ "
   ]
  },
  {
   "cell_type": "markdown",
   "metadata": {},
   "source": [
    "### Properties of independent Normal Random Variables"
   ]
  },
  {
   "cell_type": "markdown",
   "metadata": {},
   "source": [
    "- $ X_i \\sim N(\\mu_i, \\sigma_i^2), 1\\leq i \\leq n$ are independent and $a_i$, $1 \\leq i \\leq n$, and $b$ are constants\n",
    "    - $ Y = a_1X_1 + \\cdots + a_n X_n + b \\sim N(\\mu, \\sigma^2)$\n",
    "    - where $\\mu = a_1\\mu_1 + \\cdots + a_n\\mu_n + b, \\sigma^2 = a_1^2\\sigma_1^2 + \\cdots +a_n^2\\sigma_n^2$ \n",
    "- $X_i \\sim N( \\mu, \\sigma^2)$, $  1\\leq i \\leq n$ are independent\n",
    "    - $ \\bar{X} \\sim N(\\mu, \\frac{\\sigma^2}{n})$ where $\\bar{X} = \\frac{1}{n} \\sum_{i=1}^n X_i$\n",
    "-If $X_1, \\cdots , X_n$ are not independent, then these properties may not be valid anymore\n"
   ]
  },
  {
   "cell_type": "markdown",
   "metadata": {},
   "source": [
    "## Approximating Distributions with the Normal Distribution"
   ]
  },
  {
   "cell_type": "markdown",
   "metadata": {},
   "source": [
    "### The Normal Approximation to the Binomial Distribution"
   ]
  },
  {
   "cell_type": "markdown",
   "metadata": {},
   "source": [
    "Theorem (approximation of a binomial to a normal distribution):\n",
    "- If $X$ is a binomial random variable with mean $\\mu = np$ and variance $\\sigma^2 = npq$, then the limiting form of the distribution of\n",
    "\\begin{equation}\n",
    "    Z = \\frac{X - np}{\\sqrt{npq}},\n",
    "\\end{equation}\n",
    "as $ n \\to \\infty$ is the standard normal distribution $n(z;0,1)$"
   ]
  },
  {
   "cell_type": "markdown",
   "metadata": {},
   "source": [
    "### Continuity correction in the Normal approximation"
   ]
  },
  {
   "cell_type": "markdown",
   "metadata": {},
   "source": [
    "- $X \\sim B(n,p)$ and $Z \\sim N(0,1)$ then:\n",
    "    - $P(X \\leq x) \\approx P \\left( Z \\leq \\frac{x + 0.5 -np}{\\sqrt{npq}} \\right)$\n",
    "    - $P(X \\geq x) \\approx P \\left( Z \\geq \\frac{x - 0.5 -np}{\\sqrt{npq}} \\right)$"
   ]
  },
  {
   "cell_type": "code",
   "execution_count": 10,
   "metadata": {},
   "outputs": [
    {
     "name": "stdout",
     "output_type": "stream",
     "text": [
      "Expectation:  20.0\n",
      "Variance:  256.0\n",
      "Probability distribution function:  0.15962149545986454\n",
      "Cumulative distribution function:  0.5031167048608426\n"
     ]
    }
   ],
   "source": [
    "from scipy.stats import norm\n",
    "\n",
    "# Input\n",
    "n = 100\n",
    "p = 0.2\n",
    "pdf_variable_x = [0, 50] # [star point, end point]\n",
    "cdf_variable_x = 100\n",
    "\n",
    "# Calculate the values\n",
    "mu = n * p\n",
    "sigma = n * p * (1 - p)\n",
    "def approximate(x, mu, sigma):\n",
    "    return (x + 0.5 - mu) / (sigma ** (1/2))\n",
    "pdf_variable = [approximate(pdf_variable_x[0], mu, sigma), \\\n",
    "                approximate(pdf_variable_x[1], mu, sigma)] # [star point, end point]\n",
    "cdf_variable = approximate(cdf_variable_x, mu, sigma)\n",
    "\n",
    "# Calculate\n",
    "exp, var = norm.stats(loc=mu, scale=sigma, moments='mv')\n",
    "pdf = norm.cdf(pdf_variable[1], loc=mu, scale=sigma) - norm.cdf(pdf_variable[0], loc=mu, scale=sigma)\n",
    "cdf = norm.cdf(cdf_variable, loc=mu, scale=sigma)\n",
    "\n",
    "print(\"Expectation: \", exp)\n",
    "print(\"Variance: \", var)\n",
    "print(\"Probability distribution function: \", pdf)\n",
    "print(\"Cumulative distribution function: \", cdf)"
   ]
  },
  {
   "cell_type": "markdown",
   "metadata": {},
   "source": [
    "### The Central Limit Theorem"
   ]
  },
  {
   "cell_type": "markdown",
   "metadata": {},
   "source": [
    "- Let $X_1, \\cdots , X_n$ be _iid_ (independent identically distributed) with a distribution with a mean $\\mu$ and a variance $\\sigma^2$; then\n",
    "\\begin{equation}\n",
    "    \\bar{X} = \\frac{\\sum_i^n X_i}{n} \\approx N \\left( \\mu, \\frac{\\sigma^2}{n} \\right)\n",
    "\\end{equation}\n",
    "for $ n \\to \\infty$"
   ]
  },
  {
   "cell_type": "markdown",
   "metadata": {},
   "source": [
    "- The central limit theorem works better if the distribution for the sample is closer to the normal distribution"
   ]
  },
  {
   "cell_type": "markdown",
   "metadata": {},
   "source": [
    "## Distributions Related to the Normal Distribution"
   ]
  },
  {
   "cell_type": "markdown",
   "metadata": {},
   "source": [
    "### The Lognormal Distribution"
   ]
  },
  {
   "cell_type": "markdown",
   "metadata": {},
   "source": [
    "- $Y = lnX) \\sim N(\\mu, \\sigma^2)$\n",
    "- Probability distribution function:\n",
    "\\begin{equation}\n",
    "    f(x) = \\frac{1}{\\sqrt{2\\pi} \\sigma x} e^{ - \\frac{ (ln(x) - \\mu)^2}{2 \\sigma ^2}} \\text{ for } x > 0\n",
    "\\end{equation}\n",
    "\n",
    "- Cumulative distribution function:\n",
    "\\begin{equation}\n",
    "    F(x) = \\Phi( \\frac{ln (x) - \\mu}{\\sigma})\n",
    "\\end{equation}\n",
    "\n",
    "- $E(X) = e^{ \\mu + \\frac{ \\sigma ^2}{2}} $\n",
    "- $ Var(X) = e^{ 2\\mu + \\sigma^2} ( e^{\\sigma^2} -1)$"
   ]
  },
  {
   "cell_type": "code",
   "execution_count": 33,
   "metadata": {},
   "outputs": [
    {
     "name": "stdout",
     "output_type": "stream",
     "text": [
      "Mean:  1.6487212707001282\n",
      "Variance:  4.670774270471604\n",
      "Probability distribution function:  0.3989422804014327\n",
      "Cumulative distribution function:  0.5\n",
      "Survival function (1-cdf):  0.5\n"
     ]
    }
   ],
   "source": [
    "from scipy.stats import lognorm\n",
    "from math import exp \n",
    "\n",
    "# Parameters\n",
    "x = 1 # value\n",
    "mu = 0 # mean\n",
    "sigma = 1 # standard deviation\n",
    "\n",
    "scale = exp(mu)\n",
    "\n",
    "### NOT WORKING\n",
    "print(\"Mean: \", lognorm.mean(sigma , loc = mu, scale = scale))\n",
    "print(\"Variance: \", lognorm.var(sigma , loc = mu, scale = scale))\n",
    "print(\"Probability distribution function: \", lognorm.pdf(x, sigma , loc = mu, scale = scale))\n",
    "print(\"Cumulative distribution function: \", lognorm.cdf(x, sigma , loc = mu, scale = scale))\n",
    "print(\"Survival function (1-cdf): \", lognorm.sf(x, sigma , loc = mu, scale = scale))"
   ]
  },
  {
   "cell_type": "markdown",
   "metadata": {},
   "source": [
    "### Chi-Square Distribution"
   ]
  },
  {
   "cell_type": "markdown",
   "metadata": {},
   "source": [
    "- $X_i \\sim N(0,1)$ and $X = \\sum_{i =1}^ v X_i ^2$, and $X_i$ are independent. Then $X \\sim \\chi_\\nu^2$ where $\\nu$ is called the degreees of freedom of the distribution\n",
    "- Probability distribution function:\n",
    "\\begin{equation}\n",
    "    f(x) = \\frac{ \\frac{1}{2} e ^ {-x/2} (\\frac{x}{2} ) ^ { \\frac{\\nu}{2} -1} } { \\Gamma( \\frac {\\nu}{2} )}\n",
    "\\end{equation}\n",
    "\\begin{equation}\n",
    "    \\chi_{\\nu}^2 = Gam( \\frac{ \\nu}{2} , \\frac{1}{2} )\n",
    "\\end{equation}\n",
    "\n",
    "- $E(X) = \\nu$\n",
    "- $Var(X) = 2 \\nu$"
   ]
  },
  {
   "cell_type": "markdown",
   "metadata": {},
   "source": [
    "- Critical point: value of $X$ after which the distribution has a CDF equal to $\\alpha$ \n",
    "\\begin{equation}\n",
    "    P(X \\geq \\chi_{ \\alpha, \\nu}^2 ) = \\alpha\n",
    "\\end{equation}"
   ]
  },
  {
   "cell_type": "code",
   "execution_count": 41,
   "metadata": {},
   "outputs": [
    {
     "name": "stdout",
     "output_type": "stream",
     "text": [
      "Expectation:  8.0\n",
      "Variance:  16.0\n",
      "Probability distribution function:  0.10688150862486819\n",
      "Cumulative distribution function:  0.2424238668669339\n",
      "Survival function (1-cdf):  0.7575761331330662\n",
      "Percent point function (inverse of cdf):  3.737459881176144\n",
      "Critical value (inverse of (1-cdf)):  12.77032873743455\n"
     ]
    }
   ],
   "source": [
    "from scipy.stats import chi2\n",
    "\n",
    "# Parameters\n",
    "nu = 8 # degrees of freedom\n",
    "x = 5 # variable\n",
    "alpha = 0.12 # critical value\n",
    "\n",
    "print(\"Expectation: \", chi2.mean(nu))\n",
    "print(\"Variance: \", chi2.var(nu))\n",
    "print(\"Probability distribution function: \", chi2.pdf(x ,nu))\n",
    "print(\"Cumulative distribution function: \", chi2.cdf(x, nu))\n",
    "print(\"Survival function (1-cdf): \", chi2.sf(x, nu))\n",
    "print(\"Percent point function (inverse of cdf): \", chi2.ppf(alpha, nu))\n",
    "print(\"Critical value (inverse of (1-cdf)): \", chi2.ppf(1 - alpha, nu))"
   ]
  },
  {
   "cell_type": "markdown",
   "metadata": {},
   "source": [
    "### The t-Distribution"
   ]
  },
  {
   "cell_type": "markdown",
   "metadata": {},
   "source": [
    "- Given $ Z \\sim N(0,1)$ and $W \\sim \\chi_{\\nu} ^2$ where $Z$ and $W$ are independent, then\n",
    "\\begin{equation}\n",
    "    T_{\\nu} = \\frac{Z} {\\sqrt{ W/ \\nu }} \\sim t_{\\nu}\n",
    "\\end{equation} \n",
    "is a t-distribution with $\\nu$ degrees of freedom"
   ]
  },
  {
   "cell_type": "markdown",
   "metadata": {},
   "source": [
    "- Since the t-distribution is symmetric, the following holds given the $\\alpha$ CDF:\n",
    "\\begin{equation}\n",
    "    1 - \\alpha = P \\left( \\mid X \\mid \\leq t_{\\frac{ \\alpha}{2}, \\nu} \\right) = P \\left( - t_{\\frac{ \\alpha}{2}, \\nu} \\leq X \\leq t_{\\frac{ \\alpha}{2}, \\nu} \\right)\n",
    "\\end{equation}"
   ]
  },
  {
   "cell_type": "code",
   "execution_count": 5,
   "metadata": {},
   "outputs": [
    {
     "name": "stdout",
     "output_type": "stream",
     "text": [
      "Expectation:  0.0\n",
      "Variance:  1.0344827586206897\n",
      "Probability distribution function:  0.3972835557465738\n",
      "Cumulative distribution function:  0.5\n",
      "Survival function (1-cdf):  0.5\n",
      "Percent point function (inverse of cdf):  -2.660283031150686\n",
      "Inverse survival function (inverse of (1-cdf)):  2.660283031150686\n"
     ]
    }
   ],
   "source": [
    "from scipy.stats import t\n",
    "\n",
    "# Parameters\n",
    "nu = 60 # degrees of freedom\n",
    "x = 0 # variable\n",
    "alpha = 0.975 # critical value\n",
    "\n",
    "print(\"Expectation: \", t.mean(nu))\n",
    "print(\"Variance: \", t.var(nu))\n",
    "print(\"Probability distribution function: \", t.pdf(x ,nu))\n",
    "print(\"Cumulative distribution function: \", t.cdf(x, nu))\n",
    "print(\"Survival function (1-cdf): \", t.sf(x, nu))\n",
    "print(\"Percent point function (inverse of cdf): \", t.ppf(alpha, nu))\n",
    "print(\"Inverse survival function (inverse of (1-cdf)): \", t.isf(alpha, nu)) # Useful for finding the critical value"
   ]
  },
  {
   "cell_type": "markdown",
   "metadata": {},
   "source": [
    "### The F-Distribution"
   ]
  },
  {
   "cell_type": "markdown",
   "metadata": {},
   "source": [
    "- $W_i \\sim \\chi_{\\nu_i}^2$ for $ i = 1,2$ and they are independent. Then\n",
    "\\begin{equation}\n",
    "    \\frac{W_1/  \\nu_1}{W_2 / \\nu_2} \\sim F_{\\nu_1 , \\nu_2}\n",
    "\\end{equation}\n",
    "is an F-distribution with degrees of freedom $\\nu_1, \\nu_2$\n",
    "- $F_{1 - \\alpha, \\nu_1, \\nu_2} = \\frac{1}{ F_{\\alpha, \\nu_1, \\nu_2}}$"
   ]
  },
  {
   "cell_type": "code",
   "execution_count": 61,
   "metadata": {},
   "outputs": [
    {
     "name": "stdout",
     "output_type": "stream",
     "text": [
      "Expectation:  1.125\n",
      "Variance:  0.2805572660098522\n",
      "Probability distribution function:  0.9294075640447474\n",
      "Cumulative distribution function:  0.48671282505106833\n",
      "Survival function (1-cdf):  0.5132871749489316\n",
      "Percent point function (inverse of cdf):  2.452651390584542\n",
      "Inverse survival function (inverse of (1-cdf)):  0.4442032125917732\n"
     ]
    }
   ],
   "source": [
    "from scipy.stats import f\n",
    "\n",
    "# Parameters\n",
    "nu1 = 29 # degree of freedom 1\n",
    "nu2 = 18 # degree of freedom 2\n",
    "x = 1 # variable\n",
    "alpha = 0.975 # critical value\n",
    "\n",
    "print(\"Expectation: \", f.mean(nu1, nu2))\n",
    "print(\"Variance: \", f.var(nu1, nu2))\n",
    "print(\"Probability distribution function: \", f.pdf(x ,nu1, nu2))\n",
    "print(\"Cumulative distribution function: \", f.cdf(x, nu1, nu2))\n",
    "print(\"Survival function (1-cdf): \", f.sf(x, nu1, nu2))\n",
    "print(\"Percent point function (inverse of cdf): \", f.ppf(alpha, nu1, nu2))\n",
    "print(\"Inverse survival function (inverse of (1-cdf)): \", f.isf(alpha, nu1, nu2)) # Useful for finding the critical value"
   ]
  },
  {
   "cell_type": "markdown",
   "metadata": {},
   "source": [
    "### Multivariate Normal Distribution"
   ]
  },
  {
   "cell_type": "markdown",
   "metadata": {},
   "source": [
    "- Bivariate normal distribution for $(X,Y)$ with parameters $\\mu_1 , \\mu_2 , \\sigma_1^2 , \\sigma_2^2 , \\rho$, where $\\mu_1 = E(X)$\n",
    "- Variables are: $\\mu_1 = E(X), \\mu_2 = E(Y) , \\sigma_1^2 = Var(X)  , \\sigma_2^2 = Var(Y) , \\rho = Corr(X,Y)$\n",
    "- Joint probability distribution function of $(X,Y)$:\n",
    "\\begin{equation}\n",
    "    f(x,y) = \\frac{1}{2 \\pi \\sigma_1 \\sigma_2 \\sqrt{ 1- \\rho ^2} } e^ { \\left( - \\frac{1}{2 (1 - \\rho^2)} \\left[ x^2 + y^2 -2 \\rho xy \\right] \\right) } \\text{ for } x< \\infty, y < \\infty\n",
    "\\end{equation}"
   ]
  },
  {
   "cell_type": "markdown",
   "metadata": {},
   "source": [
    "- In particular, when $\\mu_1 = \\mu_2 = 0 $ and $\\sigma_1 = \\sigma_2 = 1$\n",
    "\\begin{equation}\n",
    "    f(x,y) = \\frac{1}{2 \\pi \\sqrt{1 - \\rho^2}} e^ { \\left( - \\frac{1}{2 (1 - \\rho^2)} \\left[ x^2 + y^2 -2 \\rho x y \\right] \\right) }\n",
    "\\end{equation}\n",
    "- When $\\mu_1 = \\mu_2 = 0 $ and $\\sigma_1 = \\sigma_2 = 1$ and also there is independence between $X$ and $Y$, so $\\rho = 0$\n",
    "\\begin{equation}\n",
    "    f(x,y) = \\frac{1}{2 \\pi} e^ { \\left( - \\frac{1}{2} \\left[ x^2 + y^2 \\right] \\right) }\n",
    "\\end{equation}"
   ]
  },
  {
   "cell_type": "code",
   "execution_count": 140,
   "metadata": {},
   "outputs": [
    {
     "name": "stdout",
     "output_type": "stream",
     "text": [
      "Probability distribution function:  0.15915494309189535\n"
     ]
    }
   ],
   "source": [
    "from scipy.stats import multivariate_normal\n",
    "\n",
    "mu = ([0, 0]) # means\n",
    "cov = [[1, 0], [0, 1]] # covariance matrix\n",
    "x = 0 # value\n",
    "\n",
    "print(\"Probability distribution function: \", multivariate_normal.pdf(x, mean = mu, cov = cov ))\n",
    "# 怎么办？\n",
    "#print(\"Cumulative distribution function: \", multivariate_normal.cdf(x, mean = mu, cov = cov, maxpts=1000000*len(mu), abseps=1e-5, releps=1e-5))"
   ]
  },
  {
   "cell_type": "code",
   "execution_count": 1,
   "metadata": {},
   "outputs": [
    {
     "ename": "ModuleNotFoundError",
     "evalue": "No module named 'matplotlib'",
     "output_type": "error",
     "traceback": [
      "\u001b[1;31m---------------------------------------------------------------------------\u001b[0m",
      "\u001b[1;31mModuleNotFoundError\u001b[0m                       Traceback (most recent call last)",
      "\u001b[1;32m~\\AppData\\Local\\Temp\\ipykernel_10648\\1298204831.py\u001b[0m in \u001b[0;36m<module>\u001b[1;34m\u001b[0m\n\u001b[0;32m      2\u001b[0m \u001b[1;33m\u001b[0m\u001b[0m\n\u001b[0;32m      3\u001b[0m \u001b[1;32mimport\u001b[0m \u001b[0mnumpy\u001b[0m \u001b[1;32mas\u001b[0m \u001b[0mnp\u001b[0m\u001b[1;33m\u001b[0m\u001b[1;33m\u001b[0m\u001b[0m\n\u001b[1;32m----> 4\u001b[1;33m \u001b[1;32mimport\u001b[0m \u001b[0mmatplotlib\u001b[0m\u001b[1;33m.\u001b[0m\u001b[0mpyplot\u001b[0m \u001b[1;32mas\u001b[0m \u001b[0mplt\u001b[0m\u001b[1;33m\u001b[0m\u001b[1;33m\u001b[0m\u001b[0m\n\u001b[0m\u001b[0;32m      5\u001b[0m \u001b[1;32mfrom\u001b[0m \u001b[0mscipy\u001b[0m\u001b[1;33m.\u001b[0m\u001b[0mstats\u001b[0m \u001b[1;32mimport\u001b[0m \u001b[0mmultivariate_normal\u001b[0m\u001b[1;33m\u001b[0m\u001b[1;33m\u001b[0m\u001b[0m\n\u001b[0;32m      6\u001b[0m \u001b[1;32mfrom\u001b[0m \u001b[0mmpl_toolkits\u001b[0m\u001b[1;33m.\u001b[0m\u001b[0mmplot3d\u001b[0m \u001b[1;32mimport\u001b[0m \u001b[0mAxes3D\u001b[0m\u001b[1;33m\u001b[0m\u001b[1;33m\u001b[0m\u001b[0m\n",
      "\u001b[1;31mModuleNotFoundError\u001b[0m: No module named 'matplotlib'"
     ]
    }
   ],
   "source": [
    "# Complete the GIF creator!!\n",
    "\n",
    "import numpy as np\n",
    "import matplotlib.pyplot as plt\n",
    "from scipy.stats import multivariate_normal\n",
    "from mpl_toolkits.mplot3d import Axes3D\n",
    "fig, ax = plt.subplots(1,2)\n",
    "import imageio\n",
    "\n",
    "width = 600\n",
    "height= 600\n",
    "import matplotlib.animation as anim\n",
    "\n",
    "#Parameters to set\n",
    "mu_x = 0\n",
    "variance_x = 3\n",
    "\n",
    "mu_y = 0\n",
    "variance_y = 15\n",
    "\n",
    "fps = 1\n",
    "#Create grid and multivariate normal\n",
    "x = np.linspace(-10,10,500)\n",
    "y = np.linspace(-10,10,500)\n",
    "X, Y = np.meshgrid(x,y)\n",
    "pos = np.empty(X.shape + (2,))\n",
    "pos[:, :, 0] = X; pos[:, :, 1] = Y\n",
    " \n",
    "class AnimatedGif:\n",
    "    def __init__(self, size=(3*width, 3*height)):\n",
    "        self.fig = plt.figure()\n",
    "        self.fig.set_size_inches(size[0] / 100, size[1] / 100)\n",
    "        ax = self.fig.add_axes([0, 0, 1, 1], frameon=False, aspect=1)\n",
    "        ax.set_xticks([])\n",
    "        ax.set_yticks([])\n",
    "        self.images = []\n",
    " \n",
    "    def add(self, image):\n",
    "        plt_im = plt.imshow(image, cmap='viridis', vmin=0, vmax=1, animated=True)\n",
    "        #plt_txt = plt.text(20, 20, label, color='red')\n",
    "        self.images.append([image])\n",
    " \n",
    "    def save(self, filename):\n",
    "        animation = anim.ArtistAnimation(self.fig, self.images)\n",
    "        animation.save(filename, writer='imagemagick', fps=fps)\n",
    "\n",
    "animated_gif = AnimatedGif(size=(width,height))\n",
    "images = []\n",
    "import matplotlib.animation as animation\n",
    "figures = []\n",
    "\n",
    "filename = \"/home/fedebotu/Desktop/multivar.gif\"\n",
    "for i in range(3):\n",
    "    mu_x = 0 \n",
    "    variance_x = 2+ i\n",
    "    mu_y = 0\n",
    "    variance_y = 10+ i\n",
    "    rv = multivariate_normal([mu_x, mu_y], [[variance_x, 0], [0, variance_y]])\n",
    "    #Make a 3D plot\n",
    "    \n",
    "    fig = plt.figure()\n",
    "    ax = fig.gca(projection='3d')\n",
    "    ax.set_xlabel('X values')\n",
    "    ax.set_ylabel('Y values')\n",
    "    ax.set_zlabel('Probabilities')\n",
    "    #ax.plot_surface(X, Y, rv.pdf(pos),cmap='viridis',linewidth=0)\n",
    "    im = ax.plot_surface(X, Y, rv.pdf(pos),cmap='viridis',linewidth=0)\n",
    "    images.append([im])\n",
    "    #animation.save(filename, writer='imagemagick', fps=1)\n",
    "\n",
    "    # plt.imshow(ax.plot_surface(X, Y, rv.pdf(pos),cmap='viridis',linewidth=0))\n",
    "    # animated_gif.add(images[i])\n",
    "print(len(images))\n",
    "#fig  =  plt.figure(\n",
    "print('bla')\n",
    "animation = anim.ArtistAnimation(fig, images)\n",
    "animation.save(filename, writer='imagemagick', fps=10)\n"
   ]
  },
  {
   "cell_type": "code",
   "execution_count": null,
   "metadata": {},
   "outputs": [],
   "source": []
  },
  {
   "cell_type": "code",
   "execution_count": 67,
   "metadata": {},
   "outputs": [],
   "source": [
    "'''\n",
    "Import here useful libraries\n",
    "Run this cell first for convenience\n",
    "'''\n",
    "import numpy as np\n",
    "from scipy import stats\n",
    "import scipy\n",
    "import warnings\n",
    "import pandas as pd\n",
    "import matplotlib.pyplot as plt\n",
    "from stemgraphic import stem_graphic\n",
    "from scipy import stats\n",
    "from scipy.ndimage import mean, median, variance\n",
    "warnings.simplefilter('ignore', DeprecationWarning)"
   ]
  },
  {
   "cell_type": "markdown",
   "metadata": {},
   "source": [
    "# Chapter 6 - Descriptive Statistics"
   ]
  },
  {
   "cell_type": "markdown",
   "metadata": {},
   "source": [
    "## Experimentation"
   ]
  },
  {
   "cell_type": "markdown",
   "metadata": {},
   "source": [
    "### Data and Statistical Inference"
   ]
  },
  {
   "cell_type": "markdown",
   "metadata": {},
   "source": [
    "- Data: mixture of nature and noise\n",
    "    - Our goal: we want to represent data with a probability distribution\n",
    "- Statistical inference: the science of deducing properties of an underlying probability distribution from data"
   ]
  },
  {
   "cell_type": "markdown",
   "metadata": {},
   "source": [
    "### Samples"
   ]
  },
  {
   "cell_type": "markdown",
   "metadata": {},
   "source": [
    "- Population: set of all the possible observations from a particular probability distribution\n",
    "- Sample: a subset of a population\n",
    "- Random sample: sample where the elements are chosen at random from the population\n",
    "    - A sample is desired to be representative of the population\n",
    "- Types of observations:\n",
    "    - Numerical (just numbers)\n",
    "    - Nominal (classes, e.g. male/female, shirts/socks/pants...)"
   ]
  },
  {
   "cell_type": "markdown",
   "metadata": {},
   "source": [
    "## Data Presentation"
   ]
  },
  {
   "cell_type": "code",
   "execution_count": 47,
   "metadata": {},
   "outputs": [
    {
     "name": "stdout",
     "output_type": "stream",
     "text": [
      "Data: \n",
      "      Service Times\n",
      "0               45\n",
      "1               62\n",
      "2               52\n",
      "3               72\n",
      "4               91\n",
      "..             ...\n",
      "195            105\n",
      "196             62\n",
      "197             72\n",
      "198             66\n",
      "199             79\n",
      "\n",
      "[200 rows x 1 columns]\n"
     ]
    }
   ],
   "source": [
    "# Data set example (Service times)\n",
    "\n",
    "data = np.array([45,62,52,72,91,88,64,65,69,59,70,63,80,70,59,87,59,69,68,69,56,59,74,60,79,56,177,61,60,78,66,61,47,63,63,57,77,67,55,55,56,39,65,60,80,41,72,77,54,81,63,70,73,76,61,75,62,59,64,61,70,65,83,61,56,64,72,90,86,63,63,63,65,80,69,62,75,59,81,79,94,63,64,55,61,66,65,72,61,76,48,92,135,67,73,66,143,82,71,51,70,71,45,64,89,66,66,65,60,64,59,93,84,47,48,65,74,57,62,79,62,68,73,54,55,78,69,69,61,186,55,68,76,70,69,61,55,61,82,83,66,59,69,61,93,76,81,65,67,51,69,77,78,63,77,61,61,66,87,53,67,78,68,80,89,77,63,67,95,54,64,63,28,73,75,65,67,62,65,88,78,75,71,72,60,53,67,81,85,71,49,70,49,58,63,105,62,72,66,79])\n",
    "data = data.reshape(len(data), 1) # Prepare the data for pandas\n",
    "df = pd.DataFrame(data=data, columns=['Service Times']) # Transform data to pandas DataFrame\n",
    "print('Data: \\n', df)"
   ]
  },
  {
   "cell_type": "markdown",
   "metadata": {},
   "source": [
    "### Histograms"
   ]
  },
  {
   "cell_type": "code",
   "execution_count": 41,
   "metadata": {},
   "outputs": [
    {
     "data": {
      "image/png": "[encoded data removed]",
      "text/plain": [
       "<Figure size 432x288 with 1 Axes>"
      ]
     },
     "metadata": {
      "needs_background": "light"
     },
     "output_type": "display_data"
    }
   ],
   "source": [
    "df.hist(['Service Times'], grid=False)\n",
    "plt.show()"
   ]
  },
  {
   "cell_type": "markdown",
   "metadata": {},
   "source": [
    "### Leaf Plots"
   ]
  },
  {
   "cell_type": "code",
   "execution_count": 40,
   "metadata": {},
   "outputs": [
    {
     "data": {
      "image/png": "[encoded data removed]",
      "text/plain": [
       "<Figure size 540x360 with 1 Axes>"
      ]
     },
     "metadata": {
      "needs_background": "light"
     },
     "output_type": "display_data"
    }
   ],
   "source": [
    "stem_graphic(df['Service Times'])\n",
    "plt.show()"
   ]
  },
  {
   "cell_type": "markdown",
   "metadata": {},
   "source": [
    "### Outliers"
   ]
  },
  {
   "cell_type": "markdown",
   "metadata": {},
   "source": [
    "- Outlier: observation which is not from the distribution from which the main body of the sample is collected\n",
    "    - Outliers should be removed for analysis"
   ]
  },
  {
   "cell_type": "code",
   "execution_count": 51,
   "metadata": {},
   "outputs": [
    {
     "name": "stdout",
     "output_type": "stream",
     "text": [
      "Outliers:\n",
      "[177]\n",
      "[135]\n",
      "[143]\n",
      "[186]\n",
      "[28]\n",
      "[105]\n"
     ]
    }
   ],
   "source": [
    "# Outlier detection using the interquantile range (given previous dataset)\n",
    "\n",
    "Q1 = df.quantile(0.25)\n",
    "Q3 = df.quantile(0.75)\n",
    "IQR = Q3 - Q1\n",
    "#print(IQR)\n",
    "# We print the outliers here\n",
    "mask = ((df < (Q1 - 1.5 * IQR)) |(df > (Q3 + 1.5 * IQR)))\n",
    "filtered_data = (mask*df).to_numpy()\n",
    "print(\"Outliers:\")\n",
    "for datum in filtered_data:\n",
    "    if(datum != 0):\n",
    "        print(datum)"
   ]
  },
  {
   "cell_type": "markdown",
   "metadata": {},
   "source": [
    "### Box Plots"
   ]
  },
  {
   "cell_type": "code",
   "execution_count": 50,
   "metadata": {},
   "outputs": [
    {
     "data": {
      "image/png": "[encoded data removed]",
      "text/plain": [
       "<Figure size 432x288 with 1 Axes>"
      ]
     },
     "metadata": {
      "needs_background": "light"
     },
     "output_type": "display_data"
    }
   ],
   "source": [
    "# Used for clearly showing the outliers of the distribution (from previous dataset)\n",
    "\n",
    "plt.boxplot(df, vert=False)\n",
    "plt.show()"
   ]
  },
  {
   "cell_type": "markdown",
   "metadata": {},
   "source": [
    "## Sample Statistics"
   ]
  },
  {
   "cell_type": "markdown",
   "metadata": {},
   "source": [
    "- Sample: $X_1, \\cdots, X_n$"
   ]
  },
  {
   "cell_type": "markdown",
   "metadata": {},
   "source": [
    "### Sample mean\n",
    "\\begin{equation}\n",
    "    \\bar{X} = \\frac{\\sum_{i=1}^n X_i}{n}\n",
    "\\end{equation}"
   ]
  },
  {
   "cell_type": "code",
   "execution_count": 54,
   "metadata": {},
   "outputs": [
    {
     "name": "stdout",
     "output_type": "stream",
     "text": [
      "Sample mean:  Service Times    69.345\n",
      "dtype: float64\n"
     ]
    }
   ],
   "source": [
    "print(\"Sample mean: \", mean(df))"
   ]
  },
  {
   "cell_type": "markdown",
   "metadata": {},
   "source": [
    "### Sample median\n",
    "- The $(n+1)/2$-th smallest sample when $n$ is odd\n",
    "- The average of the $n/2$-th and the $(n+1)/2$-th smallest sample when $n$ is even"
   ]
  },
  {
   "cell_type": "code",
   "execution_count": 53,
   "metadata": {},
   "outputs": [
    {
     "name": "stdout",
     "output_type": "stream",
     "text": [
      "Sample median:  66.0\n"
     ]
    }
   ],
   "source": [
    "print(\"Sample median: \", median(df))"
   ]
  },
  {
   "cell_type": "markdown",
   "metadata": {},
   "source": [
    "### Sample trimmed mean\n",
    "- The average of the subset of the sample obtained by removing the top $r%$ and the bottom $r%$ from the sample"
   ]
  },
  {
   "cell_type": "code",
   "execution_count": 55,
   "metadata": {},
   "outputs": [
    {
     "name": "stdout",
     "output_type": "stream",
     "text": [
      "Sample trimmed mean:  [67.88333333]\n"
     ]
    }
   ],
   "source": [
    "r = 0.05 # r value for trimming\n",
    "print(\"Sample trimmed mean: \", stats.trim_mean(df, r))"
   ]
  },
  {
   "cell_type": "markdown",
   "metadata": {},
   "source": [
    "### Sample mode\n",
    "- The value at which the sample frequency is the largest"
   ]
  },
  {
   "cell_type": "code",
   "execution_count": 60,
   "metadata": {},
   "outputs": [
    {
     "name": "stdout",
     "output_type": "stream",
     "text": [
      "Sample mode:  ModeResult(mode=array([[61]]), count=array([[13]]))\n"
     ]
    }
   ],
   "source": [
    "print(\"Sample mode: \", stats.mode(df))"
   ]
  },
  {
   "cell_type": "markdown",
   "metadata": {},
   "source": [
    "### Sample variance\n",
    "\\begin{equation}\n",
    "    S^2 = \\frac{ \\sum_i^n (X_i - \\bar{X})^2}{n-1}\n",
    "\\end{equation}\n",
    "- $S$ is called the sample standard deviation"
   ]
  },
  {
   "cell_type": "code",
   "execution_count": 69,
   "metadata": {},
   "outputs": [
    {
     "name": "stdout",
     "output_type": "stream",
     "text": [
      "Sample variance:  [309.31253769]\n",
      "Sample standard deviation:  [17.58728341]\n"
     ]
    }
   ],
   "source": [
    "print(\"Sample variance: \", stats.tstd(df)**2)\n",
    "print(\"Sample standard deviation: \", stats.tstd(df))"
   ]
  },
  {
   "cell_type": "markdown",
   "metadata": {},
   "source": [
    "### Sample quantile\n",
    "- $(100p)$-th sample quantile is the value satisfying:\n",
    "\\begin{equation}\n",
    "    \\frac{ \\# (X_i \\leq y)}{n} \\geq p\n",
    "\\end{equation}\n",
    "and\n",
    "\\begin{equation}\n",
    "    \\frac{ \\# (X_i \\geq y)}{n} \\geq 1- p\n",
    "\\end{equation}\n",
    "- The 25-th and 75-th sample quantiles are called 1-st ($Q_1$) and 3-rd ($Q_3$) respectively\n",
    "- Interquantile range (IQR): $Q_3 - Q_1$"
   ]
  },
  {
   "cell_type": "code",
   "execution_count": 63,
   "metadata": {},
   "outputs": [
    {
     "name": "stdout",
     "output_type": "stream",
     "text": [
      "Upper sample quartile:  [76.]\n",
      "Lower sample quartile:  [61.]\n",
      "Interquantile range:  [15.]\n"
     ]
    }
   ],
   "source": [
    "print(\"Upper sample quartile: \", stats.mstats.mquantiles(df, prob=[0.75]))\n",
    "print(\"Lower sample quartile: \", stats.mstats.mquantiles(df, prob=[0.25]))\n",
    "print(\"Interquantile range: \", (stats.mstats.mquantiles(df, prob=[0.75]) - stats.mstats.mquantiles(df, prob=[0.25])))"
   ]
  },
  {
   "cell_type": "markdown",
   "metadata": {},
   "source": [
    "### Coefficient of variation\n",
    "\\begin{equation}\n",
    "    CV = \\frac{S}{\\bar{X}}\n",
    "\\end{equation}\n",
    "where $\\bar{X}$ is the sample mean"
   ]
  },
  {
   "cell_type": "code",
   "execution_count": 64,
   "metadata": {},
   "outputs": [
    {
     "name": "stdout",
     "output_type": "stream",
     "text": [
      "Coefficient of variation:  [0.25298522]\n"
     ]
    }
   ],
   "source": [
    "print(\"Coefficient of variation: \", stats.variation(df))"
   ]
  },
  {
   "cell_type": "code",
   "execution_count": 1,
   "metadata": {},
   "outputs": [],
   "source": [
    "'''\n",
    "Import here useful libraries\n",
    "Run this cell first for convenience\n",
    "'''\n",
    "import numpy as np\n",
    "from scipy import stats\n",
    "import scipy\n",
    "import warnings\n",
    "warnings.simplefilter('ignore', DeprecationWarning)"
   ]
  },
  {
   "cell_type": "markdown",
   "metadata": {},
   "source": [
    "# Chapter 7 - Statistical Estimation and Sampling Distributions"
   ]
  },
  {
   "cell_type": "markdown",
   "metadata": {},
   "source": [
    "## Point estimates"
   ]
  },
  {
   "cell_type": "markdown",
   "metadata": {},
   "source": [
    "### Parameters"
   ]
  },
  {
   "cell_type": "markdown",
   "metadata": {},
   "source": [
    "- Parameters: term used in statistical inference for a quantity $\\theta$ determining the shape of an unknown probabiity distribution\n",
    "    - Goal: estimate the unknown parameters to obtain the distribution"
   ]
  },
  {
   "cell_type": "markdown",
   "metadata": {},
   "source": [
    "### Statistics"
   ]
  },
  {
   "cell_type": "markdown",
   "metadata": {},
   "source": [
    "- Statistic: function of a random sample (e.g. sample mean, variance, quantile...)\n",
    "- Statistics are random variables whose observed values can be calculated from a set of observed data"
   ]
  },
  {
   "cell_type": "markdown",
   "metadata": {},
   "source": [
    "### Estimation"
   ]
  },
  {
   "cell_type": "markdown",
   "metadata": {},
   "source": [
    "- Estimation: procedure of \"guessing\" properties of the population from which data are collected\n",
    "- Point estimate: statistic $\\hat{\\theta}$ representing a \"best guess\" of the real $\\theta$ value"
   ]
  },
  {
   "cell_type": "markdown",
   "metadata": {},
   "source": [
    "## Properties of Point Estimates"
   ]
  },
  {
   "cell_type": "markdown",
   "metadata": {},
   "source": [
    "### Unbiased Estimates"
   ]
  },
  {
   "cell_type": "markdown",
   "metadata": {},
   "source": [
    "- Unbiased point estimate: a $\\hat{\\theta}$ for a parameter $\\theta$ satisfying:\n",
    "\\begin{equation}\n",
    "    E(\\hat{\\theta}) = \\theta\n",
    "\\end{equation}\n",
    "- Bias definition:\n",
    "\\begin{equation}\n",
    "    bias(\\hat{\\theta}) = E(\\hat{\\theta})-\\theta\n",
    "\\end{equation}\n"
   ]
  },
  {
   "cell_type": "markdown",
   "metadata": {},
   "source": [
    "- Point estimate of a population mean: given a random sample $X_1, \\cdots, X_n$ from a distribution with mean $\\mu$, the sample mean $\\bar{X}$ is an unbiased estimate of $\\mu$\n",
    "- Point  estimate of a population variance: given a random sample $X_1, \\cdots, X_n$ from a distribution with variance $\\sigma ^2$, the sample variance $S ^2$ is an unbiased estimate of $\\sigma ^2$"
   ]
  },
  {
   "cell_type": "markdown",
   "metadata": {},
   "source": [
    "### Minimum Variance Estimates"
   ]
  },
  {
   "cell_type": "markdown",
   "metadata": {},
   "source": [
    "- Minimum variance unbiased estimate: unbiased point estimate whose variance is smaller than any other unbiased point estimate\n"
   ]
  },
  {
   "cell_type": "markdown",
   "metadata": {},
   "source": [
    "### Relative efficiency"
   ]
  },
  {
   "cell_type": "markdown",
   "metadata": {},
   "source": [
    "- Relative efficiency: of an unbiased point estimate $\\hat{\\theta}_1$ to another $\\hat{\\theta}_2$ \n",
    "\\begin{equation}\n",
    "    \\frac{Var(\\hat{\\theta}_2)}{Var(\\hat{\\theta}_1)}\n",
    "\\end{equation}"
   ]
  },
  {
   "cell_type": "markdown",
   "metadata": {},
   "source": [
    "### Mean squared error (MSE)"
   ]
  },
  {
   "cell_type": "markdown",
   "metadata": {},
   "source": [
    "\\begin{equation}\n",
    "    MSE(\\hat{\\theta}) = E( \\hat{\\theta} - \\theta) ^2\n",
    "\\end{equation}\n",
    "- Alternative form: \n",
    "\\begin{equation}\n",
    "    MSE(\\hat{\\theta}) = Var( \\hat{\\theta}) + bias^2 (\\hat{ \\theta })\n",
    "\\end{equation}"
   ]
  },
  {
   "cell_type": "markdown",
   "metadata": {},
   "source": [
    "## Sample Proportion"
   ]
  },
  {
   "cell_type": "markdown",
   "metadata": {},
   "source": [
    "### Sample Proportion"
   ]
  },
  {
   "cell_type": "markdown",
   "metadata": {},
   "source": [
    "- If $X \\sim B(n,p)$ then the sample proportion $\\hat{p} = \\frac{X}{n}$ has approximately the distribution $N(p, \\frac{p(1-p)}{n})$\n",
    "- Standard error of $\\hat{p}$:\n",
    "\\begin{equation}\n",
    "    s.e.(\\hat{p}) = \\sqrt{ \\frac {p(1-p)}{n}}\n",
    "\\end{equation}\n",
    "When $n$ is large, then $s.e.(\\hat{p})$ is approximated by $\\sqrt{ \\frac{ \\hat{p} (1 - \\hat{p} )}{n}}$."
   ]
  },
  {
   "cell_type": "markdown",
   "metadata": {},
   "source": [
    "### Sample Mean"
   ]
  },
  {
   "cell_type": "markdown",
   "metadata": {},
   "source": [
    "- Distribution of sample mean: given $X_1, \\cdots, X_n$ a random sample from a distribution with mean $\\mu$ and variance $\\sigma ^2$, the centra limit theorem says:\n",
    "\\begin{equation}\n",
    "    \\bar{X} \\sim N \\left( \\mu, \\frac{\\sigma^2}{n} \\right) \\text{ for large } n\n",
    "\\end{equation}"
   ]
  },
  {
   "cell_type": "markdown",
   "metadata": {},
   "source": [
    "- Standard error of the sample mean: $s.e.(\\bar{X}) = \\frac{\\sigma}{\\sqrt{n}}$\n",
    "- When $\\sigma$ is unknown and $n$ is large, then the standard error is approximated by $\\frac{s}{\\sqrt{n}}$"
   ]
  },
  {
   "cell_type": "markdown",
   "metadata": {},
   "source": [
    "### Sample Variance"
   ]
  },
  {
   "cell_type": "markdown",
   "metadata": {},
   "source": [
    "- Distribution of sample variance: given $X_1, \\cdots, X_n$ a random sample from $N( \\mu, \\sigma^2)$, then:\n",
    "\\begin{equation}\n",
    "    \\frac{(n-1) S^2}{\\sigma^2} \\sim \\chi _{n-1}^2\n",
    "\\end{equation}"
   ]
  },
  {
   "cell_type": "markdown",
   "metadata": {},
   "source": [
    "- t-statistics: given $X_1, \\cdots, X_n$ a random sample from $N( \\mu, \\sigma^2)$, then\n",
    "\\begin{equation}\n",
    "    T = \\frac{\\sqrt{n}( \\bar{X} - \\mu) }{S} \\sim t_{n-1}\n",
    "\\end{equation}"
   ]
  },
  {
   "cell_type": "markdown",
   "metadata": {},
   "source": [
    "## Constructing Parameter Estimates"
   ]
  },
  {
   "cell_type": "markdown",
   "metadata": {},
   "source": [
    "### The Methods of Moments"
   ]
  },
  {
   "cell_type": "markdown",
   "metadata": {},
   "source": [
    "- Method of Moments point estimate (MME) for one parameter: given a data set of observations $x_1, \\cdots, x_n$ from a probability distribution depending on one parameter $\\theta$, then the MME$(\\hat{\\theta}) of \\theta$ is found by solving the following equation\n",
    "\\begin{equation}\n",
    "    \\bar{x} = E(X)\n",
    "\\end{equation}"
   ]
  },
  {
   "cell_type": "markdown",
   "metadata": {},
   "source": [
    "- Method of Moments point estimate (MME) for two parameters: the unknown parameters can be found as:\n",
    "\\begin{equation}\n",
    "    \\bar{x} = E(X)\n",
    "\\end{equation}\n",
    "and\n",
    "\\begin{equation}\n",
    "    s^2 = Var(X)\n",
    "\\end{equation}"
   ]
  },
  {
   "cell_type": "markdown",
   "metadata": {},
   "source": [
    "### Maximum Likelihood Estimates"
   ]
  },
  {
   "cell_type": "markdown",
   "metadata": {},
   "source": [
    "- Maximum likelihood estimate for one parameter: given a data set of observations $x_1, \\cdots, x_n$ from a probability distribution $f(x; \\theta)$ then\n",
    "\\begin{equation}\n",
    "    \\text{MLE}(\\hat{\\theta}) = \\max_{\\theta}L(\\theta) = \\max_{\\theta} f(x_1; \\theta) \\times \\cdots \\times f(x_m; \\theta)\n",
    "\\end{equation}\n",
    "where $L(\\theta)$ is the likelihood function"
   ]
  },
  {
   "cell_type": "markdown",
   "metadata": {},
   "source": [
    "- Maximum likelihood estimate for two parameters: $\\theta_1$ and $\\theta_2$ are the values of the parameters at which the likelihood function is maximized "
   ]
  },
  {
   "cell_type": "markdown",
   "metadata": {},
   "source": [
    "### MLE for $U(0, \\Theta)$"
   ]
  },
  {
   "cell_type": "markdown",
   "metadata": {},
   "source": [
    "- For some distribution, the MLE may not be found by differentiation and we should look at the curve of the likelihood function itself\n",
    "- MLE of $\\theta = \\max \\{ X_1, \\cdots, X_n \\}$"
   ]
  },
  {
   "cell_type": "code",
   "execution_count": 2,
   "metadata": {},
   "outputs": [],
   "source": [
    "'''\n",
    "Import here useful libraries\n",
    "Run this cell first for convenience\n",
    "'''\n",
    "import numpy as np\n",
    "import pandas as pd\n",
    "import matplotlib.pyplot as plt\n",
    "from scipy import stats\n",
    "import statsmodels.stats.weightstats as sms\n",
    "from scipy.stats import t\n",
    "import math"
   ]
  },
  {
   "cell_type": "markdown",
   "metadata": {},
   "source": [
    "# Chapter 8 - Inferences on a Population Mean"
   ]
  },
  {
   "cell_type": "markdown",
   "metadata": {},
   "source": [
    "## Confidence Intervals"
   ]
  },
  {
   "cell_type": "markdown",
   "metadata": {},
   "source": [
    "- A confidence interval for an unknown parameter θ is an interval that\n",
    "contains a set of plausible values of the parameter\n",
    "- It is associated with a confidence level 1 - α, which measures the\n",
    "probability that the confidence interval actually contains the unknown\n",
    "parameter value\n",
    "- Inference methods on a population mean based upon the t-procedure\n",
    "are appropriate for large sample sizes n ≥ 30 and also for small\n",
    "sample sizes as long as the data can reasonably be taken to be\n",
    "approximately normally distributed"
   ]
  },
  {
   "cell_type": "markdown",
   "metadata": {},
   "source": [
    "### Two-sided t-Interval\n",
    "- A confidence interval with confidence level 1 − α for a\n",
    "population mean $\\mu$ based upon a sample of n continuous data\n",
    "observations with a sample mean $x$ and a sample standard\n",
    "deviation $S$ is\n",
    "$$\\left( \\bar{x} - \\frac{t_{\\alpha/2, n-1} S}{\\sqrt{n}}, \\bar{x} + \\frac{t_{\\alpha/2, n-1} S}{\\sqrt{n}} \\right)$$\n",
    "where\n",
    "$$T = \\frac{\\bar{X} - \\mu}{S/\\sqrt{n}} \\sim t_{n-1}$$\n",
    "- The central limit theorem ensures that the distribution of X is approximately normal for large sample sizes"
   ]
  },
  {
   "cell_type": "markdown",
   "metadata": {},
   "source": [
    "### Interval length\n",
    "$$L = 2 \\times \\frac{t_{\\alpha/2, n-1} S}{\\sqrt{n}}$$\n",
    "If we want to know the interval length smaller than a certain amount, we need at least $n$ samples:\n",
    "$$n \\geq 4 \\times \\frac{t_{\\alpha/2, n-1}^2 S^2}{L_0^2}$$"
   ]
  },
  {
   "cell_type": "markdown",
   "metadata": {},
   "source": [
    "- One-Sided t-Interval: One-sided confidence intervals with\n",
    "confidence levels 1-α for a population mean $\\mu$:\n",
    "$$\\left( -\\infty, \\bar{x} + \\frac{t_{\\alpha, n-1} S}{\\sqrt{n}} \\right)$$\n",
    "for a lower bound and\n",
    "$$\\left( \\bar{x} + \\frac{t_{\\alpha, n-1} S}{\\sqrt{n}}, \\infty \\right)$$\n",
    "for an upper bound"
   ]
  },
  {
   "cell_type": "code",
   "execution_count": 12,
   "metadata": {},
   "outputs": [
    {
     "name": "stdout",
     "output_type": "stream",
     "text": [
      "t-statistics t = -3.7060\n",
      "Confidence interval with 99% confidence level: (-∞)(9.7893)\n"
     ]
    }
   ],
   "source": [
    "n = 40\n",
    "x_bar = 9.39\n",
    "mu_0 = 10\n",
    "s = 1.041\n",
    "alpha = 0.01\n",
    "t_stat = math.sqrt(n)*(x_bar - mu_0)/s\n",
    "crit = t.ppf(1-alpha, n-1)\n",
    "wing_span = crit*s/(math.sqrt(n))\n",
    "print((\"t-statistics t = {:.4f}\").format(t_stat))\n",
    "print((\"Confidence interval with 99% confidence level: (-∞)({:.4f})\").format(x_bar+wing_span))"
   ]
  },
  {
   "cell_type": "markdown",
   "metadata": {},
   "source": [
    "### Z-intervals"
   ]
  },
  {
   "cell_type": "markdown",
   "metadata": {},
   "source": [
    "If we want to construct a confidence interval with a **known** value for the population standard deviation $\\sigma$, then we have\n",
    "$$\\left( \\bar{x} - z_{\\alpha/2}\\frac{\\sigma}{\\sqrt{n}}, \\bar{x} + z_{\\alpha/2}\\frac{\\sigma}{\\sqrt{n}} \\right)$$"
   ]
  },
  {
   "cell_type": "code",
   "execution_count": 13,
   "metadata": {},
   "outputs": [
    {
     "name": "stdout",
     "output_type": "stream",
     "text": [
      "z = 1.6449\n"
     ]
    }
   ],
   "source": [
    "\"\"\"Example: 𝑧_0.05\"\"\"\n",
    "d = stats.norm()\n",
    "print((\"z = {:.4f}\").format(d.ppf(0.95)))"
   ]
  },
  {
   "cell_type": "markdown",
   "metadata": {},
   "source": [
    "## Hypothesis testing\n",
    "- A null hypothesis H 0 for a population mean $\\mu$ is a statement that\n",
    "designates possible values for the population mean.\n",
    "- It is associated with an alternative hypothesis $HA0$ , which is the\n",
    "“opposite” of the null hypothesis."
   ]
  },
  {
   "cell_type": "markdown",
   "metadata": {},
   "source": [
    "### Two-sided set of hypotheses\n",
    "- $H_0: \\mu = \\mu_0$ versus $H_A: \\mu \\neq \\mu_0$\n",
    "### One-sided set of hypoteses\n",
    "Can be either:\n",
    "- $H_0: \\mu \\leq \\mu_0$ versus $H_A: \\mu > \\mu_0$\n",
    "    - or\n",
    "- $H_0: \\mu \\geq \\mu_0$ versus $H_A: \\mu < \\mu_0$\n"
   ]
  },
  {
   "cell_type": "markdown",
   "metadata": {},
   "source": [
    "## Interpretation of $p$-values"
   ]
  },
  {
   "cell_type": "markdown",
   "metadata": {},
   "source": [
    "### Types of error\n",
    "- Type I error: An error committed by rejecting the null hypothesis\n",
    "when it is true.\n",
    "- Type II error: An error committed by accepting the null\n",
    "hypothesis when it is false."
   ]
  },
  {
   "cell_type": "markdown",
   "metadata": {},
   "source": [
    "### Significance level\n",
    "- is specified as the upper bound of the probability of type I error."
   ]
  },
  {
   "cell_type": "markdown",
   "metadata": {},
   "source": [
    "### $p$-values of a test\n",
    "- The p-value of a test is the probability of obtaining a given\n",
    "data set or worse when the null hypothesis is true.\n",
    "A data set can be used to measure the plausibility of null hypothesis $H_0$\n",
    "through the construction of a $p$-value.\n",
    "- The smaller the $p$-value, the less plausible is the null hypothesis."
   ]
  },
  {
   "cell_type": "markdown",
   "metadata": {},
   "source": [
    "### Rejection and acceptance of the Null Hypothesis\n",
    "- Rejection: $p$-value is smaller than the significance level, then $H_0$ is rejected\n",
    "- Acceptance: $p$-value larger than the significance level, then $H_0$ is plausible"
   ]
  },
  {
   "cell_type": "markdown",
   "metadata": {},
   "source": [
    "## Calculation of $p$-values\n",
    "where\n",
    "$$T = \\frac{\\bar{X} - \\mu}{S/\\sqrt{n}} \\sim t_{n-1} $$"
   ]
  },
  {
   "cell_type": "markdown",
   "metadata": {},
   "source": [
    "### Two-sided t-test\n",
    "If we test\n",
    "$H_0: \\mu = \\mu_0$ versus $H_A: \\mu \\neq \\mu_0$\n",
    "then \n",
    "- $p$-value = $2 \\times P(T \\geq \\mid t \\mid)$"
   ]
  },
  {
   "cell_type": "code",
   "execution_count": 9,
   "metadata": {},
   "outputs": [
    {
     "name": "stdout",
     "output_type": "stream",
     "text": [
      "t-statistics T = -3.0608\n",
      "P-value = 0.0044\n"
     ]
    }
   ],
   "source": [
    "\"\"\"𝐻0:𝜇=385, 𝐻𝐴:𝜇≠385\"\"\"\n",
    "n = 33\n",
    "x_bar = 382.97\n",
    "mu_0 = 385\n",
    "s = 3.81\n",
    "alpha = 0.01\n",
    "t_stat = math.sqrt(n)*(x_bar - mu_0)/s\n",
    "print((\"t-statistics T = {:.4f}\").format(t_stat))\n",
    "print((\"P-value = {:.4f}\").format(2*t.sf(abs(t_stat), n-1)))"
   ]
  },
  {
   "cell_type": "markdown",
   "metadata": {},
   "source": [
    "### One-sided t-test\n",
    "If we test\n",
    "$H_0: \\mu \\leq \\mu_0$ versus $H_A: \\mu > \\mu_0$\n",
    "then \n",
    "- $p$-value = $P(T \\geq t)$n = 40\n",
    "\n",
    "If we test\n",
    "$H_0: \\mu \\geq \\mu_0$ versus $H_A: \\mu < \\mu_0$\n",
    "then \n",
    "- $p$-value = $P(T \\leq t)$\n"
   ]
  },
  {
   "cell_type": "code",
   "execution_count": 11,
   "metadata": {},
   "outputs": [
    {
     "name": "stdout",
     "output_type": "stream",
     "text": [
      "t-statistics T = -3.7060\n",
      "P-value = 0.0003\n"
     ]
    }
   ],
   "source": [
    "\"\"\"𝐻0:𝜇≥10, 𝐻𝐴:𝜇<10\"\"\"\n",
    "n = 40\n",
    "x_bar = 9.39\n",
    "mu_0 = 10\n",
    "s = 1.041\n",
    "alpha = 0.01\n",
    "t_stat = math.sqrt(n)*(x_bar - mu_0)/s\n",
    "print((\"t-statistics T = {:.4f}\").format(t_stat))\n",
    "print((\"P-value = {:.4f}\").format(t.cdf(t_stat, n-1)))"
   ]
  },
  {
   "cell_type": "markdown",
   "metadata": {},
   "source": [
    "### Significance level of size $\\alpha$\n",
    "A hypothesis test with a significance level of size α\n",
    "- rejects the null hypothesis $H_0$ if a p-value smaller than α is\n",
    "obtained\n",
    "- accepts the null hypothesis $H_0$ if a p-value larger than α is\n",
    "obtained."
   ]
  },
  {
   "cell_type": "markdown",
   "metadata": {},
   "source": [
    "### Two-sided problems\n",
    "A size $\\alpha$ test for $H_0: \\mu = \\mu_0$ versus $H_A: \\mu \\neq \\mu_0$\n",
    "reject $H_0$ if the test statistics is in the **rejection region**\n",
    "$$R = [t: \\mid t \\mid > t_{\\alpha/2, n-1}]$$\n",
    "and accepts if in the **acceptance region**\n",
    "$$A = [t: \\mid t \\mid \\leq t_{\\alpha/2, n-1}]$$"
   ]
  },
  {
   "cell_type": "markdown",
   "metadata": {},
   "source": [
    "### One-sided problems\n",
    "A size $\\alpha$ test for $H_0: \\mu \\geq \\mu_0$ versus $H_A: \\mu < \\mu_0$\n",
    "rejects $H_0$ if the test statistics is in the **rejection region**\n",
    "$$R = [t:  t < - t_{\\alpha, n-1}]$$\n",
    "and accepts if in the **acceptance region**\n",
    "$$A = [t: t \\geq - t_{\\alpha, n-1}]$$"
   ]
  },
  {
   "cell_type": "code",
   "execution_count": 17,
   "metadata": {},
   "outputs": [
    {
     "name": "stdout",
     "output_type": "stream",
     "text": [
      "Critical point when α/2 = 0.05 = 1.7291\n",
      "Critical point when α/2 = 0.005 = 2.8609\n",
      "p-value = 0.0245\n"
     ]
    }
   ],
   "source": [
    "\"\"\"t =  2.4428\"\"\"\n",
    "print((\"Critical point when α/2 = 0.05 = {:.4f}\").format(t.ppf(0.95, 19)))\n",
    "print((\"Critical point when α/2 = 0.005 = {:.4f}\").format(t.ppf(0.995, 19)))\n",
    "# So the null hypotesis is rejected at size  𝛼=0.10  and accepted for  𝛼=0.01\n",
    "# To verify, we can use the p-value\n",
    "print((\"p-value = {:.4f}\").format(2*t.sf(2.4428, 19)))"
   ]
  },
  {
   "cell_type": "markdown",
   "metadata": {},
   "source": [
    "## $z$-tests "
   ]
  },
  {
   "cell_type": "markdown",
   "metadata": {},
   "source": [
    "- We test similarly to the t-statistics, but with data with sample size $n$ from $N(\\mu, \\sigma^2)$ assuming $\\sigma$ is known\n",
    "- The Z-statistics is given by:\n",
    "$$Z = \\frac{ \\bar{X} - \\mu_0}{\\sigma / \\sqrt{n}}$$"
   ]
  },
  {
   "cell_type": "markdown",
   "metadata": {},
   "source": [
    "## Power of a hypothesis test\n",
    "- Definition: \n",
    "    - power = 1 - P(Type II error $\\mid H_A$)\n",
    "    \n",
    "which is the probability that the null hypothesis is rejected when\n",
    "it is false."
   ]
  },
  {
   "cell_type": "markdown",
   "metadata": {},
   "source": [
    "### Computation of the power of a hypothesis test\n",
    "We want to test $H_0: \\mu = \\mu_0$ vs $H_A: \\mu \\neq \\mu_0$ with significance level $\\alpha$. We assume a sample size $n$ from $N(\\mu, \\sigma^2)$\n",
    "\n",
    "If $\\mu = \\mu^* > \\mu_0, \\beta (\\mu^*) \\Longrightarrow \\beta (\\mu^*) = 1 - P_{\\mu = \\mu^*} ( \\mid Z \\mid \\leq z_{\\alpha/2} )$"
   ]
  },
  {
   "cell_type": "markdown",
   "metadata": {},
   "source": [
    "### Determination of sample size in hypotheses testing\n",
    "- Find $n$ for which $\\beta (\\mu^*) = \\beta^*$ with $\\mu^* > \\mu_0$\n",
    "\n",
    "$$\\sqrt{n} \\approx \\sigma \\frac{ z_{\\alpha / 2} - z_{\\beta^*}}{ \\mu^* - \\mu_0}$$ \n",
    "\n",
    "When $\\mu^* \\rightarrow \\mu_0$, we need more samples"
   ]
  },
  {
   "cell_type": "code",
   "execution_count": 51,
   "metadata": {},
   "outputs": [],
   "source": [
    "# Useful libraries\n",
    "import numpy as np\n",
    "import pandas as pd\n",
    "import matplotlib.pyplot as plt\n",
    "from scipy import stats\n",
    "import statsmodels.stats.weightstats as sms\n",
    "from scipy.stats import t\n",
    "from scipy.stats import norm\n",
    "import math\n",
    "from IPython.display import Math, display"
   ]
  },
  {
   "cell_type": "markdown",
   "metadata": {},
   "source": [
    "# Chapter 9 - Comparing Two Population Means"
   ]
  },
  {
   "cell_type": "markdown",
   "metadata": {},
   "source": [
    "## Introduction"
   ]
  },
  {
   "cell_type": "markdown",
   "metadata": {},
   "source": [
    "### Two Sample Problems\n",
    "Suppose we have:\n",
    "- Set of data observations $x_1, \\dots, x_n$ from a population A with cumulative dist. $F_A(x)$\n",
    "- Set of data observations $y_1, \\dots, y_m$ from a population B with cumulative dist. $F_B(x)$\n",
    "\n",
    "$\\Longrightarrow$ goal: compare the means $\\mu_A$ and $\\mu_B$"
   ]
  },
  {
   "cell_type": "markdown",
   "metadata": {},
   "source": [
    "### Common practices\n",
    "For avoiding biases, we can use:\n",
    "- Randomization\n",
    "- Placebo, blind and double blind experiments"
   ]
  },
  {
   "cell_type": "markdown",
   "metadata": {},
   "source": [
    "### Testing\n",
    "Consider testing $H_0: \\mu = \\mu_0$ versus $H_A: \\mu \\neq \\mu_0$\n",
    "\n",
    "$\\Longrightarrow$ the $p$-value can be found in the same way as for one-sample problems"
   ]
  },
  {
   "cell_type": "markdown",
   "metadata": {},
   "source": [
    "### Paired Samples Versus Independent Samples\n",
    "- Data from paired samples are of the form $(x_1, y_1), (x_2, y_2), \\dots, x_n, y_n)$ from each $n$ experimental subjects (i.e. test heart rate reduction in each patient)\n",
    "- Blocking: keep out all unwanted influences\n",
    "- Comparison is done via the pairwise differences $z_i = x_i - y_i, 1 \\leq i \\leq n$"
   ]
  },
  {
   "cell_type": "markdown",
   "metadata": {},
   "source": [
    "## Analysis of Paired Samples\n"
   ]
  },
  {
   "cell_type": "markdown",
   "metadata": {},
   "source": [
    "### Methodology\n",
    "- Data: $(x_1, y_1), (x_2, y_2), \\dots, x_n, y_n)$ $\\Longrightarrow z_i = x_i - y_i, 1 \\leq i \\leq n$\n",
    "- $x_i = \\mu_A + \\gamma_i + \\epsilon_I^A$\n",
    "- $y_i = \\mu_B + \\gamma_i + \\epsilon_I^B$\n",
    "\n",
    "where $\\mu_A$ (or $\\mu_B$) are the effects of the treatments A or B, $\\gamma_i$ effects by subject I, $\\epsilon_i^A \\sim N(0, \\sigma^2_A)$ are measurement errors for subject I under treatment i.e. A (similarly for B)\n",
    "\n",
    "- $\\Longrightarrow z_i = \\mu_A - \\mu_B + \\epsilon_i^{AB}$ are observations from a distribution with mean $\\mu = \\mu_A - \\mu_B$"
   ]
  },
  {
   "cell_type": "code",
   "execution_count": 57,
   "metadata": {},
   "outputs": [
    {
     "name": "stdout",
     "output_type": "stream",
     "text": [
      "Mean = 1.3750\n",
      "Standard deviation = 1.7847\n",
      "t-statistics: 2.1792\n",
      "p-value = 0.0329\n"
     ]
    }
   ],
   "source": [
    "# Parameter\n",
    "data_A = np.array([23.6, 27.9, 22.9, 21.8, 25.8, 30.7, 26.5, 25.4])\n",
    "data_B = np.array([22.5, 25.6, 24.0, 20.4, 26.0, 26.6, 26.4, 22.1])\n",
    "z = data_A - data_B\n",
    "\n",
    "# Mean\n",
    "z_bar = z.mean(); s = z.std(ddof=1) # Same as pandas\n",
    "print('Mean = {:.4f}\\nStandard deviation = {:.4f}'.format(z_bar, s))\n",
    "\n",
    "\"\"\" We test\n",
    "$H_0 : \\mu \\leq 0$\n",
    "$H_A : \\mu > 0$ \"\"\"\n",
    "n = len(z)\n",
    "mu = 0\n",
    "t_stat = math.sqrt(n)*(z_bar - mu)/s\n",
    "print('t-statistics: {:.4f}'.format(t_stat))\n",
    "print((\"p-value = {:.4f}\".format(t.sf(t_stat, n-1))))"
   ]
  },
  {
   "cell_type": "markdown",
   "metadata": {},
   "source": [
    "## Analysis of Independent Samples"
   ]
  },
  {
   "cell_type": "markdown",
   "metadata": {},
   "source": [
    "|    Population          | Samples                | Size | Mean          | Standard deviation |\n",
    "|--------------|------------------------|------|---------------|--------------------|\n",
    "| Population A | $$x_1, x_2,\\dots, x_n$$ | n    | $\\overline x$ | $s_x$              |\n",
    "| Population B | $$y_1, y_2,\\dots, y_m$$ | m    | $\\overline y$ | $s_y$              |"
   ]
  },
  {
   "cell_type": "markdown",
   "metadata": {},
   "source": [
    "Point estimate $\\mu_A - \\mu_B = \\overline x - \\overline y$\n",
    "Standard error $se(\\overline x - \\overline y) = \\sqrt{\\frac{\\sigma^2_A}{n} + \\frac{\\sigma^2_B}{m}}$\n",
    "\n",
    "Assume $\\sigma_A^2$ and $\\sigma_B^2$ are unknown. Then we have:\n",
    "- General procedure:\n",
    "$$se(\\overline x - \\overline y) = \\sqrt{\\frac{s^2_x}{n} + \\frac{s^2_x}{m}}$$\n",
    "- Pooled variance procedure:\n",
    "$$se(\\overline x - \\overline y) = s_p \\sqrt{\\frac{1}{n} + \\frac{1}{m}}$$\n",
    "where $s_p^2 = \\frac{(n-1)s_x^2 + (m-1) s_y^2}{n+m-2}$\n",
    "- When the variances are known, we use a two-sample z-test."
   ]
  },
  {
   "cell_type": "markdown",
   "metadata": {},
   "source": [
    "### General Procedure (Smith-Satterthwaite test)\n",
    "- We use the statistics\n",
    "$$T = \\frac{ \\bar{x} - \\bar{y} - (\\mu_A - \\mu_B)}{\\sqrt{\\frac{s_x^2}{n} + \\frac{s_y^2}{m}}}$$\n",
    "\n",
    "- This statistic follows approximately t-distribution with the d.f. $\\nu$  as the\n",
    "largest integer not larger than\n",
    "$$v^* = \\frac{ (s_x^2 / n + s_y^2 /m ) ^2}{ s_x^4/ n^2(n-1) + s_y^4 / m^2(m-1) }$$\n",
    "\n",
    "- Two sided $1-\\alpha$ level of confidence iunterval for $\\mu_A - \\mu_B$ is given by\n",
    "$$\\overline x - \\overline y \\pm t_{\\alpha/2, \\nu} \\sqrt{\\frac{s_x^2}{n} + \\frac{s_y^2}{m}}$$\n"
   ]
  },
  {
   "cell_type": "code",
   "execution_count": 76,
   "metadata": {},
   "outputs": [
    {
     "data": {
      "text/latex": [
       "$\\displaystyle v = 25$"
      ],
      "text/plain": [
       "<IPython.core.display.Math object>"
      ]
     },
     "metadata": {},
     "output_type": "display_data"
    },
    {
     "name": "stdout",
     "output_type": "stream",
     "text": [
      "Confidence interval with 99.00% confidence level: (-14.0440)(-3.9560)\n"
     ]
    }
   ],
   "source": [
    "# Population A\n",
    "n = 14; x_bar = 32.45; s_x = 4.30\n",
    "\n",
    "# Population B\n",
    "m = 14; y_bar = 41.45; s_y = 5.23\n",
    "\n",
    "alpha = 0.01 # = 1 - confidence level\n",
    "\n",
    "def degrees_of_freedom(n, m, s_x, s_y):\n",
    "    nu =  ((s_x**2/n + s_y**2/m)**2) / ( s_x**4 / (n**2*(n-1)) + s_y**4 / (m**2*(m-1)))\n",
    "    return math.floor(nu)\n",
    "\n",
    "def wing_span(alpha, nu, n, m, s_x, s_y):\n",
    "    return t.ppf(1-alpha/2, nu) * math.sqrt( s_x**2/n + s_y**2/m)\n",
    "\n",
    "def print_confidence_interval(alpha, mu, wing_span):\n",
    "    print((\"Confidence interval with {:.2f}% confidence level: ({:.4f})({:.4f})\").format(((1-alpha)*100), mu - wing_span, mu + wing_span))\n",
    "\n",
    "# Calculations\n",
    "diff = x_bar - y_bar\n",
    "nu = degrees_of_freedom( n, m, s_x, s_y)\n",
    "wing_span = wing_span(alpha, nu, n, m, s_x, s_y)\n",
    "display(Math('v = {}'.format(nu)))\n",
    "print_confidence_interval(alpha, diff, wing_span)"
   ]
  },
  {
   "cell_type": "markdown",
   "metadata": {},
   "source": [
    "- For testing $H_0: \\mu_A - \\mu_B = \\delta$ vs $H_A: \\mu_A - \\mu_B \\neq \\delta$ the t-statistic is\n",
    "$$T = \\frac{( \\bar{x} - \\bar{y} - \\delta)}{\\sqrt{\\frac{s_x^2}{n} + \\frac{s_y^2}{m}}}$$"
   ]
  },
  {
   "cell_type": "code",
   "execution_count": 77,
   "metadata": {},
   "outputs": [
    {
     "name": "stdout",
     "output_type": "stream",
     "text": [
      "|t| value: 4.9736 \n",
      "Critical point: 2.7787\n"
     ]
    }
   ],
   "source": [
    "\"\"\"Hypotheses:\n",
    "- $H_0 : \\mu_A = \\mu_B$\n",
    "- $H_A : \\mu_A \\neq \\mu_B$\"\"\"\n",
    "\n",
    "# Calculate the t-statistics general\n",
    "def T_statistic_general(x_bar, y_bar, s_x, s_y, n, m, delta= 0):\n",
    "    return ( (x_bar - y_bar - delta)  / math.sqrt(s_x**2/n + s_y**2/m))\n",
    "\n",
    "t_stat = T_statistic_general(x_bar, y_bar, s_x, s_y, n, m, delta= 0)\n",
    "print(\"|t| value: {:.4f} \".format(abs(t_stat)))\n",
    "print(\"Critical point: {:.4f}\".format(t.ppf(1- alpha/2, n + m -2 )))"
   ]
  },
  {
   "cell_type": "markdown",
   "metadata": {},
   "source": [
    "### Pooled Variance Procedure\n",
    "- Assume $\\sigma_A^2 = \\sigma_B^2 = \\sigma^2$\n",
    "\n",
    "- Unbiased estimate of $\\hat{\\sigma}^2$ of $\\sigma^2$ is given by:\n",
    "$$s_p^2 = \\frac{(n-1)s_x^2 + (m-1) s_y^2}{n+m-2}$$\n",
    "\n",
    "- t-statistics becomes\n",
    "$$T = \\frac{ \\overline x - \\overline y - (\\mu_A  - \\mu_B)}{s_p \\sqrt{\\frac{1}{n} + \\frac{1}{m}} } \\sim t_{n+m-2}$$\n",
    "\n",
    "- A two-sided $1-\\alpha$ level confidence interval for $\\mu_A - \\mu_B$ is given by the end-points\n",
    "$$\\overline x - \\overline y \\pm t_{\\alpha/2, n+m-2} s_p \\sqrt{ \\frac{1}{n} + \\frac{1}{m} }$$"
   ]
  },
  {
   "cell_type": "code",
   "execution_count": 74,
   "metadata": {},
   "outputs": [
    {
     "name": "stdout",
     "output_type": "stream",
     "text": [
      "Confidence interval with 99.00% confidence level: (-14.0282)(-3.9718)\n"
     ]
    }
   ],
   "source": [
    "# Population A\n",
    "n = 14; x_bar = 32.45; s_x = 4.30\n",
    "\n",
    "# Population B\n",
    "m = 14; y_bar = 41.45; s_y = 5.23\n",
    "\n",
    "alpha = 0.01 # = 1 - confidence level\n",
    "\n",
    "# Pooled variance\n",
    "def pooled_variance(n, m, s_x, s_y):\n",
    "    return ( ((n-1)*s_x**2 + (m-1)*s_y**2) / (n+m-2))\n",
    "\n",
    "def wing_span(s_p, n, m, alpha):\n",
    "    return t.ppf(1-alpha/2, n+m-2) * s_p*math.sqrt(1/n + 1/m)\n",
    "\n",
    "def print_confidence_interval(alpha, mu, wing_span):\n",
    "    print((\"Confidence interval with {:.2f}% confidence level: ({:.4f})({:.4f})\").format(((1-alpha)*100), mu - wing_span, mu + wing_span))\n",
    "    \n",
    "diff = x_bar - y_bar\n",
    "s_p = math.sqrt(pooled_variance(n, m, s_x, s_y))\n",
    "wing_span = wing_span(s_p, n, m, alpha)\n",
    "print_confidence_interval(alpha, diff, wing_span)"
   ]
  },
  {
   "cell_type": "markdown",
   "metadata": {},
   "source": [
    "- For testing $H_0: \\mu_A - \\mu_B = \\delta$ vs $H_A: \\mu_A - \\mu_B \\neq \\delta$ the t-statistic is\n",
    "$$T = \\frac{( \\bar{x} - \\bar{y} - \\delta)}{s_p \\sqrt{\\frac{1}{n} + \\frac{1}{m}}}$$"
   ]
  },
  {
   "cell_type": "code",
   "execution_count": 79,
   "metadata": {},
   "outputs": [
    {
     "name": "stdout",
     "output_type": "stream",
     "text": [
      "|t| value: 4.9736 \n",
      "Critical point: 2.7787\n"
     ]
    }
   ],
   "source": [
    "\"\"\"Hypotheses:\n",
    "- $H_0 : \\mu_A = \\mu_B$\n",
    "- $H_A : \\mu_A \\neq \\mu_B$\"\"\"\n",
    "\n",
    "# Calculate the t-statistics\n",
    "def T_statistic_pooled(x_bar, y_bar, s_p, n, m, delta= 0):\n",
    "    return ( (x_bar - y_bar - delta)  / (s_p * math.sqrt(1/n + 1/m)))\n",
    "\n",
    "t_stat = T_statistic_pooled(x_bar, y_bar, s_p, n, m, delta= 0)\n",
    "print(\"|t| value: {:.4f} \".format(abs(t_stat)))\n",
    "print(\"Critical point: {:.4f}\".format(t.ppf(1- alpha/2, n + m -2 )))"
   ]
  },
  {
   "cell_type": "markdown",
   "metadata": {},
   "source": [
    "### z-Procedure\n",
    "- When the population variances are known for the two samples, we can\n",
    "use a z-statistic instead of a t-statistic.\n",
    "\n",
    "- A two-sided 1 − α level confidence interval for $\\mu_A - \\mu_B$ is given by\n",
    "the end-points\n",
    "$$\\overline x - \\overline y \\pm z_{\\alpha/2}\\sqrt{ \\frac{\\sigma^2_A}{n} + \\frac{\\sigma^2_B}{m} }$$\n",
    "\n",
    "- For testing $H_0: \\mu_A - \\mu_B = \\delta$ versus $H_A: \\mu_A - \\mu_B \\neq \\delta$ we use\n",
    "$$Z = \\frac{\\overline x - \\overline y - \\delta}{ \\sqrt{ \\frac{\\sigma^2_A}{n} + \\frac{\\sigma^2_B}{m} } } \\sim N(0,1)$$ under $H_0$"
   ]
  },
  {
   "cell_type": "code",
   "execution_count": 86,
   "metadata": {},
   "outputs": [
    {
     "name": "stdout",
     "output_type": "stream",
     "text": [
      "Z-statistics: -1.4590\n",
      "p-value: 0.0723 \n",
      "Confidence interval with 99.00% confidence level: (-∞)(0.3930)\n"
     ]
    }
   ],
   "source": [
    "# Population A\n",
    "n = 38; x_bar = 5.782; sigma_x= 2.0\n",
    "\n",
    "# Population B\n",
    "m = 40; y_bar = 6.443; sigma_y= 2.0\n",
    "\n",
    "alpha = 0.01 # = 1 - confidence level\n",
    "\n",
    "# Calculate the Z-statistics\n",
    "def Z_statistic(x_bar, y_bar, s_x, s_y, n, m, delta = 0):\n",
    "    return ( (x_bar - y_bar - delta)  / math.sqrt(s_x**2/n + s_y**2/m))\n",
    "\n",
    "Z_stat = Z_statistic(x_bar, y_bar, sigma_x, sigma_y, n, m)\n",
    "print(\"Z-statistics: {:.4f}\".format(Z_stat))\n",
    "print(\"p-value: {:.4f} \".format(norm.cdf(Z_stat)))\n",
    "\n",
    "def wing_span(alpha, n, m, s_x, s_y):\n",
    "    return norm.ppf(1-alpha) * math.sqrt( s_x**2/n + s_y**2/m)\n",
    "\n",
    "def print_confidence_interval(alpha, mu, wing_span, lower_bound = False, upper_bound = False):\n",
    "    if upper_bound:\n",
    "        print((\"Confidence interval with {:.2f}% confidence level: (-∞)({:.4f})\").format(((1-alpha)*100), mu + wing_span))\n",
    "        return\n",
    "    if lower_bound:\n",
    "        print((\"Confidence interval with {:.2f}% confidence level: ({:.4f})(∞))\").format(((1-alpha)*100), mu - wing_span))\n",
    "        return\n",
    "    # Default case: double bounded\n",
    "    print((\"Confidence interval with {:.2f}% confidence level: ({:.4f})({:.4f})\").format(((1-alpha)*1, mu - wing_span, mu + wing_span)))\n",
    "\n",
    "\"\"\"Hypotheses:\n",
    "- $H_0 : \\mu_A > \\mu_B$''\n",
    "- $H_A : \\mu_A >= \\mu_B$\"\"\"\n",
    "diff = x_bar - y_bar\n",
    "wing_span = wing_span(alpha, n, m, sigma_x, sigma_y)\n",
    "print_confidence_interval(alpha, diff, wing_span, upper_bound = True)"
   ]
  },
  {
   "cell_type": "markdown",
   "metadata": {},
   "source": [
    "### Interval length\n",
    "- The interval length (suppose we are using the general procedure) is:\n",
    "$$L = 2 \\times t_{\\alpha / 2, \\nu}  \\sqrt{ \\frac{s_A^2}{n} + \\frac{s_B^2}{m}}$$\n",
    "\n",
    "- Then the minimum number of samples  will be (supposing n = m)\n",
    "$$n = m \\geq \\frac{4t_{\\alpha / 2, \\nu} (s^2_A + s^2_B)}{L_0^2}$$"
   ]
  },
  {
   "cell_type": "markdown",
   "metadata": {},
   "source": [
    "# Assignment"
   ]
  },
  {
   "cell_type": "markdown",
   "metadata": {},
   "source": [
    "## Q3. "
   ]
  },
  {
   "cell_type": "markdown",
   "metadata": {},
   "source": [
    "##### a. Using the teachers' rating dataset, what is the probability of receiving an evaluation score of greater than 3.5\n",
    "Hints: make use of normal distibution"
   ]
  },
  {
   "cell_type": "code",
   "execution_count": 3,
   "metadata": {},
   "outputs": [],
   "source": [
    "# Answer here"
   ]
  },
  {
   "cell_type": "markdown",
   "metadata": {},
   "source": [
    "##### b. Using the teachers' rating dataset, what is the probability of receiving an evaluation score greater than 3.5 and less than 4.2.\n",
    "Hints: make use of normal distibution"
   ]
  },
  {
   "cell_type": "code",
   "execution_count": 1,
   "metadata": {},
   "outputs": [],
   "source": [
    "# Answer here"
   ]
  },
  {
   "cell_type": "markdown",
   "metadata": {},
   "source": [
    "## Q4."
   ]
  },
  {
   "cell_type": "markdown",
   "metadata": {},
   "source": [
    "##### a. T-Test: Using the teachers' rating data set, does gender affect teaching evaluation rates?"
   ]
  },
  {
   "cell_type": "code",
   "execution_count": null,
   "metadata": {},
   "outputs": [],
   "source": [
    "# Answer here"
   ]
  },
  {
   "cell_type": "markdown",
   "metadata": {},
   "source": [
    "##### b. A institute claims that the mean score of students in its institute is greater than 83 with a standard deviation of 20. If a sample of 82 students was selected with a mean score of 91 then check if there is enough evidence to support this claim at a 0.05 significance level. (Hints: make use of z-test)"
   ]
  },
  {
   "cell_type": "code",
   "execution_count": 2,
   "metadata": {},
   "outputs": [],
   "source": [
    "# Answer here"
   ]
  },
  {
   "cell_type": "code",
   "execution_count": null,
   "metadata": {},
   "outputs": [],
   "source": []
  }
 ],
 "metadata": {
  "kernelspec": {
   "display_name": "Python 3",
   "language": "python",
   "name": "python3"
  },
  "language_info": {
   "codemirror_mode": {
    "name": "ipython",
    "version": 3
   },
   "file_extension": ".py",
   "mimetype": "text/x-python",
   "name": "python",
   "nbconvert_exporter": "python",
   "pygments_lexer": "ipython3",
   "version": "3.8.5"
  },
  "toc-autonumbering": true,
  "toc-showcode": false,
  "toc-showmarkdowntxt": false,
  "toc-showtags": false
 },
 "nbformat": 4,
 "nbformat_minor": 4
}
